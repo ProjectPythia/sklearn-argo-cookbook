{
 "cells": [
  {
   "cell_type": "markdown",
   "metadata": {},
   "source": [
    "Let's start here! If you can directly link to an image relevant to your notebook, such as [canonical logos](https://github.com/numpy/numpy/blob/main/doc/source/_static/numpylogo.svg), do so here at the top of your notebook. You can do this with Markdown syntax,\n",
    "\n",
    "> `![<image title>](http://link.com/to/image.png \"image alt text\")`\n",
    "\n",
    "or edit this cell to see raw HTML `img` demonstration. This is preferred if you need to shrink your embedded image. **Either way be sure to include `alt` text for any embedded images to make your content more accessible.**\n",
    "\n",
    "<img src=\"images/ProjectPythia_Logo_Final-01-Blue.svg\" width=250 alt=\"Project Pythia Logo\"></img>"
   ]
  },
  {
   "cell_type": "markdown",
   "metadata": {},
   "source": [
    "# Accessing Argo Data"
   ]
  },
  {
   "cell_type": "markdown",
   "metadata": {},
   "source": [
    "---"
   ]
  },
  {
   "cell_type": "markdown",
   "metadata": {},
   "source": [
    "## Overview\n",
    "\n",
    "Building upon previous notebook, [Introduction to Argo](notebooks/argo-introduction.ipynb), we next explore how to access Argo data in a few different ways. \n",
    "\n",
    "1. Data formats for Argo profiles\n",
    "2. Downloading [monthly snapshots](http://www.argodatamgt.org/Access-to-data/Argo-DOI-Digital-Object-Identifier) using Argo DOI's\n",
    "3. Using [Argovis](https://argovis.colorado.edu/argo) for API-based queries \n",
    "4. Using the [GO-BGC Toolbox](https://github.com/go-bgc/workshop-python)\n",
    "5. Using [Argopy](https://argopy.readthedocs.io/en/latest/user-guide/fetching-argo-data/index.html), a dedicated Python package\n",
    "\n",
    "After going through this notebook, you will be able to retrieve Argo data of interest within a certain time frame, geographical location, or by platform identifier. There are many ways of working with Argo data which are not described here. \n",
    "Further information on Argo access can be found on the [Argo website](https://argo.ucsd.edu/data/)."
   ]
  },
  {
   "cell_type": "markdown",
   "metadata": {},
   "source": [
    "## Prerequisites\n",
    "\n",
    "Label the importance of each concept explicitly as **helpful/necessary**.\n",
    "\n",
    "| Concepts | Importance | Notes |\n",
    "| --- | --- | --- |\n",
    "| [Intro to Numpy](https://numpy.org/learn/) | Necessary | |\n",
    "| [Intro to NetCDF](https://foundations.projectpythia.org/core/data-formats/netcdf-cf.html) | Necessary | Familiarity with metadata structure |\n",
    "| [Intro to Xarray](https://foundations.projectpythia.org/core/xarray.html) | Necessary | |\n",
    "\n",
    "- **Time to learn**: 20 min\n"
   ]
  },
  {
   "cell_type": "markdown",
   "metadata": {},
   "source": [
    "---"
   ]
  },
  {
   "cell_type": "markdown",
   "metadata": {},
   "source": [
    "## Imports\n",
    "Begin your body of content with another `---` divider before continuing into this section, then remove this body text and populate the following code cell with all necessary Python imports **up-front**:"
   ]
  },
  {
   "cell_type": "code",
   "execution_count": 1,
   "metadata": {},
   "outputs": [
    {
     "ename": "ModuleNotFoundError",
     "evalue": "No module named 'argovisHelpers'",
     "output_type": "error",
     "traceback": [
      "\u001b[0;31m---------------------------------------------------------------------------\u001b[0m",
      "\u001b[0;31mModuleNotFoundError\u001b[0m                       Traceback (most recent call last)",
      "Cell \u001b[0;32mIn[1], line 14\u001b[0m\n\u001b[1;32m     11\u001b[0m \u001b[38;5;28;01mimport\u001b[39;00m \u001b[38;5;21;01mmatplotlib\u001b[39;00m\u001b[38;5;21;01m.\u001b[39;00m\u001b[38;5;21;01mcolors\u001b[39;00m \u001b[38;5;28;01mas\u001b[39;00m \u001b[38;5;21;01mmcolors\u001b[39;00m\n\u001b[1;32m     12\u001b[0m \u001b[38;5;28;01mimport\u001b[39;00m \u001b[38;5;21;01mseaborn\u001b[39;00m \u001b[38;5;28;01mas\u001b[39;00m \u001b[38;5;21;01msns\u001b[39;00m\n\u001b[0;32m---> 14\u001b[0m \u001b[38;5;28;01mfrom\u001b[39;00m \u001b[38;5;21;01margovisHelpers\u001b[39;00m \u001b[38;5;28;01mimport\u001b[39;00m helpers \u001b[38;5;28;01mas\u001b[39;00m avh\n",
      "\u001b[0;31mModuleNotFoundError\u001b[0m: No module named 'argovisHelpers'"
     ]
    }
   ],
   "source": [
    "# Import packages\n",
    "import sys\n",
    "import os\n",
    "import numpy as np\n",
    "import pandas as pd\n",
    "import scipy\n",
    "import xarray as xr\n",
    "from datetime import datetime, timedelta\n",
    "\n",
    "import matplotlib.pyplot as plt\n",
    "import matplotlib.colors as mcolors\n",
    "import seaborn as sns\n",
    "\n",
    "from argovisHelpers import helpers as avh"
   ]
  },
  {
   "cell_type": "markdown",
   "metadata": {},
   "source": [
    "## Snapshots"
   ]
  },
  {
   "cell_type": "code",
   "execution_count": 2,
   "metadata": {},
   "outputs": [],
   "source": [
    "# # Base filepath. Need for Argo GDAC function.\n",
    "root = '/Users/sangminsong/Library/CloudStorage/OneDrive-UW/Code/2024_Pythia/'\n",
    "profile_dir = root + 'SOCCOM_GO-BGC_LoResQC_LIAR_28Aug2023_netcdf/'"
   ]
  },
  {
   "cell_type": "code",
   "execution_count": 6,
   "metadata": {},
   "outputs": [],
   "source": [
    "DSdict = {}\n",
    "for filename in os.listdir(profile_dir):\n",
    "    if filename.endswith(\".nc\"):\n",
    "        fp = profile_dir + filename\n",
    "        single_dataset = xr.open_dataset(fp, decode_times=False)\n",
    "        DSdict[filename[0:7]] = single_dataset\n",
    "# DSdict['5906030']"
   ]
  },
  {
   "cell_type": "code",
   "execution_count": 9,
   "metadata": {},
   "outputs": [
    {
     "data": {
      "text/html": [
       "<div><svg style=\"position: absolute; width: 0; height: 0; overflow: hidden\">\n",
       "<defs>\n",
       "<symbol id=\"icon-database\" viewBox=\"0 0 32 32\">\n",
       "<path d=\"M16 0c-8.837 0-16 2.239-16 5v4c0 2.761 7.163 5 16 5s16-2.239 16-5v-4c0-2.761-7.163-5-16-5z\"></path>\n",
       "<path d=\"M16 17c-8.837 0-16-2.239-16-5v6c0 2.761 7.163 5 16 5s16-2.239 16-5v-6c0 2.761-7.163 5-16 5z\"></path>\n",
       "<path d=\"M16 26c-8.837 0-16-2.239-16-5v6c0 2.761 7.163 5 16 5s16-2.239 16-5v-6c0 2.761-7.163 5-16 5z\"></path>\n",
       "</symbol>\n",
       "<symbol id=\"icon-file-text2\" viewBox=\"0 0 32 32\">\n",
       "<path d=\"M28.681 7.159c-0.694-0.947-1.662-2.053-2.724-3.116s-2.169-2.030-3.116-2.724c-1.612-1.182-2.393-1.319-2.841-1.319h-15.5c-1.378 0-2.5 1.121-2.5 2.5v27c0 1.378 1.122 2.5 2.5 2.5h23c1.378 0 2.5-1.122 2.5-2.5v-19.5c0-0.448-0.137-1.23-1.319-2.841zM24.543 5.457c0.959 0.959 1.712 1.825 2.268 2.543h-4.811v-4.811c0.718 0.556 1.584 1.309 2.543 2.268zM28 29.5c0 0.271-0.229 0.5-0.5 0.5h-23c-0.271 0-0.5-0.229-0.5-0.5v-27c0-0.271 0.229-0.5 0.5-0.5 0 0 15.499-0 15.5 0v7c0 0.552 0.448 1 1 1h7v19.5z\"></path>\n",
       "<path d=\"M23 26h-14c-0.552 0-1-0.448-1-1s0.448-1 1-1h14c0.552 0 1 0.448 1 1s-0.448 1-1 1z\"></path>\n",
       "<path d=\"M23 22h-14c-0.552 0-1-0.448-1-1s0.448-1 1-1h14c0.552 0 1 0.448 1 1s-0.448 1-1 1z\"></path>\n",
       "<path d=\"M23 18h-14c-0.552 0-1-0.448-1-1s0.448-1 1-1h14c0.552 0 1 0.448 1 1s-0.448 1-1 1z\"></path>\n",
       "</symbol>\n",
       "</defs>\n",
       "</svg>\n",
       "<style>/* CSS stylesheet for displaying xarray objects in jupyterlab.\n",
       " *\n",
       " */\n",
       "\n",
       ":root {\n",
       "  --xr-font-color0: var(--jp-content-font-color0, rgba(0, 0, 0, 1));\n",
       "  --xr-font-color2: var(--jp-content-font-color2, rgba(0, 0, 0, 0.54));\n",
       "  --xr-font-color3: var(--jp-content-font-color3, rgba(0, 0, 0, 0.38));\n",
       "  --xr-border-color: var(--jp-border-color2, #e0e0e0);\n",
       "  --xr-disabled-color: var(--jp-layout-color3, #bdbdbd);\n",
       "  --xr-background-color: var(--jp-layout-color0, white);\n",
       "  --xr-background-color-row-even: var(--jp-layout-color1, white);\n",
       "  --xr-background-color-row-odd: var(--jp-layout-color2, #eeeeee);\n",
       "}\n",
       "\n",
       "html[theme=dark],\n",
       "body[data-theme=dark],\n",
       "body.vscode-dark {\n",
       "  --xr-font-color0: rgba(255, 255, 255, 1);\n",
       "  --xr-font-color2: rgba(255, 255, 255, 0.54);\n",
       "  --xr-font-color3: rgba(255, 255, 255, 0.38);\n",
       "  --xr-border-color: #1F1F1F;\n",
       "  --xr-disabled-color: #515151;\n",
       "  --xr-background-color: #111111;\n",
       "  --xr-background-color-row-even: #111111;\n",
       "  --xr-background-color-row-odd: #313131;\n",
       "}\n",
       "\n",
       ".xr-wrap {\n",
       "  display: block !important;\n",
       "  min-width: 300px;\n",
       "  max-width: 700px;\n",
       "}\n",
       "\n",
       ".xr-text-repr-fallback {\n",
       "  /* fallback to plain text repr when CSS is not injected (untrusted notebook) */\n",
       "  display: none;\n",
       "}\n",
       "\n",
       ".xr-header {\n",
       "  padding-top: 6px;\n",
       "  padding-bottom: 6px;\n",
       "  margin-bottom: 4px;\n",
       "  border-bottom: solid 1px var(--xr-border-color);\n",
       "}\n",
       "\n",
       ".xr-header > div,\n",
       ".xr-header > ul {\n",
       "  display: inline;\n",
       "  margin-top: 0;\n",
       "  margin-bottom: 0;\n",
       "}\n",
       "\n",
       ".xr-obj-type,\n",
       ".xr-array-name {\n",
       "  margin-left: 2px;\n",
       "  margin-right: 10px;\n",
       "}\n",
       "\n",
       ".xr-obj-type {\n",
       "  color: var(--xr-font-color2);\n",
       "}\n",
       "\n",
       ".xr-sections {\n",
       "  padding-left: 0 !important;\n",
       "  display: grid;\n",
       "  grid-template-columns: 150px auto auto 1fr 20px 20px;\n",
       "}\n",
       "\n",
       ".xr-section-item {\n",
       "  display: contents;\n",
       "}\n",
       "\n",
       ".xr-section-item input {\n",
       "  display: none;\n",
       "}\n",
       "\n",
       ".xr-section-item input + label {\n",
       "  color: var(--xr-disabled-color);\n",
       "}\n",
       "\n",
       ".xr-section-item input:enabled + label {\n",
       "  cursor: pointer;\n",
       "  color: var(--xr-font-color2);\n",
       "}\n",
       "\n",
       ".xr-section-item input:enabled + label:hover {\n",
       "  color: var(--xr-font-color0);\n",
       "}\n",
       "\n",
       ".xr-section-summary {\n",
       "  grid-column: 1;\n",
       "  color: var(--xr-font-color2);\n",
       "  font-weight: 500;\n",
       "}\n",
       "\n",
       ".xr-section-summary > span {\n",
       "  display: inline-block;\n",
       "  padding-left: 0.5em;\n",
       "}\n",
       "\n",
       ".xr-section-summary-in:disabled + label {\n",
       "  color: var(--xr-font-color2);\n",
       "}\n",
       "\n",
       ".xr-section-summary-in + label:before {\n",
       "  display: inline-block;\n",
       "  content: '►';\n",
       "  font-size: 11px;\n",
       "  width: 15px;\n",
       "  text-align: center;\n",
       "}\n",
       "\n",
       ".xr-section-summary-in:disabled + label:before {\n",
       "  color: var(--xr-disabled-color);\n",
       "}\n",
       "\n",
       ".xr-section-summary-in:checked + label:before {\n",
       "  content: '▼';\n",
       "}\n",
       "\n",
       ".xr-section-summary-in:checked + label > span {\n",
       "  display: none;\n",
       "}\n",
       "\n",
       ".xr-section-summary,\n",
       ".xr-section-inline-details {\n",
       "  padding-top: 4px;\n",
       "  padding-bottom: 4px;\n",
       "}\n",
       "\n",
       ".xr-section-inline-details {\n",
       "  grid-column: 2 / -1;\n",
       "}\n",
       "\n",
       ".xr-section-details {\n",
       "  display: none;\n",
       "  grid-column: 1 / -1;\n",
       "  margin-bottom: 5px;\n",
       "}\n",
       "\n",
       ".xr-section-summary-in:checked ~ .xr-section-details {\n",
       "  display: contents;\n",
       "}\n",
       "\n",
       ".xr-array-wrap {\n",
       "  grid-column: 1 / -1;\n",
       "  display: grid;\n",
       "  grid-template-columns: 20px auto;\n",
       "}\n",
       "\n",
       ".xr-array-wrap > label {\n",
       "  grid-column: 1;\n",
       "  vertical-align: top;\n",
       "}\n",
       "\n",
       ".xr-preview {\n",
       "  color: var(--xr-font-color3);\n",
       "}\n",
       "\n",
       ".xr-array-preview,\n",
       ".xr-array-data {\n",
       "  padding: 0 5px !important;\n",
       "  grid-column: 2;\n",
       "}\n",
       "\n",
       ".xr-array-data,\n",
       ".xr-array-in:checked ~ .xr-array-preview {\n",
       "  display: none;\n",
       "}\n",
       "\n",
       ".xr-array-in:checked ~ .xr-array-data,\n",
       ".xr-array-preview {\n",
       "  display: inline-block;\n",
       "}\n",
       "\n",
       ".xr-dim-list {\n",
       "  display: inline-block !important;\n",
       "  list-style: none;\n",
       "  padding: 0 !important;\n",
       "  margin: 0;\n",
       "}\n",
       "\n",
       ".xr-dim-list li {\n",
       "  display: inline-block;\n",
       "  padding: 0;\n",
       "  margin: 0;\n",
       "}\n",
       "\n",
       ".xr-dim-list:before {\n",
       "  content: '(';\n",
       "}\n",
       "\n",
       ".xr-dim-list:after {\n",
       "  content: ')';\n",
       "}\n",
       "\n",
       ".xr-dim-list li:not(:last-child):after {\n",
       "  content: ',';\n",
       "  padding-right: 5px;\n",
       "}\n",
       "\n",
       ".xr-has-index {\n",
       "  font-weight: bold;\n",
       "}\n",
       "\n",
       ".xr-var-list,\n",
       ".xr-var-item {\n",
       "  display: contents;\n",
       "}\n",
       "\n",
       ".xr-var-item > div,\n",
       ".xr-var-item label,\n",
       ".xr-var-item > .xr-var-name span {\n",
       "  background-color: var(--xr-background-color-row-even);\n",
       "  margin-bottom: 0;\n",
       "}\n",
       "\n",
       ".xr-var-item > .xr-var-name:hover span {\n",
       "  padding-right: 5px;\n",
       "}\n",
       "\n",
       ".xr-var-list > li:nth-child(odd) > div,\n",
       ".xr-var-list > li:nth-child(odd) > label,\n",
       ".xr-var-list > li:nth-child(odd) > .xr-var-name span {\n",
       "  background-color: var(--xr-background-color-row-odd);\n",
       "}\n",
       "\n",
       ".xr-var-name {\n",
       "  grid-column: 1;\n",
       "}\n",
       "\n",
       ".xr-var-dims {\n",
       "  grid-column: 2;\n",
       "}\n",
       "\n",
       ".xr-var-dtype {\n",
       "  grid-column: 3;\n",
       "  text-align: right;\n",
       "  color: var(--xr-font-color2);\n",
       "}\n",
       "\n",
       ".xr-var-preview {\n",
       "  grid-column: 4;\n",
       "}\n",
       "\n",
       ".xr-index-preview {\n",
       "  grid-column: 2 / 5;\n",
       "  color: var(--xr-font-color2);\n",
       "}\n",
       "\n",
       ".xr-var-name,\n",
       ".xr-var-dims,\n",
       ".xr-var-dtype,\n",
       ".xr-preview,\n",
       ".xr-attrs dt {\n",
       "  white-space: nowrap;\n",
       "  overflow: hidden;\n",
       "  text-overflow: ellipsis;\n",
       "  padding-right: 10px;\n",
       "}\n",
       "\n",
       ".xr-var-name:hover,\n",
       ".xr-var-dims:hover,\n",
       ".xr-var-dtype:hover,\n",
       ".xr-attrs dt:hover {\n",
       "  overflow: visible;\n",
       "  width: auto;\n",
       "  z-index: 1;\n",
       "}\n",
       "\n",
       ".xr-var-attrs,\n",
       ".xr-var-data,\n",
       ".xr-index-data {\n",
       "  display: none;\n",
       "  background-color: var(--xr-background-color) !important;\n",
       "  padding-bottom: 5px !important;\n",
       "}\n",
       "\n",
       ".xr-var-attrs-in:checked ~ .xr-var-attrs,\n",
       ".xr-var-data-in:checked ~ .xr-var-data,\n",
       ".xr-index-data-in:checked ~ .xr-index-data {\n",
       "  display: block;\n",
       "}\n",
       "\n",
       ".xr-var-data > table {\n",
       "  float: right;\n",
       "}\n",
       "\n",
       ".xr-var-name span,\n",
       ".xr-var-data,\n",
       ".xr-index-name div,\n",
       ".xr-index-data,\n",
       ".xr-attrs {\n",
       "  padding-left: 25px !important;\n",
       "}\n",
       "\n",
       ".xr-attrs,\n",
       ".xr-var-attrs,\n",
       ".xr-var-data,\n",
       ".xr-index-data {\n",
       "  grid-column: 1 / -1;\n",
       "}\n",
       "\n",
       "dl.xr-attrs {\n",
       "  padding: 0;\n",
       "  margin: 0;\n",
       "  display: grid;\n",
       "  grid-template-columns: 125px auto;\n",
       "}\n",
       "\n",
       ".xr-attrs dt,\n",
       ".xr-attrs dd {\n",
       "  padding: 0;\n",
       "  margin: 0;\n",
       "  float: left;\n",
       "  padding-right: 10px;\n",
       "  width: auto;\n",
       "}\n",
       "\n",
       ".xr-attrs dt {\n",
       "  font-weight: normal;\n",
       "  grid-column: 1;\n",
       "}\n",
       "\n",
       ".xr-attrs dt:hover span {\n",
       "  display: inline-block;\n",
       "  background: var(--xr-background-color);\n",
       "  padding-right: 10px;\n",
       "}\n",
       "\n",
       ".xr-attrs dd {\n",
       "  grid-column: 2;\n",
       "  white-space: pre-wrap;\n",
       "  word-break: break-all;\n",
       "}\n",
       "\n",
       ".xr-icon-database,\n",
       ".xr-icon-file-text2,\n",
       ".xr-no-icon {\n",
       "  display: inline-block;\n",
       "  vertical-align: middle;\n",
       "  width: 1em;\n",
       "  height: 1.5em !important;\n",
       "  stroke-width: 0;\n",
       "  stroke: currentColor;\n",
       "  fill: currentColor;\n",
       "}\n",
       "</style><pre class='xr-text-repr-fallback'>&lt;xarray.Dataset&gt; Size: 2MB\n",
       "Dimensions:              (N_PROF: 117, N_LEVELS: 69, NPARAMETER: 42)\n",
       "Dimensions without coordinates: N_PROF, N_LEVELS, NPARAMETER\n",
       "Data variables: (12/60)\n",
       "    Cruise               |S11 11B ...\n",
       "    Station              (N_PROF) int32 468B ...\n",
       "    Lon                  (N_PROF) float64 936B ...\n",
       "    Lat                  (N_PROF) float64 936B ...\n",
       "    Lat_QF               (N_PROF) |S1 117B ...\n",
       "    Lat_QFA              (N_PROF) float64 936B ...\n",
       "    ...                   ...\n",
       "    Type                 |S1 1B ...\n",
       "    mon_day_yr           (N_PROF) |S10 1kB ...\n",
       "    hh_mm                (N_PROF) |S5 585B ...\n",
       "    Parameters           (NPARAMETER) |S19 798B ...\n",
       "    JULD                 (N_PROF) float64 936B ...\n",
       "    REFERENCE_DATE_TIME  object 8B ...\n",
       "Attributes:\n",
       "    Comments:  \\n//0\\n//&lt;Encoding&gt;UTF-8&lt;/Encoding&gt;\\n//File updated on 08/26/2...</pre><div class='xr-wrap' style='display:none'><div class='xr-header'><div class='xr-obj-type'>xarray.Dataset</div></div><ul class='xr-sections'><li class='xr-section-item'><input id='section-17a0e6cd-3e8b-46d2-908d-33e6e239865d' class='xr-section-summary-in' type='checkbox' disabled ><label for='section-17a0e6cd-3e8b-46d2-908d-33e6e239865d' class='xr-section-summary'  title='Expand/collapse section'>Dimensions:</label><div class='xr-section-inline-details'><ul class='xr-dim-list'><li><span>N_PROF</span>: 117</li><li><span>N_LEVELS</span>: 69</li><li><span>NPARAMETER</span>: 42</li></ul></div><div class='xr-section-details'></div></li><li class='xr-section-item'><input id='section-b4a5a657-2697-4f5e-a386-1514ad45325c' class='xr-section-summary-in' type='checkbox' disabled ><label for='section-b4a5a657-2697-4f5e-a386-1514ad45325c' class='xr-section-summary'  title='Expand/collapse section'>Coordinates: <span>(0)</span></label><div class='xr-section-inline-details'></div><div class='xr-section-details'><ul class='xr-var-list'></ul></div></li><li class='xr-section-item'><input id='section-89993590-9713-4be2-abfc-8e32af17dc9f' class='xr-section-summary-in' type='checkbox'  ><label for='section-89993590-9713-4be2-abfc-8e32af17dc9f' class='xr-section-summary' >Data variables: <span>(60)</span></label><div class='xr-section-inline-details'></div><div class='xr-section-details'><ul class='xr-var-list'><li class='xr-var-item'><div class='xr-var-name'><span>Cruise</span></div><div class='xr-var-dims'>()</div><div class='xr-var-dtype'>|S11</div><div class='xr-var-preview xr-preview'>...</div><input id='attrs-599448c5-698f-4196-a03e-1490e6cfaeb1' class='xr-var-attrs-in' type='checkbox' disabled><label for='attrs-599448c5-698f-4196-a03e-1490e6cfaeb1' title='Show/Hide attributes'><svg class='icon xr-icon-file-text2'><use xlink:href='#icon-file-text2'></use></svg></label><input id='data-029ebe93-2a6f-4473-9d88-ee30bc8ce93a' class='xr-var-data-in' type='checkbox'><label for='data-029ebe93-2a6f-4473-9d88-ee30bc8ce93a' title='Show/Hide data repr'><svg class='icon xr-icon-database'><use xlink:href='#icon-database'></use></svg></label><div class='xr-var-attrs'><dl class='xr-attrs'></dl></div><div class='xr-var-data'><pre>[1 values with dtype=|S11]</pre></div></li><li class='xr-var-item'><div class='xr-var-name'><span>Station</span></div><div class='xr-var-dims'>(N_PROF)</div><div class='xr-var-dtype'>int32</div><div class='xr-var-preview xr-preview'>...</div><input id='attrs-a42d8f05-e720-45e6-8984-bde8494b40d9' class='xr-var-attrs-in' type='checkbox' disabled><label for='attrs-a42d8f05-e720-45e6-8984-bde8494b40d9' title='Show/Hide attributes'><svg class='icon xr-icon-file-text2'><use xlink:href='#icon-file-text2'></use></svg></label><input id='data-2c730fc2-4dd3-4b9f-b44b-cf817a14ca39' class='xr-var-data-in' type='checkbox'><label for='data-2c730fc2-4dd3-4b9f-b44b-cf817a14ca39' title='Show/Hide data repr'><svg class='icon xr-icon-database'><use xlink:href='#icon-database'></use></svg></label><div class='xr-var-attrs'><dl class='xr-attrs'></dl></div><div class='xr-var-data'><pre>[117 values with dtype=int32]</pre></div></li><li class='xr-var-item'><div class='xr-var-name'><span>Lon</span></div><div class='xr-var-dims'>(N_PROF)</div><div class='xr-var-dtype'>float64</div><div class='xr-var-preview xr-preview'>...</div><input id='attrs-be8f09e0-a530-450d-bb1f-e746348c3453' class='xr-var-attrs-in' type='checkbox' disabled><label for='attrs-be8f09e0-a530-450d-bb1f-e746348c3453' title='Show/Hide attributes'><svg class='icon xr-icon-file-text2'><use xlink:href='#icon-file-text2'></use></svg></label><input id='data-14b083be-a983-46ca-85f8-d205a912c422' class='xr-var-data-in' type='checkbox'><label for='data-14b083be-a983-46ca-85f8-d205a912c422' title='Show/Hide data repr'><svg class='icon xr-icon-database'><use xlink:href='#icon-database'></use></svg></label><div class='xr-var-attrs'><dl class='xr-attrs'></dl></div><div class='xr-var-data'><pre>[117 values with dtype=float64]</pre></div></li><li class='xr-var-item'><div class='xr-var-name'><span>Lat</span></div><div class='xr-var-dims'>(N_PROF)</div><div class='xr-var-dtype'>float64</div><div class='xr-var-preview xr-preview'>...</div><input id='attrs-9012aca2-7517-4c95-81bd-1aa9ae944835' class='xr-var-attrs-in' type='checkbox' disabled><label for='attrs-9012aca2-7517-4c95-81bd-1aa9ae944835' title='Show/Hide attributes'><svg class='icon xr-icon-file-text2'><use xlink:href='#icon-file-text2'></use></svg></label><input id='data-f03b2e87-c782-4209-bf65-13d2f0b20b73' class='xr-var-data-in' type='checkbox'><label for='data-f03b2e87-c782-4209-bf65-13d2f0b20b73' title='Show/Hide data repr'><svg class='icon xr-icon-database'><use xlink:href='#icon-database'></use></svg></label><div class='xr-var-attrs'><dl class='xr-attrs'></dl></div><div class='xr-var-data'><pre>[117 values with dtype=float64]</pre></div></li><li class='xr-var-item'><div class='xr-var-name'><span>Lat_QF</span></div><div class='xr-var-dims'>(N_PROF)</div><div class='xr-var-dtype'>|S1</div><div class='xr-var-preview xr-preview'>...</div><input id='attrs-8e69a244-077b-4076-9f03-b3f0d1d6f978' class='xr-var-attrs-in' type='checkbox' disabled><label for='attrs-8e69a244-077b-4076-9f03-b3f0d1d6f978' title='Show/Hide attributes'><svg class='icon xr-icon-file-text2'><use xlink:href='#icon-file-text2'></use></svg></label><input id='data-b09bb718-90b7-476c-9a06-c5ee35808681' class='xr-var-data-in' type='checkbox'><label for='data-b09bb718-90b7-476c-9a06-c5ee35808681' title='Show/Hide data repr'><svg class='icon xr-icon-database'><use xlink:href='#icon-database'></use></svg></label><div class='xr-var-attrs'><dl class='xr-attrs'></dl></div><div class='xr-var-data'><pre>[117 values with dtype=|S1]</pre></div></li><li class='xr-var-item'><div class='xr-var-name'><span>Lat_QFA</span></div><div class='xr-var-dims'>(N_PROF)</div><div class='xr-var-dtype'>float64</div><div class='xr-var-preview xr-preview'>...</div><input id='attrs-e8422303-9dce-4761-b861-1791580bfff4' class='xr-var-attrs-in' type='checkbox' ><label for='attrs-e8422303-9dce-4761-b861-1791580bfff4' title='Show/Hide attributes'><svg class='icon xr-icon-file-text2'><use xlink:href='#icon-file-text2'></use></svg></label><input id='data-4e5ff907-9143-4299-9981-3967b0fc799b' class='xr-var-data-in' type='checkbox'><label for='data-4e5ff907-9143-4299-9981-3967b0fc799b' title='Show/Hide data repr'><svg class='icon xr-icon-database'><use xlink:href='#icon-database'></use></svg></label><div class='xr-var-attrs'><dl class='xr-attrs'><dt><span>NOTES :</span></dt><dd>Variables ending in _QFA are an alternate format (double matrix instead of character array)  for the variable ending in _QF</dd></dl></div><div class='xr-var-data'><pre>[117 values with dtype=float64]</pre></div></li><li class='xr-var-item'><div class='xr-var-name'><span>Pressure</span></div><div class='xr-var-dims'>(N_PROF, N_LEVELS)</div><div class='xr-var-dtype'>float64</div><div class='xr-var-preview xr-preview'>...</div><input id='attrs-1354076b-c6c7-4c42-af25-97916d494490' class='xr-var-attrs-in' type='checkbox' ><label for='attrs-1354076b-c6c7-4c42-af25-97916d494490' title='Show/Hide attributes'><svg class='icon xr-icon-file-text2'><use xlink:href='#icon-file-text2'></use></svg></label><input id='data-8af8cc4b-65db-43d1-ad0d-c30171d0eaed' class='xr-var-data-in' type='checkbox'><label for='data-8af8cc4b-65db-43d1-ad0d-c30171d0eaed' title='Show/Hide data repr'><svg class='icon xr-icon-database'><use xlink:href='#icon-database'></use></svg></label><div class='xr-var-attrs'><dl class='xr-attrs'><dt><span>units :</span></dt><dd>dbar</dd></dl></div><div class='xr-var-data'><pre>[8073 values with dtype=float64]</pre></div></li><li class='xr-var-item'><div class='xr-var-name'><span>Pressure_QF</span></div><div class='xr-var-dims'>(N_PROF, N_LEVELS)</div><div class='xr-var-dtype'>|S1</div><div class='xr-var-preview xr-preview'>...</div><input id='attrs-d538514c-77fb-4e25-a903-04b146bd8fb2' class='xr-var-attrs-in' type='checkbox' disabled><label for='attrs-d538514c-77fb-4e25-a903-04b146bd8fb2' title='Show/Hide attributes'><svg class='icon xr-icon-file-text2'><use xlink:href='#icon-file-text2'></use></svg></label><input id='data-0ab86555-bc01-421f-befb-7502e3a624be' class='xr-var-data-in' type='checkbox'><label for='data-0ab86555-bc01-421f-befb-7502e3a624be' title='Show/Hide data repr'><svg class='icon xr-icon-database'><use xlink:href='#icon-database'></use></svg></label><div class='xr-var-attrs'><dl class='xr-attrs'></dl></div><div class='xr-var-data'><pre>[8073 values with dtype=|S1]</pre></div></li><li class='xr-var-item'><div class='xr-var-name'><span>Pressure_QFA</span></div><div class='xr-var-dims'>(N_PROF, N_LEVELS)</div><div class='xr-var-dtype'>float64</div><div class='xr-var-preview xr-preview'>...</div><input id='attrs-fca0c5cc-7c56-4836-80d1-b6f0832cca92' class='xr-var-attrs-in' type='checkbox' ><label for='attrs-fca0c5cc-7c56-4836-80d1-b6f0832cca92' title='Show/Hide attributes'><svg class='icon xr-icon-file-text2'><use xlink:href='#icon-file-text2'></use></svg></label><input id='data-618a0b04-c3a2-4ddd-890d-b256a99baa65' class='xr-var-data-in' type='checkbox'><label for='data-618a0b04-c3a2-4ddd-890d-b256a99baa65' title='Show/Hide data repr'><svg class='icon xr-icon-database'><use xlink:href='#icon-database'></use></svg></label><div class='xr-var-attrs'><dl class='xr-attrs'><dt><span>NOTES :</span></dt><dd>Variables ending in _QFA are an alternate format (double matrix instead of character array)  for the variable ending in _QF</dd></dl></div><div class='xr-var-data'><pre>[8073 values with dtype=float64]</pre></div></li><li class='xr-var-item'><div class='xr-var-name'><span>Temperature</span></div><div class='xr-var-dims'>(N_PROF, N_LEVELS)</div><div class='xr-var-dtype'>float64</div><div class='xr-var-preview xr-preview'>...</div><input id='attrs-0d7ecd4a-a629-4b0c-bf19-d1f53f166e69' class='xr-var-attrs-in' type='checkbox' ><label for='attrs-0d7ecd4a-a629-4b0c-bf19-d1f53f166e69' title='Show/Hide attributes'><svg class='icon xr-icon-file-text2'><use xlink:href='#icon-file-text2'></use></svg></label><input id='data-e426fbff-decb-4e59-9c86-81297fd8121b' class='xr-var-data-in' type='checkbox'><label for='data-e426fbff-decb-4e59-9c86-81297fd8121b' title='Show/Hide data repr'><svg class='icon xr-icon-database'><use xlink:href='#icon-database'></use></svg></label><div class='xr-var-attrs'><dl class='xr-attrs'><dt><span>units :</span></dt><dd>degree_C</dd></dl></div><div class='xr-var-data'><pre>[8073 values with dtype=float64]</pre></div></li><li class='xr-var-item'><div class='xr-var-name'><span>Temperature_QF</span></div><div class='xr-var-dims'>(N_PROF, N_LEVELS)</div><div class='xr-var-dtype'>|S1</div><div class='xr-var-preview xr-preview'>...</div><input id='attrs-df84c06b-53a4-4049-b70d-d7e9e059099a' class='xr-var-attrs-in' type='checkbox' disabled><label for='attrs-df84c06b-53a4-4049-b70d-d7e9e059099a' title='Show/Hide attributes'><svg class='icon xr-icon-file-text2'><use xlink:href='#icon-file-text2'></use></svg></label><input id='data-c5d6a8a2-4056-42f9-bc2b-a60bb4fd9a88' class='xr-var-data-in' type='checkbox'><label for='data-c5d6a8a2-4056-42f9-bc2b-a60bb4fd9a88' title='Show/Hide data repr'><svg class='icon xr-icon-database'><use xlink:href='#icon-database'></use></svg></label><div class='xr-var-attrs'><dl class='xr-attrs'></dl></div><div class='xr-var-data'><pre>[8073 values with dtype=|S1]</pre></div></li><li class='xr-var-item'><div class='xr-var-name'><span>Temperature_QFA</span></div><div class='xr-var-dims'>(N_PROF, N_LEVELS)</div><div class='xr-var-dtype'>float64</div><div class='xr-var-preview xr-preview'>...</div><input id='attrs-64161061-7114-4260-a2d6-dc1556fdb042' class='xr-var-attrs-in' type='checkbox' ><label for='attrs-64161061-7114-4260-a2d6-dc1556fdb042' title='Show/Hide attributes'><svg class='icon xr-icon-file-text2'><use xlink:href='#icon-file-text2'></use></svg></label><input id='data-861613f7-e62f-4de2-bc20-e7f8bba4302a' class='xr-var-data-in' type='checkbox'><label for='data-861613f7-e62f-4de2-bc20-e7f8bba4302a' title='Show/Hide data repr'><svg class='icon xr-icon-database'><use xlink:href='#icon-database'></use></svg></label><div class='xr-var-attrs'><dl class='xr-attrs'><dt><span>NOTES :</span></dt><dd>Variables ending in _QFA are an alternate format (double matrix instead of character array)  for the variable ending in _QF</dd></dl></div><div class='xr-var-data'><pre>[8073 values with dtype=float64]</pre></div></li><li class='xr-var-item'><div class='xr-var-name'><span>Salinity</span></div><div class='xr-var-dims'>(N_PROF, N_LEVELS)</div><div class='xr-var-dtype'>float64</div><div class='xr-var-preview xr-preview'>...</div><input id='attrs-590929ed-c8ec-478a-8c0e-6c7dca4cf0f2' class='xr-var-attrs-in' type='checkbox' ><label for='attrs-590929ed-c8ec-478a-8c0e-6c7dca4cf0f2' title='Show/Hide attributes'><svg class='icon xr-icon-file-text2'><use xlink:href='#icon-file-text2'></use></svg></label><input id='data-259ab962-733d-4407-9b58-d382a7f6d1f1' class='xr-var-data-in' type='checkbox'><label for='data-259ab962-733d-4407-9b58-d382a7f6d1f1' title='Show/Hide data repr'><svg class='icon xr-icon-database'><use xlink:href='#icon-database'></use></svg></label><div class='xr-var-attrs'><dl class='xr-attrs'><dt><span>units :</span></dt><dd>pss</dd></dl></div><div class='xr-var-data'><pre>[8073 values with dtype=float64]</pre></div></li><li class='xr-var-item'><div class='xr-var-name'><span>Salinity_QF</span></div><div class='xr-var-dims'>(N_PROF, N_LEVELS)</div><div class='xr-var-dtype'>|S1</div><div class='xr-var-preview xr-preview'>...</div><input id='attrs-92d1a089-a87d-4ef2-8ecb-daba2d250f18' class='xr-var-attrs-in' type='checkbox' disabled><label for='attrs-92d1a089-a87d-4ef2-8ecb-daba2d250f18' title='Show/Hide attributes'><svg class='icon xr-icon-file-text2'><use xlink:href='#icon-file-text2'></use></svg></label><input id='data-b451dda8-6026-4f2a-87f6-ec6d2106bc64' class='xr-var-data-in' type='checkbox'><label for='data-b451dda8-6026-4f2a-87f6-ec6d2106bc64' title='Show/Hide data repr'><svg class='icon xr-icon-database'><use xlink:href='#icon-database'></use></svg></label><div class='xr-var-attrs'><dl class='xr-attrs'></dl></div><div class='xr-var-data'><pre>[8073 values with dtype=|S1]</pre></div></li><li class='xr-var-item'><div class='xr-var-name'><span>Salinity_QFA</span></div><div class='xr-var-dims'>(N_PROF, N_LEVELS)</div><div class='xr-var-dtype'>float64</div><div class='xr-var-preview xr-preview'>...</div><input id='attrs-f444ab8e-272f-4fb8-87ef-e42e3e989783' class='xr-var-attrs-in' type='checkbox' ><label for='attrs-f444ab8e-272f-4fb8-87ef-e42e3e989783' title='Show/Hide attributes'><svg class='icon xr-icon-file-text2'><use xlink:href='#icon-file-text2'></use></svg></label><input id='data-ef693850-2c5e-4662-8a13-f632e887b84f' class='xr-var-data-in' type='checkbox'><label for='data-ef693850-2c5e-4662-8a13-f632e887b84f' title='Show/Hide data repr'><svg class='icon xr-icon-database'><use xlink:href='#icon-database'></use></svg></label><div class='xr-var-attrs'><dl class='xr-attrs'><dt><span>NOTES :</span></dt><dd>Variables ending in _QFA are an alternate format (double matrix instead of character array)  for the variable ending in _QF</dd></dl></div><div class='xr-var-data'><pre>[8073 values with dtype=float64]</pre></div></li><li class='xr-var-item'><div class='xr-var-name'><span>Sigma_theta</span></div><div class='xr-var-dims'>(N_PROF, N_LEVELS)</div><div class='xr-var-dtype'>float64</div><div class='xr-var-preview xr-preview'>...</div><input id='attrs-7d6e4bd6-cba7-4591-871e-365d4c9510bf' class='xr-var-attrs-in' type='checkbox' ><label for='attrs-7d6e4bd6-cba7-4591-871e-365d4c9510bf' title='Show/Hide attributes'><svg class='icon xr-icon-file-text2'><use xlink:href='#icon-file-text2'></use></svg></label><input id='data-9575de07-cf03-4c7b-9b4c-7a348c48eb1e' class='xr-var-data-in' type='checkbox'><label for='data-9575de07-cf03-4c7b-9b4c-7a348c48eb1e' title='Show/Hide data repr'><svg class='icon xr-icon-database'><use xlink:href='#icon-database'></use></svg></label><div class='xr-var-attrs'><dl class='xr-attrs'><dt><span>units :</span></dt><dd>kg/m^3</dd></dl></div><div class='xr-var-data'><pre>[8073 values with dtype=float64]</pre></div></li><li class='xr-var-item'><div class='xr-var-name'><span>Sigma_theta_QF</span></div><div class='xr-var-dims'>(N_PROF, N_LEVELS)</div><div class='xr-var-dtype'>|S1</div><div class='xr-var-preview xr-preview'>...</div><input id='attrs-5bd64d31-25e3-4e47-bb96-9201cf3aa195' class='xr-var-attrs-in' type='checkbox' disabled><label for='attrs-5bd64d31-25e3-4e47-bb96-9201cf3aa195' title='Show/Hide attributes'><svg class='icon xr-icon-file-text2'><use xlink:href='#icon-file-text2'></use></svg></label><input id='data-aa0afed2-9540-49b9-8db7-274e9cdbec76' class='xr-var-data-in' type='checkbox'><label for='data-aa0afed2-9540-49b9-8db7-274e9cdbec76' title='Show/Hide data repr'><svg class='icon xr-icon-database'><use xlink:href='#icon-database'></use></svg></label><div class='xr-var-attrs'><dl class='xr-attrs'></dl></div><div class='xr-var-data'><pre>[8073 values with dtype=|S1]</pre></div></li><li class='xr-var-item'><div class='xr-var-name'><span>Sigma_theta_QFA</span></div><div class='xr-var-dims'>(N_PROF, N_LEVELS)</div><div class='xr-var-dtype'>float64</div><div class='xr-var-preview xr-preview'>...</div><input id='attrs-43991236-7eaa-4233-a359-28ff8b918434' class='xr-var-attrs-in' type='checkbox' ><label for='attrs-43991236-7eaa-4233-a359-28ff8b918434' title='Show/Hide attributes'><svg class='icon xr-icon-file-text2'><use xlink:href='#icon-file-text2'></use></svg></label><input id='data-faeb70e8-dea4-4b52-a009-2f820ae879e6' class='xr-var-data-in' type='checkbox'><label for='data-faeb70e8-dea4-4b52-a009-2f820ae879e6' title='Show/Hide data repr'><svg class='icon xr-icon-database'><use xlink:href='#icon-database'></use></svg></label><div class='xr-var-attrs'><dl class='xr-attrs'><dt><span>NOTES :</span></dt><dd>Variables ending in _QFA are an alternate format (double matrix instead of character array)  for the variable ending in _QF</dd></dl></div><div class='xr-var-data'><pre>[8073 values with dtype=float64]</pre></div></li><li class='xr-var-item'><div class='xr-var-name'><span>Depth</span></div><div class='xr-var-dims'>(N_PROF, N_LEVELS)</div><div class='xr-var-dtype'>float64</div><div class='xr-var-preview xr-preview'>...</div><input id='attrs-9b50b79f-5084-422b-9bef-a0cae3a6163c' class='xr-var-attrs-in' type='checkbox' ><label for='attrs-9b50b79f-5084-422b-9bef-a0cae3a6163c' title='Show/Hide attributes'><svg class='icon xr-icon-file-text2'><use xlink:href='#icon-file-text2'></use></svg></label><input id='data-87ee61cb-3737-4a59-922d-15727fe01274' class='xr-var-data-in' type='checkbox'><label for='data-87ee61cb-3737-4a59-922d-15727fe01274' title='Show/Hide data repr'><svg class='icon xr-icon-database'><use xlink:href='#icon-database'></use></svg></label><div class='xr-var-attrs'><dl class='xr-attrs'><dt><span>units :</span></dt><dd>m</dd></dl></div><div class='xr-var-data'><pre>[8073 values with dtype=float64]</pre></div></li><li class='xr-var-item'><div class='xr-var-name'><span>Depth_QF</span></div><div class='xr-var-dims'>(N_PROF, N_LEVELS)</div><div class='xr-var-dtype'>|S1</div><div class='xr-var-preview xr-preview'>...</div><input id='attrs-1b118601-64b8-4a0b-ba33-a072b7c71a76' class='xr-var-attrs-in' type='checkbox' disabled><label for='attrs-1b118601-64b8-4a0b-ba33-a072b7c71a76' title='Show/Hide attributes'><svg class='icon xr-icon-file-text2'><use xlink:href='#icon-file-text2'></use></svg></label><input id='data-6695b6fb-4dee-4601-8b56-aef6314b6fb7' class='xr-var-data-in' type='checkbox'><label for='data-6695b6fb-4dee-4601-8b56-aef6314b6fb7' title='Show/Hide data repr'><svg class='icon xr-icon-database'><use xlink:href='#icon-database'></use></svg></label><div class='xr-var-attrs'><dl class='xr-attrs'></dl></div><div class='xr-var-data'><pre>[8073 values with dtype=|S1]</pre></div></li><li class='xr-var-item'><div class='xr-var-name'><span>Depth_QFA</span></div><div class='xr-var-dims'>(N_PROF, N_LEVELS)</div><div class='xr-var-dtype'>float64</div><div class='xr-var-preview xr-preview'>...</div><input id='attrs-720a0396-7dde-4884-862d-2397be203f82' class='xr-var-attrs-in' type='checkbox' ><label for='attrs-720a0396-7dde-4884-862d-2397be203f82' title='Show/Hide attributes'><svg class='icon xr-icon-file-text2'><use xlink:href='#icon-file-text2'></use></svg></label><input id='data-2f6cab02-e8ff-40e7-bc5d-dfecfa0f8685' class='xr-var-data-in' type='checkbox'><label for='data-2f6cab02-e8ff-40e7-bc5d-dfecfa0f8685' title='Show/Hide data repr'><svg class='icon xr-icon-database'><use xlink:href='#icon-database'></use></svg></label><div class='xr-var-attrs'><dl class='xr-attrs'><dt><span>NOTES :</span></dt><dd>Variables ending in _QFA are an alternate format (double matrix instead of character array)  for the variable ending in _QF</dd></dl></div><div class='xr-var-data'><pre>[8073 values with dtype=float64]</pre></div></li><li class='xr-var-item'><div class='xr-var-name'><span>Oxygen</span></div><div class='xr-var-dims'>(N_PROF, N_LEVELS)</div><div class='xr-var-dtype'>float64</div><div class='xr-var-preview xr-preview'>...</div><input id='attrs-c1371c14-07de-4d7e-bab1-5eddb69d384b' class='xr-var-attrs-in' type='checkbox' ><label for='attrs-c1371c14-07de-4d7e-bab1-5eddb69d384b' title='Show/Hide attributes'><svg class='icon xr-icon-file-text2'><use xlink:href='#icon-file-text2'></use></svg></label><input id='data-12c1f0ae-65e0-489d-ab23-66c87cc220ce' class='xr-var-data-in' type='checkbox'><label for='data-12c1f0ae-65e0-489d-ab23-66c87cc220ce' title='Show/Hide data repr'><svg class='icon xr-icon-database'><use xlink:href='#icon-database'></use></svg></label><div class='xr-var-attrs'><dl class='xr-attrs'><dt><span>units :</span></dt><dd>umol/kg</dd></dl></div><div class='xr-var-data'><pre>[8073 values with dtype=float64]</pre></div></li><li class='xr-var-item'><div class='xr-var-name'><span>Oxygen_QF</span></div><div class='xr-var-dims'>(N_PROF, N_LEVELS)</div><div class='xr-var-dtype'>|S1</div><div class='xr-var-preview xr-preview'>...</div><input id='attrs-a4f708eb-c5bf-4315-9c6c-af6324b2b12c' class='xr-var-attrs-in' type='checkbox' disabled><label for='attrs-a4f708eb-c5bf-4315-9c6c-af6324b2b12c' title='Show/Hide attributes'><svg class='icon xr-icon-file-text2'><use xlink:href='#icon-file-text2'></use></svg></label><input id='data-b80c8a19-4770-4043-ac4a-feffe4f97daf' class='xr-var-data-in' type='checkbox'><label for='data-b80c8a19-4770-4043-ac4a-feffe4f97daf' title='Show/Hide data repr'><svg class='icon xr-icon-database'><use xlink:href='#icon-database'></use></svg></label><div class='xr-var-attrs'><dl class='xr-attrs'></dl></div><div class='xr-var-data'><pre>[8073 values with dtype=|S1]</pre></div></li><li class='xr-var-item'><div class='xr-var-name'><span>Oxygen_QFA</span></div><div class='xr-var-dims'>(N_PROF, N_LEVELS)</div><div class='xr-var-dtype'>float64</div><div class='xr-var-preview xr-preview'>...</div><input id='attrs-85d9443c-60aa-482b-b6bd-c52c2ab879b3' class='xr-var-attrs-in' type='checkbox' ><label for='attrs-85d9443c-60aa-482b-b6bd-c52c2ab879b3' title='Show/Hide attributes'><svg class='icon xr-icon-file-text2'><use xlink:href='#icon-file-text2'></use></svg></label><input id='data-9cc936a1-ff64-4192-98c7-614c424555b9' class='xr-var-data-in' type='checkbox'><label for='data-9cc936a1-ff64-4192-98c7-614c424555b9' title='Show/Hide data repr'><svg class='icon xr-icon-database'><use xlink:href='#icon-database'></use></svg></label><div class='xr-var-attrs'><dl class='xr-attrs'><dt><span>NOTES :</span></dt><dd>Variables ending in _QFA are an alternate format (double matrix instead of character array)  for the variable ending in _QF</dd></dl></div><div class='xr-var-data'><pre>[8073 values with dtype=float64]</pre></div></li><li class='xr-var-item'><div class='xr-var-name'><span>OxygenSat</span></div><div class='xr-var-dims'>(N_PROF, N_LEVELS)</div><div class='xr-var-dtype'>float64</div><div class='xr-var-preview xr-preview'>...</div><input id='attrs-c38b801d-ff34-4df0-a5dc-0f5b93e5017e' class='xr-var-attrs-in' type='checkbox' ><label for='attrs-c38b801d-ff34-4df0-a5dc-0f5b93e5017e' title='Show/Hide attributes'><svg class='icon xr-icon-file-text2'><use xlink:href='#icon-file-text2'></use></svg></label><input id='data-1a7a7eb6-a17d-4374-8e36-a05a8a3a5a9b' class='xr-var-data-in' type='checkbox'><label for='data-1a7a7eb6-a17d-4374-8e36-a05a8a3a5a9b' title='Show/Hide data repr'><svg class='icon xr-icon-database'><use xlink:href='#icon-database'></use></svg></label><div class='xr-var-attrs'><dl class='xr-attrs'><dt><span>units :</span></dt><dd>%</dd></dl></div><div class='xr-var-data'><pre>[8073 values with dtype=float64]</pre></div></li><li class='xr-var-item'><div class='xr-var-name'><span>OxygenSat_QF</span></div><div class='xr-var-dims'>(N_PROF, N_LEVELS)</div><div class='xr-var-dtype'>|S1</div><div class='xr-var-preview xr-preview'>...</div><input id='attrs-5b842899-a255-421d-b561-ca8b5ab3c255' class='xr-var-attrs-in' type='checkbox' disabled><label for='attrs-5b842899-a255-421d-b561-ca8b5ab3c255' title='Show/Hide attributes'><svg class='icon xr-icon-file-text2'><use xlink:href='#icon-file-text2'></use></svg></label><input id='data-8856e27e-f4d3-4e1d-a09b-26b0adf3a72c' class='xr-var-data-in' type='checkbox'><label for='data-8856e27e-f4d3-4e1d-a09b-26b0adf3a72c' title='Show/Hide data repr'><svg class='icon xr-icon-database'><use xlink:href='#icon-database'></use></svg></label><div class='xr-var-attrs'><dl class='xr-attrs'></dl></div><div class='xr-var-data'><pre>[8073 values with dtype=|S1]</pre></div></li><li class='xr-var-item'><div class='xr-var-name'><span>OxygenSat_QFA</span></div><div class='xr-var-dims'>(N_PROF, N_LEVELS)</div><div class='xr-var-dtype'>float64</div><div class='xr-var-preview xr-preview'>...</div><input id='attrs-12a283cb-849b-4ce3-8053-8cde13157851' class='xr-var-attrs-in' type='checkbox' ><label for='attrs-12a283cb-849b-4ce3-8053-8cde13157851' title='Show/Hide attributes'><svg class='icon xr-icon-file-text2'><use xlink:href='#icon-file-text2'></use></svg></label><input id='data-9e894fa1-a1a9-4364-8dd7-be37ee2305a8' class='xr-var-data-in' type='checkbox'><label for='data-9e894fa1-a1a9-4364-8dd7-be37ee2305a8' title='Show/Hide data repr'><svg class='icon xr-icon-database'><use xlink:href='#icon-database'></use></svg></label><div class='xr-var-attrs'><dl class='xr-attrs'><dt><span>NOTES :</span></dt><dd>Variables ending in _QFA are an alternate format (double matrix instead of character array)  for the variable ending in _QF</dd></dl></div><div class='xr-var-data'><pre>[8073 values with dtype=float64]</pre></div></li><li class='xr-var-item'><div class='xr-var-name'><span>Nitrate</span></div><div class='xr-var-dims'>(N_PROF, N_LEVELS)</div><div class='xr-var-dtype'>float64</div><div class='xr-var-preview xr-preview'>...</div><input id='attrs-073e931f-cb06-4463-9a05-a5e7a10e6d8f' class='xr-var-attrs-in' type='checkbox' ><label for='attrs-073e931f-cb06-4463-9a05-a5e7a10e6d8f' title='Show/Hide attributes'><svg class='icon xr-icon-file-text2'><use xlink:href='#icon-file-text2'></use></svg></label><input id='data-d5cfb694-0443-4495-b5d9-34e6f27b8a1b' class='xr-var-data-in' type='checkbox'><label for='data-d5cfb694-0443-4495-b5d9-34e6f27b8a1b' title='Show/Hide data repr'><svg class='icon xr-icon-database'><use xlink:href='#icon-database'></use></svg></label><div class='xr-var-attrs'><dl class='xr-attrs'><dt><span>units :</span></dt><dd>umol/kg</dd></dl></div><div class='xr-var-data'><pre>[8073 values with dtype=float64]</pre></div></li><li class='xr-var-item'><div class='xr-var-name'><span>Nitrate_QF</span></div><div class='xr-var-dims'>(N_PROF, N_LEVELS)</div><div class='xr-var-dtype'>|S1</div><div class='xr-var-preview xr-preview'>...</div><input id='attrs-6809f34b-8904-4901-9f73-5cbcfd07d4ba' class='xr-var-attrs-in' type='checkbox' disabled><label for='attrs-6809f34b-8904-4901-9f73-5cbcfd07d4ba' title='Show/Hide attributes'><svg class='icon xr-icon-file-text2'><use xlink:href='#icon-file-text2'></use></svg></label><input id='data-7853f5d6-7483-4b77-af9d-797801f71967' class='xr-var-data-in' type='checkbox'><label for='data-7853f5d6-7483-4b77-af9d-797801f71967' title='Show/Hide data repr'><svg class='icon xr-icon-database'><use xlink:href='#icon-database'></use></svg></label><div class='xr-var-attrs'><dl class='xr-attrs'></dl></div><div class='xr-var-data'><pre>[8073 values with dtype=|S1]</pre></div></li><li class='xr-var-item'><div class='xr-var-name'><span>Nitrate_QFA</span></div><div class='xr-var-dims'>(N_PROF, N_LEVELS)</div><div class='xr-var-dtype'>float64</div><div class='xr-var-preview xr-preview'>...</div><input id='attrs-9f3bdc23-d2c6-47f6-97aa-bdb66bb9c516' class='xr-var-attrs-in' type='checkbox' ><label for='attrs-9f3bdc23-d2c6-47f6-97aa-bdb66bb9c516' title='Show/Hide attributes'><svg class='icon xr-icon-file-text2'><use xlink:href='#icon-file-text2'></use></svg></label><input id='data-fa240cec-3024-4bc1-84ff-012398776937' class='xr-var-data-in' type='checkbox'><label for='data-fa240cec-3024-4bc1-84ff-012398776937' title='Show/Hide data repr'><svg class='icon xr-icon-database'><use xlink:href='#icon-database'></use></svg></label><div class='xr-var-attrs'><dl class='xr-attrs'><dt><span>NOTES :</span></dt><dd>Variables ending in _QFA are an alternate format (double matrix instead of character array)  for the variable ending in _QF</dd></dl></div><div class='xr-var-data'><pre>[8073 values with dtype=float64]</pre></div></li><li class='xr-var-item'><div class='xr-var-name'><span>Chl_a</span></div><div class='xr-var-dims'>(N_PROF, N_LEVELS)</div><div class='xr-var-dtype'>float64</div><div class='xr-var-preview xr-preview'>...</div><input id='attrs-04a94570-5090-45f8-935f-4fd60e3c2d8c' class='xr-var-attrs-in' type='checkbox' ><label for='attrs-04a94570-5090-45f8-935f-4fd60e3c2d8c' title='Show/Hide attributes'><svg class='icon xr-icon-file-text2'><use xlink:href='#icon-file-text2'></use></svg></label><input id='data-855f0c05-ec6b-400d-837e-e0d1da74b20e' class='xr-var-data-in' type='checkbox'><label for='data-855f0c05-ec6b-400d-837e-e0d1da74b20e' title='Show/Hide data repr'><svg class='icon xr-icon-database'><use xlink:href='#icon-database'></use></svg></label><div class='xr-var-attrs'><dl class='xr-attrs'><dt><span>units :</span></dt><dd>mg/m^3</dd></dl></div><div class='xr-var-data'><pre>[8073 values with dtype=float64]</pre></div></li><li class='xr-var-item'><div class='xr-var-name'><span>Chl_a_QF</span></div><div class='xr-var-dims'>(N_PROF, N_LEVELS)</div><div class='xr-var-dtype'>|S1</div><div class='xr-var-preview xr-preview'>...</div><input id='attrs-e2e3c5ad-d34c-4f55-9890-916185f96422' class='xr-var-attrs-in' type='checkbox' disabled><label for='attrs-e2e3c5ad-d34c-4f55-9890-916185f96422' title='Show/Hide attributes'><svg class='icon xr-icon-file-text2'><use xlink:href='#icon-file-text2'></use></svg></label><input id='data-2e63797f-2766-4761-a03c-dd95c6d81f55' class='xr-var-data-in' type='checkbox'><label for='data-2e63797f-2766-4761-a03c-dd95c6d81f55' title='Show/Hide data repr'><svg class='icon xr-icon-database'><use xlink:href='#icon-database'></use></svg></label><div class='xr-var-attrs'><dl class='xr-attrs'></dl></div><div class='xr-var-data'><pre>[8073 values with dtype=|S1]</pre></div></li><li class='xr-var-item'><div class='xr-var-name'><span>Chl_a_QFA</span></div><div class='xr-var-dims'>(N_PROF, N_LEVELS)</div><div class='xr-var-dtype'>float64</div><div class='xr-var-preview xr-preview'>...</div><input id='attrs-3ff2af5c-9d2d-4277-a30b-0b76e6a6e5ea' class='xr-var-attrs-in' type='checkbox' ><label for='attrs-3ff2af5c-9d2d-4277-a30b-0b76e6a6e5ea' title='Show/Hide attributes'><svg class='icon xr-icon-file-text2'><use xlink:href='#icon-file-text2'></use></svg></label><input id='data-08f295ab-d2d4-47ef-9641-3f73c41c1d19' class='xr-var-data-in' type='checkbox'><label for='data-08f295ab-d2d4-47ef-9641-3f73c41c1d19' title='Show/Hide data repr'><svg class='icon xr-icon-database'><use xlink:href='#icon-database'></use></svg></label><div class='xr-var-attrs'><dl class='xr-attrs'><dt><span>NOTES :</span></dt><dd>Variables ending in _QFA are an alternate format (double matrix instead of character array)  for the variable ending in _QF</dd></dl></div><div class='xr-var-data'><pre>[8073 values with dtype=float64]</pre></div></li><li class='xr-var-item'><div class='xr-var-name'><span>b_bp700</span></div><div class='xr-var-dims'>(N_PROF, N_LEVELS)</div><div class='xr-var-dtype'>float64</div><div class='xr-var-preview xr-preview'>...</div><input id='attrs-7bdb67f1-3008-4f42-b900-1ba0e03334f6' class='xr-var-attrs-in' type='checkbox' ><label for='attrs-7bdb67f1-3008-4f42-b900-1ba0e03334f6' title='Show/Hide attributes'><svg class='icon xr-icon-file-text2'><use xlink:href='#icon-file-text2'></use></svg></label><input id='data-e29f89a8-501d-4852-aad7-e3631833d729' class='xr-var-data-in' type='checkbox'><label for='data-e29f89a8-501d-4852-aad7-e3631833d729' title='Show/Hide data repr'><svg class='icon xr-icon-database'><use xlink:href='#icon-database'></use></svg></label><div class='xr-var-attrs'><dl class='xr-attrs'><dt><span>units :</span></dt><dd>1/m</dd></dl></div><div class='xr-var-data'><pre>[8073 values with dtype=float64]</pre></div></li><li class='xr-var-item'><div class='xr-var-name'><span>b_bp700_QF</span></div><div class='xr-var-dims'>(N_PROF, N_LEVELS)</div><div class='xr-var-dtype'>|S1</div><div class='xr-var-preview xr-preview'>...</div><input id='attrs-990e8e04-6078-4452-9284-4f7edc13c346' class='xr-var-attrs-in' type='checkbox' disabled><label for='attrs-990e8e04-6078-4452-9284-4f7edc13c346' title='Show/Hide attributes'><svg class='icon xr-icon-file-text2'><use xlink:href='#icon-file-text2'></use></svg></label><input id='data-d9094b2c-38cd-47b9-9b3d-8e82faac449e' class='xr-var-data-in' type='checkbox'><label for='data-d9094b2c-38cd-47b9-9b3d-8e82faac449e' title='Show/Hide data repr'><svg class='icon xr-icon-database'><use xlink:href='#icon-database'></use></svg></label><div class='xr-var-attrs'><dl class='xr-attrs'></dl></div><div class='xr-var-data'><pre>[8073 values with dtype=|S1]</pre></div></li><li class='xr-var-item'><div class='xr-var-name'><span>b_bp700_QFA</span></div><div class='xr-var-dims'>(N_PROF, N_LEVELS)</div><div class='xr-var-dtype'>float64</div><div class='xr-var-preview xr-preview'>...</div><input id='attrs-2713830e-84ed-477b-97c9-9573a02de1ad' class='xr-var-attrs-in' type='checkbox' ><label for='attrs-2713830e-84ed-477b-97c9-9573a02de1ad' title='Show/Hide attributes'><svg class='icon xr-icon-file-text2'><use xlink:href='#icon-file-text2'></use></svg></label><input id='data-477eaf18-9bd4-4cf8-9674-4a672edc9632' class='xr-var-data-in' type='checkbox'><label for='data-477eaf18-9bd4-4cf8-9674-4a672edc9632' title='Show/Hide data repr'><svg class='icon xr-icon-database'><use xlink:href='#icon-database'></use></svg></label><div class='xr-var-attrs'><dl class='xr-attrs'><dt><span>NOTES :</span></dt><dd>Variables ending in _QFA are an alternate format (double matrix instead of character array)  for the variable ending in _QF</dd></dl></div><div class='xr-var-data'><pre>[8073 values with dtype=float64]</pre></div></li><li class='xr-var-item'><div class='xr-var-name'><span>POC</span></div><div class='xr-var-dims'>(N_PROF, N_LEVELS)</div><div class='xr-var-dtype'>float64</div><div class='xr-var-preview xr-preview'>...</div><input id='attrs-a3f458e1-ca28-41f1-aad8-d67726b1ee9a' class='xr-var-attrs-in' type='checkbox' ><label for='attrs-a3f458e1-ca28-41f1-aad8-d67726b1ee9a' title='Show/Hide attributes'><svg class='icon xr-icon-file-text2'><use xlink:href='#icon-file-text2'></use></svg></label><input id='data-ea4615c0-c688-4459-b5be-72ab28b0e49e' class='xr-var-data-in' type='checkbox'><label for='data-ea4615c0-c688-4459-b5be-72ab28b0e49e' title='Show/Hide data repr'><svg class='icon xr-icon-database'><use xlink:href='#icon-database'></use></svg></label><div class='xr-var-attrs'><dl class='xr-attrs'><dt><span>units :</span></dt><dd>mmol/m^3</dd></dl></div><div class='xr-var-data'><pre>[8073 values with dtype=float64]</pre></div></li><li class='xr-var-item'><div class='xr-var-name'><span>POC_QF</span></div><div class='xr-var-dims'>(N_PROF, N_LEVELS)</div><div class='xr-var-dtype'>|S1</div><div class='xr-var-preview xr-preview'>...</div><input id='attrs-06c80134-68fd-4a4d-a140-64753725f234' class='xr-var-attrs-in' type='checkbox' disabled><label for='attrs-06c80134-68fd-4a4d-a140-64753725f234' title='Show/Hide attributes'><svg class='icon xr-icon-file-text2'><use xlink:href='#icon-file-text2'></use></svg></label><input id='data-49a231bd-d1ba-41a1-8220-47ad33e364c5' class='xr-var-data-in' type='checkbox'><label for='data-49a231bd-d1ba-41a1-8220-47ad33e364c5' title='Show/Hide data repr'><svg class='icon xr-icon-database'><use xlink:href='#icon-database'></use></svg></label><div class='xr-var-attrs'><dl class='xr-attrs'></dl></div><div class='xr-var-data'><pre>[8073 values with dtype=|S1]</pre></div></li><li class='xr-var-item'><div class='xr-var-name'><span>POC_QFA</span></div><div class='xr-var-dims'>(N_PROF, N_LEVELS)</div><div class='xr-var-dtype'>float64</div><div class='xr-var-preview xr-preview'>...</div><input id='attrs-1b04b60d-563e-4af5-8bde-75b55a9bd678' class='xr-var-attrs-in' type='checkbox' ><label for='attrs-1b04b60d-563e-4af5-8bde-75b55a9bd678' title='Show/Hide attributes'><svg class='icon xr-icon-file-text2'><use xlink:href='#icon-file-text2'></use></svg></label><input id='data-902bd25e-f51e-4bb4-ac81-c83ffb21f4a9' class='xr-var-data-in' type='checkbox'><label for='data-902bd25e-f51e-4bb4-ac81-c83ffb21f4a9' title='Show/Hide data repr'><svg class='icon xr-icon-database'><use xlink:href='#icon-database'></use></svg></label><div class='xr-var-attrs'><dl class='xr-attrs'><dt><span>NOTES :</span></dt><dd>Variables ending in _QFA are an alternate format (double matrix instead of character array)  for the variable ending in _QF</dd></dl></div><div class='xr-var-data'><pre>[8073 values with dtype=float64]</pre></div></li><li class='xr-var-item'><div class='xr-var-name'><span>pHinsitu</span></div><div class='xr-var-dims'>(N_PROF, N_LEVELS)</div><div class='xr-var-dtype'>float64</div><div class='xr-var-preview xr-preview'>...</div><input id='attrs-997c5b34-20f6-470c-a584-d0dc8faa9565' class='xr-var-attrs-in' type='checkbox' ><label for='attrs-997c5b34-20f6-470c-a584-d0dc8faa9565' title='Show/Hide attributes'><svg class='icon xr-icon-file-text2'><use xlink:href='#icon-file-text2'></use></svg></label><input id='data-c5e9ac25-483c-407b-8915-94ec02137266' class='xr-var-data-in' type='checkbox'><label for='data-c5e9ac25-483c-407b-8915-94ec02137266' title='Show/Hide data repr'><svg class='icon xr-icon-database'><use xlink:href='#icon-database'></use></svg></label><div class='xr-var-attrs'><dl class='xr-attrs'><dt><span>units :</span></dt><dd>Total</dd></dl></div><div class='xr-var-data'><pre>[8073 values with dtype=float64]</pre></div></li><li class='xr-var-item'><div class='xr-var-name'><span>pHinsitu_QF</span></div><div class='xr-var-dims'>(N_PROF, N_LEVELS)</div><div class='xr-var-dtype'>|S1</div><div class='xr-var-preview xr-preview'>...</div><input id='attrs-663c9353-c125-4bc5-b68f-42d4a71f85be' class='xr-var-attrs-in' type='checkbox' disabled><label for='attrs-663c9353-c125-4bc5-b68f-42d4a71f85be' title='Show/Hide attributes'><svg class='icon xr-icon-file-text2'><use xlink:href='#icon-file-text2'></use></svg></label><input id='data-a6257ebb-ed6f-4148-b586-29bc4de55afb' class='xr-var-data-in' type='checkbox'><label for='data-a6257ebb-ed6f-4148-b586-29bc4de55afb' title='Show/Hide data repr'><svg class='icon xr-icon-database'><use xlink:href='#icon-database'></use></svg></label><div class='xr-var-attrs'><dl class='xr-attrs'></dl></div><div class='xr-var-data'><pre>[8073 values with dtype=|S1]</pre></div></li><li class='xr-var-item'><div class='xr-var-name'><span>pHinsitu_QFA</span></div><div class='xr-var-dims'>(N_PROF, N_LEVELS)</div><div class='xr-var-dtype'>float64</div><div class='xr-var-preview xr-preview'>...</div><input id='attrs-cba1ea9a-f572-4160-aba6-78c4900869cd' class='xr-var-attrs-in' type='checkbox' ><label for='attrs-cba1ea9a-f572-4160-aba6-78c4900869cd' title='Show/Hide attributes'><svg class='icon xr-icon-file-text2'><use xlink:href='#icon-file-text2'></use></svg></label><input id='data-87569bf9-d74e-45c1-88a5-9b0d4147e043' class='xr-var-data-in' type='checkbox'><label for='data-87569bf9-d74e-45c1-88a5-9b0d4147e043' title='Show/Hide data repr'><svg class='icon xr-icon-database'><use xlink:href='#icon-database'></use></svg></label><div class='xr-var-attrs'><dl class='xr-attrs'><dt><span>NOTES :</span></dt><dd>Variables ending in _QFA are an alternate format (double matrix instead of character array)  for the variable ending in _QF</dd></dl></div><div class='xr-var-data'><pre>[8073 values with dtype=float64]</pre></div></li><li class='xr-var-item'><div class='xr-var-name'><span>pH25C</span></div><div class='xr-var-dims'>(N_PROF, N_LEVELS)</div><div class='xr-var-dtype'>float64</div><div class='xr-var-preview xr-preview'>...</div><input id='attrs-abb98ac0-3474-4676-9ee8-39d5b2c660e8' class='xr-var-attrs-in' type='checkbox' ><label for='attrs-abb98ac0-3474-4676-9ee8-39d5b2c660e8' title='Show/Hide attributes'><svg class='icon xr-icon-file-text2'><use xlink:href='#icon-file-text2'></use></svg></label><input id='data-51b53d2f-e131-4531-aadb-cd8909eb8c38' class='xr-var-data-in' type='checkbox'><label for='data-51b53d2f-e131-4531-aadb-cd8909eb8c38' title='Show/Hide data repr'><svg class='icon xr-icon-database'><use xlink:href='#icon-database'></use></svg></label><div class='xr-var-attrs'><dl class='xr-attrs'><dt><span>units :</span></dt><dd>Total</dd></dl></div><div class='xr-var-data'><pre>[8073 values with dtype=float64]</pre></div></li><li class='xr-var-item'><div class='xr-var-name'><span>pH25C_QF</span></div><div class='xr-var-dims'>(N_PROF, N_LEVELS)</div><div class='xr-var-dtype'>|S1</div><div class='xr-var-preview xr-preview'>...</div><input id='attrs-a7d9d955-f82a-43ab-8942-c101f3669b4c' class='xr-var-attrs-in' type='checkbox' disabled><label for='attrs-a7d9d955-f82a-43ab-8942-c101f3669b4c' title='Show/Hide attributes'><svg class='icon xr-icon-file-text2'><use xlink:href='#icon-file-text2'></use></svg></label><input id='data-31757f9a-be30-43a4-b056-ba353451e2ce' class='xr-var-data-in' type='checkbox'><label for='data-31757f9a-be30-43a4-b056-ba353451e2ce' title='Show/Hide data repr'><svg class='icon xr-icon-database'><use xlink:href='#icon-database'></use></svg></label><div class='xr-var-attrs'><dl class='xr-attrs'></dl></div><div class='xr-var-data'><pre>[8073 values with dtype=|S1]</pre></div></li><li class='xr-var-item'><div class='xr-var-name'><span>pH25C_QFA</span></div><div class='xr-var-dims'>(N_PROF, N_LEVELS)</div><div class='xr-var-dtype'>float64</div><div class='xr-var-preview xr-preview'>...</div><input id='attrs-8069eff6-2646-42ee-a4cd-aec6aa43e50d' class='xr-var-attrs-in' type='checkbox' ><label for='attrs-8069eff6-2646-42ee-a4cd-aec6aa43e50d' title='Show/Hide attributes'><svg class='icon xr-icon-file-text2'><use xlink:href='#icon-file-text2'></use></svg></label><input id='data-bb4afa9a-42f1-4c1b-9158-ecce69541a87' class='xr-var-data-in' type='checkbox'><label for='data-bb4afa9a-42f1-4c1b-9158-ecce69541a87' title='Show/Hide data repr'><svg class='icon xr-icon-database'><use xlink:href='#icon-database'></use></svg></label><div class='xr-var-attrs'><dl class='xr-attrs'><dt><span>NOTES :</span></dt><dd>Variables ending in _QFA are an alternate format (double matrix instead of character array)  for the variable ending in _QF</dd></dl></div><div class='xr-var-data'><pre>[8073 values with dtype=float64]</pre></div></li><li class='xr-var-item'><div class='xr-var-name'><span>TALK_LIAR</span></div><div class='xr-var-dims'>(N_PROF, N_LEVELS)</div><div class='xr-var-dtype'>float64</div><div class='xr-var-preview xr-preview'>...</div><input id='attrs-103d5ca2-a957-4a74-afa5-f4411201c347' class='xr-var-attrs-in' type='checkbox' ><label for='attrs-103d5ca2-a957-4a74-afa5-f4411201c347' title='Show/Hide attributes'><svg class='icon xr-icon-file-text2'><use xlink:href='#icon-file-text2'></use></svg></label><input id='data-402d55c4-2745-4e76-aff3-18ac84810e65' class='xr-var-data-in' type='checkbox'><label for='data-402d55c4-2745-4e76-aff3-18ac84810e65' title='Show/Hide data repr'><svg class='icon xr-icon-database'><use xlink:href='#icon-database'></use></svg></label><div class='xr-var-attrs'><dl class='xr-attrs'><dt><span>units :</span></dt><dd>umol/kg</dd></dl></div><div class='xr-var-data'><pre>[8073 values with dtype=float64]</pre></div></li><li class='xr-var-item'><div class='xr-var-name'><span>TALK_LIAR_QF</span></div><div class='xr-var-dims'>(N_PROF, N_LEVELS)</div><div class='xr-var-dtype'>|S1</div><div class='xr-var-preview xr-preview'>...</div><input id='attrs-0aae394d-ac9b-4b54-82dd-8cf55d07763e' class='xr-var-attrs-in' type='checkbox' disabled><label for='attrs-0aae394d-ac9b-4b54-82dd-8cf55d07763e' title='Show/Hide attributes'><svg class='icon xr-icon-file-text2'><use xlink:href='#icon-file-text2'></use></svg></label><input id='data-485d6c5f-71f1-4a4f-a555-b0ef14604fa6' class='xr-var-data-in' type='checkbox'><label for='data-485d6c5f-71f1-4a4f-a555-b0ef14604fa6' title='Show/Hide data repr'><svg class='icon xr-icon-database'><use xlink:href='#icon-database'></use></svg></label><div class='xr-var-attrs'><dl class='xr-attrs'></dl></div><div class='xr-var-data'><pre>[8073 values with dtype=|S1]</pre></div></li><li class='xr-var-item'><div class='xr-var-name'><span>TALK_LIAR_QFA</span></div><div class='xr-var-dims'>(N_PROF, N_LEVELS)</div><div class='xr-var-dtype'>float64</div><div class='xr-var-preview xr-preview'>...</div><input id='attrs-c81a694b-08ce-4d0e-bc02-5de02924e50e' class='xr-var-attrs-in' type='checkbox' ><label for='attrs-c81a694b-08ce-4d0e-bc02-5de02924e50e' title='Show/Hide attributes'><svg class='icon xr-icon-file-text2'><use xlink:href='#icon-file-text2'></use></svg></label><input id='data-d24a6432-1c5c-4f4d-bb21-81b5c31fc6ad' class='xr-var-data-in' type='checkbox'><label for='data-d24a6432-1c5c-4f4d-bb21-81b5c31fc6ad' title='Show/Hide data repr'><svg class='icon xr-icon-database'><use xlink:href='#icon-database'></use></svg></label><div class='xr-var-attrs'><dl class='xr-attrs'><dt><span>NOTES :</span></dt><dd>Variables ending in _QFA are an alternate format (double matrix instead of character array)  for the variable ending in _QF</dd></dl></div><div class='xr-var-data'><pre>[8073 values with dtype=float64]</pre></div></li><li class='xr-var-item'><div class='xr-var-name'><span>DIC_LIAR</span></div><div class='xr-var-dims'>(N_PROF, N_LEVELS)</div><div class='xr-var-dtype'>float64</div><div class='xr-var-preview xr-preview'>...</div><input id='attrs-b26fa132-2933-4ae5-a856-0f3c314e15a9' class='xr-var-attrs-in' type='checkbox' ><label for='attrs-b26fa132-2933-4ae5-a856-0f3c314e15a9' title='Show/Hide attributes'><svg class='icon xr-icon-file-text2'><use xlink:href='#icon-file-text2'></use></svg></label><input id='data-08dd79e3-0c15-4f10-8f94-f63bd7c9c1cb' class='xr-var-data-in' type='checkbox'><label for='data-08dd79e3-0c15-4f10-8f94-f63bd7c9c1cb' title='Show/Hide data repr'><svg class='icon xr-icon-database'><use xlink:href='#icon-database'></use></svg></label><div class='xr-var-attrs'><dl class='xr-attrs'><dt><span>units :</span></dt><dd>umol/kg</dd></dl></div><div class='xr-var-data'><pre>[8073 values with dtype=float64]</pre></div></li><li class='xr-var-item'><div class='xr-var-name'><span>DIC_LIAR_QF</span></div><div class='xr-var-dims'>(N_PROF, N_LEVELS)</div><div class='xr-var-dtype'>|S1</div><div class='xr-var-preview xr-preview'>...</div><input id='attrs-8220c4f9-c459-4077-b0d8-cfb3b4ce7ddd' class='xr-var-attrs-in' type='checkbox' disabled><label for='attrs-8220c4f9-c459-4077-b0d8-cfb3b4ce7ddd' title='Show/Hide attributes'><svg class='icon xr-icon-file-text2'><use xlink:href='#icon-file-text2'></use></svg></label><input id='data-9a3daf1b-a9e8-4c14-a1bd-56fc6c1ba6ba' class='xr-var-data-in' type='checkbox'><label for='data-9a3daf1b-a9e8-4c14-a1bd-56fc6c1ba6ba' title='Show/Hide data repr'><svg class='icon xr-icon-database'><use xlink:href='#icon-database'></use></svg></label><div class='xr-var-attrs'><dl class='xr-attrs'></dl></div><div class='xr-var-data'><pre>[8073 values with dtype=|S1]</pre></div></li><li class='xr-var-item'><div class='xr-var-name'><span>DIC_LIAR_QFA</span></div><div class='xr-var-dims'>(N_PROF, N_LEVELS)</div><div class='xr-var-dtype'>float64</div><div class='xr-var-preview xr-preview'>...</div><input id='attrs-46055ee0-514c-43be-8df7-6351344a302c' class='xr-var-attrs-in' type='checkbox' ><label for='attrs-46055ee0-514c-43be-8df7-6351344a302c' title='Show/Hide attributes'><svg class='icon xr-icon-file-text2'><use xlink:href='#icon-file-text2'></use></svg></label><input id='data-705a4b86-745a-413c-bc19-7bf2b841f9be' class='xr-var-data-in' type='checkbox'><label for='data-705a4b86-745a-413c-bc19-7bf2b841f9be' title='Show/Hide data repr'><svg class='icon xr-icon-database'><use xlink:href='#icon-database'></use></svg></label><div class='xr-var-attrs'><dl class='xr-attrs'><dt><span>NOTES :</span></dt><dd>Variables ending in _QFA are an alternate format (double matrix instead of character array)  for the variable ending in _QF</dd></dl></div><div class='xr-var-data'><pre>[8073 values with dtype=float64]</pre></div></li><li class='xr-var-item'><div class='xr-var-name'><span>pCO2_LIAR</span></div><div class='xr-var-dims'>(N_PROF, N_LEVELS)</div><div class='xr-var-dtype'>float64</div><div class='xr-var-preview xr-preview'>...</div><input id='attrs-360fe1ae-4985-448f-8d24-b56aae8106cf' class='xr-var-attrs-in' type='checkbox' ><label for='attrs-360fe1ae-4985-448f-8d24-b56aae8106cf' title='Show/Hide attributes'><svg class='icon xr-icon-file-text2'><use xlink:href='#icon-file-text2'></use></svg></label><input id='data-8fafdef1-9b17-406e-9d95-eb854be128f4' class='xr-var-data-in' type='checkbox'><label for='data-8fafdef1-9b17-406e-9d95-eb854be128f4' title='Show/Hide data repr'><svg class='icon xr-icon-database'><use xlink:href='#icon-database'></use></svg></label><div class='xr-var-attrs'><dl class='xr-attrs'><dt><span>units :</span></dt><dd>uatm</dd></dl></div><div class='xr-var-data'><pre>[8073 values with dtype=float64]</pre></div></li><li class='xr-var-item'><div class='xr-var-name'><span>pCO2_LIAR_QF</span></div><div class='xr-var-dims'>(N_PROF, N_LEVELS)</div><div class='xr-var-dtype'>|S1</div><div class='xr-var-preview xr-preview'>...</div><input id='attrs-b51707a3-ac36-478a-abf9-b0800819135d' class='xr-var-attrs-in' type='checkbox' disabled><label for='attrs-b51707a3-ac36-478a-abf9-b0800819135d' title='Show/Hide attributes'><svg class='icon xr-icon-file-text2'><use xlink:href='#icon-file-text2'></use></svg></label><input id='data-07bd6d33-e355-4ab1-9728-3743c455f5b5' class='xr-var-data-in' type='checkbox'><label for='data-07bd6d33-e355-4ab1-9728-3743c455f5b5' title='Show/Hide data repr'><svg class='icon xr-icon-database'><use xlink:href='#icon-database'></use></svg></label><div class='xr-var-attrs'><dl class='xr-attrs'></dl></div><div class='xr-var-data'><pre>[8073 values with dtype=|S1]</pre></div></li><li class='xr-var-item'><div class='xr-var-name'><span>pCO2_LIAR_QFA</span></div><div class='xr-var-dims'>(N_PROF, N_LEVELS)</div><div class='xr-var-dtype'>float64</div><div class='xr-var-preview xr-preview'>...</div><input id='attrs-8dcbcb75-18c1-46d8-9186-6022c18f4a22' class='xr-var-attrs-in' type='checkbox' ><label for='attrs-8dcbcb75-18c1-46d8-9186-6022c18f4a22' title='Show/Hide attributes'><svg class='icon xr-icon-file-text2'><use xlink:href='#icon-file-text2'></use></svg></label><input id='data-4ec4f6b6-c8ea-4c0a-88e2-d6d728f52e9b' class='xr-var-data-in' type='checkbox'><label for='data-4ec4f6b6-c8ea-4c0a-88e2-d6d728f52e9b' title='Show/Hide data repr'><svg class='icon xr-icon-database'><use xlink:href='#icon-database'></use></svg></label><div class='xr-var-attrs'><dl class='xr-attrs'><dt><span>NOTES :</span></dt><dd>Variables ending in _QFA are an alternate format (double matrix instead of character array)  for the variable ending in _QF</dd></dl></div><div class='xr-var-data'><pre>[8073 values with dtype=float64]</pre></div></li><li class='xr-var-item'><div class='xr-var-name'><span>Type</span></div><div class='xr-var-dims'>()</div><div class='xr-var-dtype'>|S1</div><div class='xr-var-preview xr-preview'>...</div><input id='attrs-92a8b35e-caff-4aec-afa2-e6a3662b0348' class='xr-var-attrs-in' type='checkbox' disabled><label for='attrs-92a8b35e-caff-4aec-afa2-e6a3662b0348' title='Show/Hide attributes'><svg class='icon xr-icon-file-text2'><use xlink:href='#icon-file-text2'></use></svg></label><input id='data-2df7db0e-caa2-4ed4-ad50-3897e2942a80' class='xr-var-data-in' type='checkbox'><label for='data-2df7db0e-caa2-4ed4-ad50-3897e2942a80' title='Show/Hide data repr'><svg class='icon xr-icon-database'><use xlink:href='#icon-database'></use></svg></label><div class='xr-var-attrs'><dl class='xr-attrs'></dl></div><div class='xr-var-data'><pre>[1 values with dtype=|S1]</pre></div></li><li class='xr-var-item'><div class='xr-var-name'><span>mon_day_yr</span></div><div class='xr-var-dims'>(N_PROF)</div><div class='xr-var-dtype'>|S10</div><div class='xr-var-preview xr-preview'>...</div><input id='attrs-6478c6d9-6230-422b-a53b-5c15e12003b8' class='xr-var-attrs-in' type='checkbox' disabled><label for='attrs-6478c6d9-6230-422b-a53b-5c15e12003b8' title='Show/Hide attributes'><svg class='icon xr-icon-file-text2'><use xlink:href='#icon-file-text2'></use></svg></label><input id='data-07279f4c-e971-4bb7-902c-465916b97615' class='xr-var-data-in' type='checkbox'><label for='data-07279f4c-e971-4bb7-902c-465916b97615' title='Show/Hide data repr'><svg class='icon xr-icon-database'><use xlink:href='#icon-database'></use></svg></label><div class='xr-var-attrs'><dl class='xr-attrs'></dl></div><div class='xr-var-data'><pre>[117 values with dtype=|S10]</pre></div></li><li class='xr-var-item'><div class='xr-var-name'><span>hh_mm</span></div><div class='xr-var-dims'>(N_PROF)</div><div class='xr-var-dtype'>|S5</div><div class='xr-var-preview xr-preview'>...</div><input id='attrs-253f7b8a-08b6-4df6-963d-69a729e5fb3a' class='xr-var-attrs-in' type='checkbox' disabled><label for='attrs-253f7b8a-08b6-4df6-963d-69a729e5fb3a' title='Show/Hide attributes'><svg class='icon xr-icon-file-text2'><use xlink:href='#icon-file-text2'></use></svg></label><input id='data-0b2d5145-fe30-43ee-815d-b09f40a263de' class='xr-var-data-in' type='checkbox'><label for='data-0b2d5145-fe30-43ee-815d-b09f40a263de' title='Show/Hide data repr'><svg class='icon xr-icon-database'><use xlink:href='#icon-database'></use></svg></label><div class='xr-var-attrs'><dl class='xr-attrs'></dl></div><div class='xr-var-data'><pre>[117 values with dtype=|S5]</pre></div></li><li class='xr-var-item'><div class='xr-var-name'><span>Parameters</span></div><div class='xr-var-dims'>(NPARAMETER)</div><div class='xr-var-dtype'>|S19</div><div class='xr-var-preview xr-preview'>...</div><input id='attrs-d168c293-4273-45e8-9466-ba988554d140' class='xr-var-attrs-in' type='checkbox' ><label for='attrs-d168c293-4273-45e8-9466-ba988554d140' title='Show/Hide attributes'><svg class='icon xr-icon-file-text2'><use xlink:href='#icon-file-text2'></use></svg></label><input id='data-32176421-8f07-46c0-ba40-c54a176011b6' class='xr-var-data-in' type='checkbox'><label for='data-32176421-8f07-46c0-ba40-c54a176011b6' title='Show/Hide data repr'><svg class='icon xr-icon-database'><use xlink:href='#icon-database'></use></svg></label><div class='xr-var-attrs'><dl class='xr-attrs'><dt><span>NOTES :</span></dt><dd>Parameters is not a FloatViz variable. Parameters lists parameters in the original FloatViz file, in the same column order. JULD is not a variable in the original FloatViz file.</dd></dl></div><div class='xr-var-data'><pre>[42 values with dtype=|S19]</pre></div></li><li class='xr-var-item'><div class='xr-var-name'><span>JULD</span></div><div class='xr-var-dims'>(N_PROF)</div><div class='xr-var-dtype'>float64</div><div class='xr-var-preview xr-preview'>...</div><input id='attrs-a32e12d0-57bc-45e8-bcdc-e4bd3a26f264' class='xr-var-attrs-in' type='checkbox' ><label for='attrs-a32e12d0-57bc-45e8-bcdc-e4bd3a26f264' title='Show/Hide attributes'><svg class='icon xr-icon-file-text2'><use xlink:href='#icon-file-text2'></use></svg></label><input id='data-8faa611e-c9cc-4190-8c7b-de777c197332' class='xr-var-data-in' type='checkbox'><label for='data-8faa611e-c9cc-4190-8c7b-de777c197332' title='Show/Hide data repr'><svg class='icon xr-icon-database'><use xlink:href='#icon-database'></use></svg></label><div class='xr-var-attrs'><dl class='xr-attrs'><dt><span>long_name :</span></dt><dd>Julian day (UTC) of the station relative to REFERENCE_DATE_TIME</dd><dt><span>standard_name :</span></dt><dd>time</dd><dt><span>units :</span></dt><dd>days since 1950-01-01 00:00:00 UTC</dd><dt><span>conventions :</span></dt><dd>Relative julian days with decimal part (as parts of day)</dd><dt><span>NOTES :</span></dt><dd>JULD not a FloatViz variable,  but added for convenience and for similarity to ARGO-type files.</dd></dl></div><div class='xr-var-data'><pre>[117 values with dtype=float64]</pre></div></li><li class='xr-var-item'><div class='xr-var-name'><span>REFERENCE_DATE_TIME</span></div><div class='xr-var-dims'>()</div><div class='xr-var-dtype'>object</div><div class='xr-var-preview xr-preview'>...</div><input id='attrs-69bbbbb1-e4e8-47c6-ac92-e9efd50f71a6' class='xr-var-attrs-in' type='checkbox' ><label for='attrs-69bbbbb1-e4e8-47c6-ac92-e9efd50f71a6' title='Show/Hide attributes'><svg class='icon xr-icon-file-text2'><use xlink:href='#icon-file-text2'></use></svg></label><input id='data-3a650eda-44e0-42ac-9114-30c497ae7ad8' class='xr-var-data-in' type='checkbox'><label for='data-3a650eda-44e0-42ac-9114-30c497ae7ad8' title='Show/Hide data repr'><svg class='icon xr-icon-database'><use xlink:href='#icon-database'></use></svg></label><div class='xr-var-attrs'><dl class='xr-attrs'><dt><span>long_name :</span></dt><dd>Date of reference for Julian days</dd><dt><span>conventions :</span></dt><dd>YYYYMMDDHHMISS</dd><dt><span>NOTES :</span></dt><dd>REFERENCE_DATE_TIME not a FloatViz variable,  but added for convenience and for similarity to ARGO-type files.</dd></dl></div><div class='xr-var-data'><pre>[1 values with dtype=object]</pre></div></li></ul></div></li><li class='xr-section-item'><input id='section-70e7c05c-5831-47fb-ac3f-144591fb9ef0' class='xr-section-summary-in' type='checkbox' disabled ><label for='section-70e7c05c-5831-47fb-ac3f-144591fb9ef0' class='xr-section-summary'  title='Expand/collapse section'>Indexes: <span>(0)</span></label><div class='xr-section-inline-details'></div><div class='xr-section-details'><ul class='xr-var-list'></ul></div></li><li class='xr-section-item'><input id='section-0b5bd6fe-f585-4a9d-bab1-2b3b7c52884a' class='xr-section-summary-in' type='checkbox'  checked><label for='section-0b5bd6fe-f585-4a9d-bab1-2b3b7c52884a' class='xr-section-summary' >Attributes: <span>(1)</span></label><div class='xr-section-inline-details'></div><div class='xr-section-details'><dl class='xr-attrs'><dt><span>Comments :</span></dt><dd>\n",
       "//0\n",
       "//&lt;Encoding&gt;UTF-8&lt;/Encoding&gt;\n",
       "//File updated on 08/26/2023 15:30\n",
       "//!! ADJUSTED DATA FILE !!\n",
       "//WMO ID: 5906007\n",
       "//Institution ID: 12880\n",
       "//MBARI ID: ua12880\n",
       "//Project Name: SOCCOM\n",
       "//Region: SO\n",
       "//No missing float profiles\n",
       "//Missing Float position interpolated for station(s): 93 94 95 \n",
       "//Latitude quality flag = 4 for interpolated float positions\n",
       "//Missing Float data detected for adjusted station(s): 1 \n",
       "//\n",
       "//FLOAT VARIABLES:\n",
       "//Variable Sensor Serial number Comment\n",
       "//Pressure[dbar] Sbe41cp 10444 \n",
       "//Temperature[Â°C] Sbe41cp 10444 \n",
       "//Salinity[pss] Sbe41cp 10444 \n",
       "//Sigma_theta[kg/m^3]   Potential density at the sea surface\n",
       "//Depth[m]   Depth calculated from pressure and latitude\n",
       "//Oxygen[Âµmol/kg] Aanderaa 4330 2857 \n",
       "//OxygenSat[%]   Calculation assumes atmospheric pressure= 1013.25 mbar\n",
       "//Nitrate[Âµmol/kg] ISUS Lamp#L6.A01.0148  Spec#108002 Equitech Ti probe #1703.23  MBARI ARGO float#813  DF#225  CTD#10444 \n",
       "//Chl_a[mg/m^3] FLBBAP2 4681 See: Boss, E.B. and N. HaÃ«ntjens, 2016. http://soccom.princeton.edu/sites/default/files/files/SOCCOM_2016-1_Bio-optics-primer.pdf\n",
       "//b_bp700[1/m] FLBBAP2 4681 See: Boss, E.B. and N. HaÃ«ntjens, 2016. http://soccom.princeton.edu/sites/default/files/files/SOCCOM_2016-1_Bio-optics-primer.pdf\n",
       "//POC[mmol/m^3] FLBBAP2 4681 See: Boss, E.B. and N. HaÃ«ntjens, 2016. http://soccom.princeton.edu/sites/default/files/files/SOCCOM_2016-1_Bio-optics-primer.pdf\n",
       "//pHinsitu[Total] Durafet 225 \n",
       "//pH25C[Total] Durafet 225 estimated with CO2SYS(TALK_LIAR,pHinsitu) for Matlab  see note below\n",
       "//TALK_LIAR[Âµmol/kg]   TALK_LIAR = Alkalinity estimated with the LIAR V2.2 algorithim Eqn7, MeasIDVec = [1 6 7] (PSAL, DOXY_ADJ, TEMP), (Carter et al., 2016,doi:10.1002/lom3.10087; Carter et al., 2017, https://doi.org/10.1002/lom3.10232).LIAR code used was downloaded on 10/31/2018 from https://github.com/BRCScienceProducts/LIRs.\n",
       "//DIC_LIAR[Âµmol/kg]   estimated with CO2SYS(TALK_LIAR,pHinsitu) for Matlab (see note below)\n",
       "//pCO2_LIAR[Âµatm]   estimated with CO2SYS(TALK_LIAR,biased pHinsitu) for Matlab (see note below)\n",
       "//\n",
       "//NOTE ON CO2SYS CARBONATE SYSTEM CALCULATIONS:\n",
       "//All carbonate system variables calculated with CO2SYS for Matlab\n",
       "//(Sharp et al., 2020; see also Lewis and Wallace 1998)\n",
       "//used the following conditions: pH was reported on the total scale.\n",
       "//K1 and K2 dissociation constants were from Lueker et al., 2000, doi:\n",
       "//10.1016/S0304-4203(00)00022-0. The KSO4 dissociation constant was\n",
       "//from Dickson, 1990, doi: 10.1016/0021-9614(90)90074-Z. The KF dissociation\n",
       "//constant was from Perez and Fraga 1987, doi: 10.1016/0304-4203(87)90036-3.\n",
       "//The borate to salinity ratio was from Lee et al., 2010,\n",
       "//doi:10.1016/j.gca.2009.12.027. Silicate and Phosphate were not\n",
       "//measured by the float, but estimates based on Redfieldian ratios improved\n",
       "//the carbonate system estimates. If a nitrate value was considered to\n",
       "//be of good quality silicate = nitrate*2.5 and phosphate = nitrate/16,\n",
       "//otherwise the best estimate for both was considered to be 0. When pCO2\n",
       "//was estimated from TALK_LIAR and pHinsitu, a bias was first added to pHinsitu\n",
       "//following Williams et al., 2017, doi: https://doi.org/10.1002/2016GB005541 , section 3.4, equation 3.\n",
       "//This correction is not necessary for DIC and DIC is computed with the reported pH and the TALK_LIAR value.\n",
       "//\n",
       "//NOTE ON Chl_a [mg/m^3] CONCENTRATION:\n",
       "//There is community-established calibration bias of 2 for the WET Labs 413 ECO-series fluorometers\n",
       "//(Roesler et al, 2017, doi: 10.1002/lom3.10185).\n",
       "//Chl_a has been recalculated using in situ measured dark counts. Chl_a is then divided by the Roesler factor of 2.\n",
       "//Lastly, profiles with sun elevaltion &gt; 0 are corrected for NPQ (Xing et al, 2012, doi: 10.4319/lom.2012.10.483)\n",
       "//with uncorrected spikes (raw-filtered data) added back to the corrected profile.\n",
       "//\n",
       "//QUALITY CONTROLLED DATA CORRECTIONS:\n",
       "//Measurement Station Gain Offset Drift\n",
       "//Oxygen 1 1.0862 0.0000 0.0000\n",
       "//Nitrate 1 1.0000 -0.4086 -42.7354\n",
       "//Nitrate 3 1.0000 -1.6984 0.3811\n",
       "//Nitrate 117 1.0000 -0.6807 0.0000\n",
       "//pH 1 1.0000 -0.0166 0.9534\n",
       "//pH 3 1.0000 0.0156 -0.0425\n",
       "//pH 21 1.0000 -0.0256 1.0127\n",
       "//pH 23 1.0000 -0.0310 0.0272\n",
       "//pH 36 1.0000 0.0032 -0.2867\n",
       "//pH 40 1.0000 -0.0014 0.0000\n",
       "//pH 54 1.0000 -0.0151 0.0000\n",
       "//pH 69 1.0000 -0.0044 -0.0139\n",
       "//pH 107 1.0000 0.0003 0.0410\n",
       "//pH 116 1.0000 -0.0122 0.0000\n",
       "//pH 117 1.0000 -0.0055 0.0000\n",
       "//\n",
       "//Missing data value = -1e10\n",
       "//Data quality flags: 0=Good, 4=Questionable, 8=Bad, 1=Missing or not inspected \n",
       "//Note: all timestamps are in GMT. </dd></dl></div></li></ul></div></div>"
      ],
      "text/plain": [
       "<xarray.Dataset> Size: 2MB\n",
       "Dimensions:              (N_PROF: 117, N_LEVELS: 69, NPARAMETER: 42)\n",
       "Dimensions without coordinates: N_PROF, N_LEVELS, NPARAMETER\n",
       "Data variables: (12/60)\n",
       "    Cruise               |S11 11B ...\n",
       "    Station              (N_PROF) int32 468B ...\n",
       "    Lon                  (N_PROF) float64 936B ...\n",
       "    Lat                  (N_PROF) float64 936B ...\n",
       "    Lat_QF               (N_PROF) |S1 117B ...\n",
       "    Lat_QFA              (N_PROF) float64 936B ...\n",
       "    ...                   ...\n",
       "    Type                 |S1 1B ...\n",
       "    mon_day_yr           (N_PROF) |S10 1kB ...\n",
       "    hh_mm                (N_PROF) |S5 585B ...\n",
       "    Parameters           (NPARAMETER) |S19 798B ...\n",
       "    JULD                 (N_PROF) float64 936B ...\n",
       "    REFERENCE_DATE_TIME  object 8B ...\n",
       "Attributes:\n",
       "    Comments:  \\n//0\\n//<Encoding>UTF-8</Encoding>\\n//File updated on 08/26/2..."
      ]
     },
     "execution_count": 9,
     "metadata": {},
     "output_type": "execute_result"
    }
   ],
   "source": [
    "DSdict['5906007']\n"
   ]
  },
  {
   "cell_type": "code",
   "execution_count": 11,
   "metadata": {},
   "outputs": [
    {
     "data": {
      "text/plain": [
       "'/Users/sangminsong/Library/CloudStorage/OneDrive-UW/Code/2024_Pythia/SOCCOM_GO-BGC_LoResQC_LIAR_28Aug2023_netcdf/'"
      ]
     },
     "execution_count": 11,
     "metadata": {},
     "output_type": "execute_result"
    }
   ],
   "source": [
    "profile_dir"
   ]
  },
  {
   "cell_type": "code",
   "execution_count": 14,
   "metadata": {},
   "outputs": [
    {
     "ename": "ValueError",
     "evalue": "unrecognized chunk manager dask - must be one of: []",
     "output_type": "error",
     "traceback": [
      "\u001b[0;31m---------------------------------------------------------------------------\u001b[0m",
      "\u001b[0;31mValueError\u001b[0m                                Traceback (most recent call last)",
      "Cell \u001b[0;32mIn[14], line 1\u001b[0m\n\u001b[0;32m----> 1\u001b[0m \u001b[43mxr\u001b[49m\u001b[38;5;241;43m.\u001b[39;49m\u001b[43mopen_mfdataset\u001b[49m\u001b[43m(\u001b[49m\u001b[38;5;124;43m\"\u001b[39;49m\u001b[38;5;124;43m/Users/sangminsong/Library/CloudStorage/OneDrive-UW/Code/2024_Pythia/SOCCOM_GO-BGC_LoResQC_LIAR_28Aug2023_netcdf/*.nc\u001b[39;49m\u001b[38;5;124;43m\"\u001b[39;49m\u001b[43m)\u001b[49m\n",
      "File \u001b[0;32m/opt/homebrew/Caskroom/mambaforge/base/envs/sklearn-argo-dev/lib/python3.9/site-packages/xarray/backends/api.py:1054\u001b[0m, in \u001b[0;36mopen_mfdataset\u001b[0;34m(paths, chunks, concat_dim, compat, preprocess, engine, data_vars, coords, combine, parallel, join, attrs_file, combine_attrs, **kwargs)\u001b[0m\n\u001b[1;32m   1051\u001b[0m     open_ \u001b[38;5;241m=\u001b[39m open_dataset\n\u001b[1;32m   1052\u001b[0m     getattr_ \u001b[38;5;241m=\u001b[39m \u001b[38;5;28mgetattr\u001b[39m\n\u001b[0;32m-> 1054\u001b[0m datasets \u001b[38;5;241m=\u001b[39m [open_(p, \u001b[38;5;241m*\u001b[39m\u001b[38;5;241m*\u001b[39mopen_kwargs) \u001b[38;5;28;01mfor\u001b[39;00m p \u001b[38;5;129;01min\u001b[39;00m paths]\n\u001b[1;32m   1055\u001b[0m closers \u001b[38;5;241m=\u001b[39m [getattr_(ds, \u001b[38;5;124m\"\u001b[39m\u001b[38;5;124m_close\u001b[39m\u001b[38;5;124m\"\u001b[39m) \u001b[38;5;28;01mfor\u001b[39;00m ds \u001b[38;5;129;01min\u001b[39;00m datasets]\n\u001b[1;32m   1056\u001b[0m \u001b[38;5;28;01mif\u001b[39;00m preprocess \u001b[38;5;129;01mis\u001b[39;00m \u001b[38;5;129;01mnot\u001b[39;00m \u001b[38;5;28;01mNone\u001b[39;00m:\n",
      "File \u001b[0;32m/opt/homebrew/Caskroom/mambaforge/base/envs/sklearn-argo-dev/lib/python3.9/site-packages/xarray/backends/api.py:1054\u001b[0m, in \u001b[0;36m<listcomp>\u001b[0;34m(.0)\u001b[0m\n\u001b[1;32m   1051\u001b[0m     open_ \u001b[38;5;241m=\u001b[39m open_dataset\n\u001b[1;32m   1052\u001b[0m     getattr_ \u001b[38;5;241m=\u001b[39m \u001b[38;5;28mgetattr\u001b[39m\n\u001b[0;32m-> 1054\u001b[0m datasets \u001b[38;5;241m=\u001b[39m [\u001b[43mopen_\u001b[49m\u001b[43m(\u001b[49m\u001b[43mp\u001b[49m\u001b[43m,\u001b[49m\u001b[43m \u001b[49m\u001b[38;5;241;43m*\u001b[39;49m\u001b[38;5;241;43m*\u001b[39;49m\u001b[43mopen_kwargs\u001b[49m\u001b[43m)\u001b[49m \u001b[38;5;28;01mfor\u001b[39;00m p \u001b[38;5;129;01min\u001b[39;00m paths]\n\u001b[1;32m   1055\u001b[0m closers \u001b[38;5;241m=\u001b[39m [getattr_(ds, \u001b[38;5;124m\"\u001b[39m\u001b[38;5;124m_close\u001b[39m\u001b[38;5;124m\"\u001b[39m) \u001b[38;5;28;01mfor\u001b[39;00m ds \u001b[38;5;129;01min\u001b[39;00m datasets]\n\u001b[1;32m   1056\u001b[0m \u001b[38;5;28;01mif\u001b[39;00m preprocess \u001b[38;5;129;01mis\u001b[39;00m \u001b[38;5;129;01mnot\u001b[39;00m \u001b[38;5;28;01mNone\u001b[39;00m:\n",
      "File \u001b[0;32m/opt/homebrew/Caskroom/mambaforge/base/envs/sklearn-argo-dev/lib/python3.9/site-packages/xarray/backends/api.py:577\u001b[0m, in \u001b[0;36mopen_dataset\u001b[0;34m(filename_or_obj, engine, chunks, cache, decode_cf, mask_and_scale, decode_times, decode_timedelta, use_cftime, concat_characters, decode_coords, drop_variables, inline_array, chunked_array_type, from_array_kwargs, backend_kwargs, **kwargs)\u001b[0m\n\u001b[1;32m    570\u001b[0m overwrite_encoded_chunks \u001b[38;5;241m=\u001b[39m kwargs\u001b[38;5;241m.\u001b[39mpop(\u001b[38;5;124m\"\u001b[39m\u001b[38;5;124moverwrite_encoded_chunks\u001b[39m\u001b[38;5;124m\"\u001b[39m, \u001b[38;5;28;01mNone\u001b[39;00m)\n\u001b[1;32m    571\u001b[0m backend_ds \u001b[38;5;241m=\u001b[39m backend\u001b[38;5;241m.\u001b[39mopen_dataset(\n\u001b[1;32m    572\u001b[0m     filename_or_obj,\n\u001b[1;32m    573\u001b[0m     drop_variables\u001b[38;5;241m=\u001b[39mdrop_variables,\n\u001b[1;32m    574\u001b[0m     \u001b[38;5;241m*\u001b[39m\u001b[38;5;241m*\u001b[39mdecoders,\n\u001b[1;32m    575\u001b[0m     \u001b[38;5;241m*\u001b[39m\u001b[38;5;241m*\u001b[39mkwargs,\n\u001b[1;32m    576\u001b[0m )\n\u001b[0;32m--> 577\u001b[0m ds \u001b[38;5;241m=\u001b[39m \u001b[43m_dataset_from_backend_dataset\u001b[49m\u001b[43m(\u001b[49m\n\u001b[1;32m    578\u001b[0m \u001b[43m    \u001b[49m\u001b[43mbackend_ds\u001b[49m\u001b[43m,\u001b[49m\n\u001b[1;32m    579\u001b[0m \u001b[43m    \u001b[49m\u001b[43mfilename_or_obj\u001b[49m\u001b[43m,\u001b[49m\n\u001b[1;32m    580\u001b[0m \u001b[43m    \u001b[49m\u001b[43mengine\u001b[49m\u001b[43m,\u001b[49m\n\u001b[1;32m    581\u001b[0m \u001b[43m    \u001b[49m\u001b[43mchunks\u001b[49m\u001b[43m,\u001b[49m\n\u001b[1;32m    582\u001b[0m \u001b[43m    \u001b[49m\u001b[43mcache\u001b[49m\u001b[43m,\u001b[49m\n\u001b[1;32m    583\u001b[0m \u001b[43m    \u001b[49m\u001b[43moverwrite_encoded_chunks\u001b[49m\u001b[43m,\u001b[49m\n\u001b[1;32m    584\u001b[0m \u001b[43m    \u001b[49m\u001b[43minline_array\u001b[49m\u001b[43m,\u001b[49m\n\u001b[1;32m    585\u001b[0m \u001b[43m    \u001b[49m\u001b[43mchunked_array_type\u001b[49m\u001b[43m,\u001b[49m\n\u001b[1;32m    586\u001b[0m \u001b[43m    \u001b[49m\u001b[43mfrom_array_kwargs\u001b[49m\u001b[43m,\u001b[49m\n\u001b[1;32m    587\u001b[0m \u001b[43m    \u001b[49m\u001b[43mdrop_variables\u001b[49m\u001b[38;5;241;43m=\u001b[39;49m\u001b[43mdrop_variables\u001b[49m\u001b[43m,\u001b[49m\n\u001b[1;32m    588\u001b[0m \u001b[43m    \u001b[49m\u001b[38;5;241;43m*\u001b[39;49m\u001b[38;5;241;43m*\u001b[39;49m\u001b[43mdecoders\u001b[49m\u001b[43m,\u001b[49m\n\u001b[1;32m    589\u001b[0m \u001b[43m    \u001b[49m\u001b[38;5;241;43m*\u001b[39;49m\u001b[38;5;241;43m*\u001b[39;49m\u001b[43mkwargs\u001b[49m\u001b[43m,\u001b[49m\n\u001b[1;32m    590\u001b[0m \u001b[43m\u001b[49m\u001b[43m)\u001b[49m\n\u001b[1;32m    591\u001b[0m \u001b[38;5;28;01mreturn\u001b[39;00m ds\n",
      "File \u001b[0;32m/opt/homebrew/Caskroom/mambaforge/base/envs/sklearn-argo-dev/lib/python3.9/site-packages/xarray/backends/api.py:370\u001b[0m, in \u001b[0;36m_dataset_from_backend_dataset\u001b[0;34m(backend_ds, filename_or_obj, engine, chunks, cache, overwrite_encoded_chunks, inline_array, chunked_array_type, from_array_kwargs, **extra_tokens)\u001b[0m\n\u001b[1;32m    368\u001b[0m     ds \u001b[38;5;241m=\u001b[39m backend_ds\n\u001b[1;32m    369\u001b[0m \u001b[38;5;28;01melse\u001b[39;00m:\n\u001b[0;32m--> 370\u001b[0m     ds \u001b[38;5;241m=\u001b[39m \u001b[43m_chunk_ds\u001b[49m\u001b[43m(\u001b[49m\n\u001b[1;32m    371\u001b[0m \u001b[43m        \u001b[49m\u001b[43mbackend_ds\u001b[49m\u001b[43m,\u001b[49m\n\u001b[1;32m    372\u001b[0m \u001b[43m        \u001b[49m\u001b[43mfilename_or_obj\u001b[49m\u001b[43m,\u001b[49m\n\u001b[1;32m    373\u001b[0m \u001b[43m        \u001b[49m\u001b[43mengine\u001b[49m\u001b[43m,\u001b[49m\n\u001b[1;32m    374\u001b[0m \u001b[43m        \u001b[49m\u001b[43mchunks\u001b[49m\u001b[43m,\u001b[49m\n\u001b[1;32m    375\u001b[0m \u001b[43m        \u001b[49m\u001b[43moverwrite_encoded_chunks\u001b[49m\u001b[43m,\u001b[49m\n\u001b[1;32m    376\u001b[0m \u001b[43m        \u001b[49m\u001b[43minline_array\u001b[49m\u001b[43m,\u001b[49m\n\u001b[1;32m    377\u001b[0m \u001b[43m        \u001b[49m\u001b[43mchunked_array_type\u001b[49m\u001b[43m,\u001b[49m\n\u001b[1;32m    378\u001b[0m \u001b[43m        \u001b[49m\u001b[43mfrom_array_kwargs\u001b[49m\u001b[43m,\u001b[49m\n\u001b[1;32m    379\u001b[0m \u001b[43m        \u001b[49m\u001b[38;5;241;43m*\u001b[39;49m\u001b[38;5;241;43m*\u001b[39;49m\u001b[43mextra_tokens\u001b[49m\u001b[43m,\u001b[49m\n\u001b[1;32m    380\u001b[0m \u001b[43m    \u001b[49m\u001b[43m)\u001b[49m\n\u001b[1;32m    382\u001b[0m ds\u001b[38;5;241m.\u001b[39mset_close(backend_ds\u001b[38;5;241m.\u001b[39m_close)\n\u001b[1;32m    384\u001b[0m \u001b[38;5;66;03m# Ensure source filename always stored in dataset object\u001b[39;00m\n",
      "File \u001b[0;32m/opt/homebrew/Caskroom/mambaforge/base/envs/sklearn-argo-dev/lib/python3.9/site-packages/xarray/backends/api.py:318\u001b[0m, in \u001b[0;36m_chunk_ds\u001b[0;34m(backend_ds, filename_or_obj, engine, chunks, overwrite_encoded_chunks, inline_array, chunked_array_type, from_array_kwargs, **extra_tokens)\u001b[0m\n\u001b[1;32m    307\u001b[0m \u001b[38;5;28;01mdef\u001b[39;00m \u001b[38;5;21m_chunk_ds\u001b[39m(\n\u001b[1;32m    308\u001b[0m     backend_ds,\n\u001b[1;32m    309\u001b[0m     filename_or_obj,\n\u001b[0;32m   (...)\u001b[0m\n\u001b[1;32m    316\u001b[0m     \u001b[38;5;241m*\u001b[39m\u001b[38;5;241m*\u001b[39mextra_tokens,\n\u001b[1;32m    317\u001b[0m ):\n\u001b[0;32m--> 318\u001b[0m     chunkmanager \u001b[38;5;241m=\u001b[39m \u001b[43mguess_chunkmanager\u001b[49m\u001b[43m(\u001b[49m\u001b[43mchunked_array_type\u001b[49m\u001b[43m)\u001b[49m\n\u001b[1;32m    320\u001b[0m     \u001b[38;5;66;03m# TODO refactor to move this dask-specific logic inside the DaskManager class\u001b[39;00m\n\u001b[1;32m    321\u001b[0m     \u001b[38;5;28;01mif\u001b[39;00m \u001b[38;5;28misinstance\u001b[39m(chunkmanager, DaskManager):\n",
      "File \u001b[0;32m/opt/homebrew/Caskroom/mambaforge/base/envs/sklearn-argo-dev/lib/python3.9/site-packages/xarray/namedarray/parallelcompat.py:117\u001b[0m, in \u001b[0;36mguess_chunkmanager\u001b[0;34m(manager)\u001b[0m\n\u001b[1;32m    115\u001b[0m \u001b[38;5;28;01mif\u001b[39;00m \u001b[38;5;28misinstance\u001b[39m(manager, \u001b[38;5;28mstr\u001b[39m):\n\u001b[1;32m    116\u001b[0m     \u001b[38;5;28;01mif\u001b[39;00m manager \u001b[38;5;129;01mnot\u001b[39;00m \u001b[38;5;129;01min\u001b[39;00m chunkmanagers:\n\u001b[0;32m--> 117\u001b[0m         \u001b[38;5;28;01mraise\u001b[39;00m \u001b[38;5;167;01mValueError\u001b[39;00m(\n\u001b[1;32m    118\u001b[0m             \u001b[38;5;124mf\u001b[39m\u001b[38;5;124m\"\u001b[39m\u001b[38;5;124munrecognized chunk manager \u001b[39m\u001b[38;5;132;01m{\u001b[39;00mmanager\u001b[38;5;132;01m}\u001b[39;00m\u001b[38;5;124m - must be one of: \u001b[39m\u001b[38;5;132;01m{\u001b[39;00m\u001b[38;5;28mlist\u001b[39m(chunkmanagers)\u001b[38;5;132;01m}\u001b[39;00m\u001b[38;5;124m\"\u001b[39m\n\u001b[1;32m    119\u001b[0m         )\n\u001b[1;32m    121\u001b[0m     \u001b[38;5;28;01mreturn\u001b[39;00m chunkmanagers[manager]\n\u001b[1;32m    122\u001b[0m \u001b[38;5;28;01melif\u001b[39;00m \u001b[38;5;28misinstance\u001b[39m(manager, ChunkManagerEntrypoint):\n\u001b[1;32m    123\u001b[0m     \u001b[38;5;66;03m# already a valid ChunkManager so just pass through\u001b[39;00m\n",
      "\u001b[0;31mValueError\u001b[0m: unrecognized chunk manager dask - must be one of: []"
     ]
    }
   ],
   "source": [
    "xr.open_mfdataset(\"/Users/sangminsong/Library/CloudStorage/OneDrive-UW/Code/2024_Pythia/SOCCOM_GO-BGC_LoResQC_LIAR_28Aug2023_netcdf/*.nc\")"
   ]
  },
  {
   "cell_type": "markdown",
   "metadata": {},
   "source": [
    "## Argovis"
   ]
  },
  {
   "cell_type": "markdown",
   "metadata": {},
   "source": [
    "This is where you begin your first section of material, loosely tied to your objectives stated up front. Tie together your notebook as a narrative, with interspersed Markdown text, images, and more as necessary,"
   ]
  },
  {
   "cell_type": "code",
   "execution_count": null,
   "metadata": {},
   "outputs": [],
   "source": [
    "# as well as any and all of your code cells\n",
    "print(\"Hello world!\")"
   ]
  },
  {
   "cell_type": "markdown",
   "metadata": {},
   "source": [
    "### A content subsection\n",
    "Divide and conquer your objectives with Markdown subsections, which will populate the helpful navbar in Jupyter Lab and here on the Jupyter Book!"
   ]
  },
  {
   "cell_type": "code",
   "execution_count": null,
   "metadata": {},
   "outputs": [],
   "source": [
    "# some subsection code\n",
    "new = \"helpful information\""
   ]
  },
  {
   "cell_type": "markdown",
   "metadata": {},
   "source": [
    "### Another content subsection\n",
    "Keep up the good work! A note, *try to avoid using code comments as narrative*, and instead let them only exist as brief clarifications where necessary."
   ]
  },
  {
   "cell_type": "markdown",
   "metadata": {},
   "source": [
    "## Your second content section\n",
    "Here we can move on to our second objective, and we can demonstrate"
   ]
  },
  {
   "cell_type": "markdown",
   "metadata": {},
   "source": [
    "### Subsection to the second section\n",
    "\n",
    "#### a quick demonstration\n",
    "\n",
    "##### of further and further\n",
    "\n",
    "###### header levels"
   ]
  },
  {
   "cell_type": "markdown",
   "metadata": {},
   "source": [
    "as well $m = a * t / h$ text! Similarly, you have access to other $\\LaTeX$ equation [**functionality**](https://jupyter-notebook.readthedocs.io/en/stable/examples/Notebook/Typesetting%20Equations.html) via MathJax (demo below from link),\n",
    "\n",
    "\\begin{align}\n",
    "\\dot{x} & = \\sigma(y-x) \\\\\n",
    "\\dot{y} & = \\rho x - y - xz \\\\\n",
    "\\dot{z} & = -\\beta z + xy\n",
    "\\end{align}"
   ]
  },
  {
   "cell_type": "markdown",
   "metadata": {},
   "source": [
    "Check out [**any number of helpful Markdown resources**](https://www.markdownguide.org/basic-syntax/) for further customizing your notebooks and the [**Jupyter docs**](https://jupyter-notebook.readthedocs.io/en/stable/examples/Notebook/Working%20With%20Markdown%20Cells.html) for Jupyter-specific formatting information. Don't hesitate to ask questions if you have problems getting it to look *just right*."
   ]
  },
  {
   "cell_type": "markdown",
   "metadata": {},
   "source": [
    "## Last Section\n",
    "\n",
    "If you're comfortable, and as we briefly used for our embedded logo up top, you can embed raw html into Jupyter Markdown cells (edit to see):"
   ]
  },
  {
   "cell_type": "markdown",
   "metadata": {},
   "source": [
    "<div class=\"admonition alert alert-info\">\n",
    "    <p class=\"admonition-title\" style=\"font-weight:bold\">Info</p>\n",
    "    Your relevant information here!\n",
    "</div>"
   ]
  },
  {
   "cell_type": "markdown",
   "metadata": {},
   "source": [
    "Feel free to copy this around and edit or play around with yourself. Some other `admonitions` you can put in:"
   ]
  },
  {
   "cell_type": "markdown",
   "metadata": {},
   "source": [
    "<div class=\"admonition alert alert-success\">\n",
    "    <p class=\"admonition-title\" style=\"font-weight:bold\">Success</p>\n",
    "    We got this done after all!\n",
    "</div>"
   ]
  },
  {
   "cell_type": "markdown",
   "metadata": {},
   "source": [
    "<div class=\"admonition alert alert-warning\">\n",
    "    <p class=\"admonition-title\" style=\"font-weight:bold\">Warning</p>\n",
    "    Be careful!\n",
    "</div>"
   ]
  },
  {
   "cell_type": "markdown",
   "metadata": {},
   "source": [
    "<div class=\"admonition alert alert-danger\">\n",
    "    <p class=\"admonition-title\" style=\"font-weight:bold\">Danger</p>\n",
    "    Scary stuff be here.\n",
    "</div>"
   ]
  },
  {
   "cell_type": "markdown",
   "metadata": {},
   "source": [
    "We also suggest checking out Jupyter Book's [brief demonstration](https://jupyterbook.org/content/metadata.html#jupyter-cell-tags) on adding cell tags to your cells in Jupyter Notebook, Lab, or manually. Using these cell tags can allow you to [customize](https://jupyterbook.org/interactive/hiding.html) how your code content is displayed and even [demonstrate errors](https://jupyterbook.org/content/execute.html#dealing-with-code-that-raises-errors) without altogether crashing our loyal army of machines!"
   ]
  },
  {
   "cell_type": "markdown",
   "metadata": {},
   "source": [
    "---"
   ]
  },
  {
   "cell_type": "markdown",
   "metadata": {},
   "source": [
    "## Summary\n",
    "Add one final `---` marking the end of your body of content, and then conclude with a brief single paragraph summarizing at a high level the key pieces that were learned and how they tied to your objectives. Look to reiterate what the most important takeaways were.\n",
    "\n",
    "### What's next?\n",
    "Let Jupyter book tie this to the next (sequential) piece of content that people could move on to down below and in the sidebar. However, if this page uniquely enables your reader to tackle other nonsequential concepts throughout this book, or even external content, link to it here!"
   ]
  },
  {
   "cell_type": "markdown",
   "metadata": {},
   "source": [
    "## Resources and references\n",
    "Finally, be rigorous in your citations and references as necessary. Give credit where credit is due. Also, feel free to link to relevant external material, further reading, documentation, etc. Then you're done! Give yourself a quick review, a high five, and send us a pull request. A few final notes:\n",
    " - `Kernel > Restart Kernel and Run All Cells...` to confirm that your notebook will cleanly run from start to finish\n",
    " - `Kernel > Restart Kernel and Clear All Outputs...` before committing your notebook, our machines will do the heavy lifting\n",
    " - Take credit! Provide author contact information if you'd like; if so, consider adding information here at the bottom of your notebook\n",
    " - Give credit! Attribute appropriate authorship for referenced code, information, images, etc.\n",
    " - Only include what you're legally allowed: **no copyright infringement or plagiarism**\n",
    " \n",
    "Thank you for your contribution!"
   ]
  }
 ],
 "metadata": {
  "kernelspec": {
   "display_name": "Python 3 (ipykernel)",
   "language": "python",
   "name": "python3"
  },
  "language_info": {
   "codemirror_mode": {
    "name": "ipython",
    "version": 3
   },
   "file_extension": ".py",
   "mimetype": "text/x-python",
   "name": "python",
   "nbconvert_exporter": "python",
   "pygments_lexer": "ipython3",
   "version": "3.9.19"
  },
  "nbdime-conflicts": {
   "local_diff": [
    {
     "diff": [
      {
       "diff": [
        {
         "key": 0,
         "op": "addrange",
         "valuelist": [
          "Python 3"
         ]
        },
        {
         "key": 0,
         "length": 1,
         "op": "removerange"
        }
       ],
       "key": "display_name",
       "op": "patch"
      }
     ],
     "key": "kernelspec",
     "op": "patch"
    }
   ],
   "remote_diff": [
    {
     "diff": [
      {
       "diff": [
        {
         "key": 0,
         "op": "addrange",
         "valuelist": [
          "Python3"
         ]
        },
        {
         "key": 0,
         "length": 1,
         "op": "removerange"
        }
       ],
       "key": "display_name",
       "op": "patch"
      }
     ],
     "key": "kernelspec",
     "op": "patch"
    }
   ]
  },
  "toc-autonumbering": false
 },
 "nbformat": 4,
 "nbformat_minor": 4
}
