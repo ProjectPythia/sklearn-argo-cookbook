{
 "cells": [
  {
   "cell_type": "markdown",
   "metadata": {},
   "source": [
    "Let's start here! If you can directly link to an image relevant to your notebook, such as [canonical logos](https://github.com/numpy/numpy/blob/main/doc/source/_static/numpylogo.svg), do so here at the top of your notebook. You can do this with Markdown syntax,\n",
    "\n",
    "> `![<image title>](http://link.com/to/image.png \"image alt text\")`\n",
    "\n",
    "or edit this cell to see raw HTML `img` demonstration. This is preferred if you need to shrink your embedded image. **Either way be sure to include `alt` text for any embedded images to make your content more accessible.**\n",
    "\n",
    "<img src=\"images/ProjectPythia_Logo_Final-01-Blue.svg\" width=250 alt=\"Project Pythia Logo\"></img>"
   ]
  },
  {
   "cell_type": "markdown",
   "metadata": {},
   "source": [
    "# Accessing Argo Data"
   ]
  },
  {
   "cell_type": "markdown",
   "metadata": {},
   "source": [
    "---"
   ]
  },
  {
   "cell_type": "markdown",
   "metadata": {},
   "source": [
    "## Overview\n",
    "\n",
    "Building upon previous notebook, [Introduction to Argo](notebooks/argo-introduction.ipynb), we next explore how to access Argo data in a few different ways. \n",
    "\n",
    "1. Data formats for Argo profiles\n",
    "2. Downloading [monthly snapshots](http://www.argodatamgt.org/Access-to-data/Argo-DOI-Digital-Object-Identifier) using Argo DOI's\n",
    "3. Using [Argovis](https://argovis.colorado.edu/argo) for API-based queries \n",
    "4. Using the [GO-BGC Toolbox](https://github.com/go-bgc/workshop-python)\n",
    "5. Using [Argopy](https://argopy.readthedocs.io/en/latest/user-guide/fetching-argo-data/index.html), a dedicated Python package\n",
    "\n",
    "After going through this notebook, you will be able to retrieve Argo data of interest within a certain time frame, geographical location, or by platform identifier. There are many ways of working with Argo data which are not described here. \n",
    "Further information on Argo access can be found on the [Argo website](https://argo.ucsd.edu/data/)."
   ]
  },
  {
   "cell_type": "markdown",
   "metadata": {},
   "source": [
    "## Prerequisites\n",
    "\n",
    "Label the importance of each concept explicitly as **helpful/necessary**.\n",
    "\n",
    "| Concepts | Importance | Notes |\n",
    "| --- | --- | --- |\n",
    "| [Intro to Numpy](https://numpy.org/learn/) | Necessary | |\n",
    "| [Intro to NetCDF](https://foundations.projectpythia.org/core/data-formats/netcdf-cf.html) | Necessary | Familiarity with metadata structure |\n",
    "| [Intro to Xarray](https://foundations.projectpythia.org/core/xarray.html) | Necessary | |\n",
    "\n",
    "- **Time to learn**: 20 min\n"
   ]
  },
  {
   "cell_type": "markdown",
   "metadata": {},
   "source": [
    "---"
   ]
  },
  {
   "cell_type": "markdown",
   "metadata": {},
   "source": [
    "## Imports\n",
    "Begin your body of content with another `---` divider before continuing into this section, then remove this body text and populate the following code cell with all necessary Python imports **up-front**:"
   ]
  },
  {
   "cell_type": "code",
   "execution_count": 1,
   "metadata": {},
   "outputs": [],
   "source": [
    "# Import packages\n",
    "import sys\n",
    "import os\n",
    "import numpy as np\n",
    "import pandas as pd\n",
    "import scipy\n",
    "import xarray as xr\n",
    "from datetime import datetime, timedelta\n",
    "\n",
    "import matplotlib.pyplot as plt\n",
    "import matplotlib.colors as mcolors\n",
    "import seaborn as sns\n",
    "\n",
    "from argovisHelpers import helpers as avh"
   ]
  },
  {
   "cell_type": "markdown",
   "metadata": {},
   "source": [
    "## Snapshots"
   ]
  },
  {
   "cell_type": "code",
   "execution_count": 2,
   "metadata": {},
   "outputs": [],
   "source": [
    "# # Base filepath. Need for Argo GDAC function.\n",
    "root = '/Users/sangminsong/Library/CloudStorage/OneDrive-UW/Code/2024_Pythia/'\n",
    "profile_dir = root + 'SOCCOM_GO-BGC_LoResQC_LIAR_28Aug2023_netcdf/'"
   ]
  },
  {
   "cell_type": "code",
   "execution_count": 3,
   "metadata": {},
   "outputs": [],
   "source": [
    "DSdict = {}\n",
    "for filename in os.listdir(profile_dir):\n",
    "    if filename.endswith(\".nc\"):\n",
    "        fp = profile_dir + filename\n",
    "        single_dataset = xr.open_dataset(fp, decode_times=False)\n",
    "        DSdict[filename[0:7]] = single_dataset\n",
    "# DSdict['5906030']"
   ]
  },
  {
   "cell_type": "code",
   "execution_count": 4,
   "metadata": {},
   "outputs": [
    {
     "data": {
      "text/html": [
       "<div><svg style=\"position: absolute; width: 0; height: 0; overflow: hidden\">\n",
       "<defs>\n",
       "<symbol id=\"icon-database\" viewBox=\"0 0 32 32\">\n",
       "<path d=\"M16 0c-8.837 0-16 2.239-16 5v4c0 2.761 7.163 5 16 5s16-2.239 16-5v-4c0-2.761-7.163-5-16-5z\"></path>\n",
       "<path d=\"M16 17c-8.837 0-16-2.239-16-5v6c0 2.761 7.163 5 16 5s16-2.239 16-5v-6c0 2.761-7.163 5-16 5z\"></path>\n",
       "<path d=\"M16 26c-8.837 0-16-2.239-16-5v6c0 2.761 7.163 5 16 5s16-2.239 16-5v-6c0 2.761-7.163 5-16 5z\"></path>\n",
       "</symbol>\n",
       "<symbol id=\"icon-file-text2\" viewBox=\"0 0 32 32\">\n",
       "<path d=\"M28.681 7.159c-0.694-0.947-1.662-2.053-2.724-3.116s-2.169-2.030-3.116-2.724c-1.612-1.182-2.393-1.319-2.841-1.319h-15.5c-1.378 0-2.5 1.121-2.5 2.5v27c0 1.378 1.122 2.5 2.5 2.5h23c1.378 0 2.5-1.122 2.5-2.5v-19.5c0-0.448-0.137-1.23-1.319-2.841zM24.543 5.457c0.959 0.959 1.712 1.825 2.268 2.543h-4.811v-4.811c0.718 0.556 1.584 1.309 2.543 2.268zM28 29.5c0 0.271-0.229 0.5-0.5 0.5h-23c-0.271 0-0.5-0.229-0.5-0.5v-27c0-0.271 0.229-0.5 0.5-0.5 0 0 15.499-0 15.5 0v7c0 0.552 0.448 1 1 1h7v19.5z\"></path>\n",
       "<path d=\"M23 26h-14c-0.552 0-1-0.448-1-1s0.448-1 1-1h14c0.552 0 1 0.448 1 1s-0.448 1-1 1z\"></path>\n",
       "<path d=\"M23 22h-14c-0.552 0-1-0.448-1-1s0.448-1 1-1h14c0.552 0 1 0.448 1 1s-0.448 1-1 1z\"></path>\n",
       "<path d=\"M23 18h-14c-0.552 0-1-0.448-1-1s0.448-1 1-1h14c0.552 0 1 0.448 1 1s-0.448 1-1 1z\"></path>\n",
       "</symbol>\n",
       "</defs>\n",
       "</svg>\n",
       "<style>/* CSS stylesheet for displaying xarray objects in jupyterlab.\n",
       " *\n",
       " */\n",
       "\n",
       ":root {\n",
       "  --xr-font-color0: var(--jp-content-font-color0, rgba(0, 0, 0, 1));\n",
       "  --xr-font-color2: var(--jp-content-font-color2, rgba(0, 0, 0, 0.54));\n",
       "  --xr-font-color3: var(--jp-content-font-color3, rgba(0, 0, 0, 0.38));\n",
       "  --xr-border-color: var(--jp-border-color2, #e0e0e0);\n",
       "  --xr-disabled-color: var(--jp-layout-color3, #bdbdbd);\n",
       "  --xr-background-color: var(--jp-layout-color0, white);\n",
       "  --xr-background-color-row-even: var(--jp-layout-color1, white);\n",
       "  --xr-background-color-row-odd: var(--jp-layout-color2, #eeeeee);\n",
       "}\n",
       "\n",
       "html[theme=dark],\n",
       "body[data-theme=dark],\n",
       "body.vscode-dark {\n",
       "  --xr-font-color0: rgba(255, 255, 255, 1);\n",
       "  --xr-font-color2: rgba(255, 255, 255, 0.54);\n",
       "  --xr-font-color3: rgba(255, 255, 255, 0.38);\n",
       "  --xr-border-color: #1F1F1F;\n",
       "  --xr-disabled-color: #515151;\n",
       "  --xr-background-color: #111111;\n",
       "  --xr-background-color-row-even: #111111;\n",
       "  --xr-background-color-row-odd: #313131;\n",
       "}\n",
       "\n",
       ".xr-wrap {\n",
       "  display: block !important;\n",
       "  min-width: 300px;\n",
       "  max-width: 700px;\n",
       "}\n",
       "\n",
       ".xr-text-repr-fallback {\n",
       "  /* fallback to plain text repr when CSS is not injected (untrusted notebook) */\n",
       "  display: none;\n",
       "}\n",
       "\n",
       ".xr-header {\n",
       "  padding-top: 6px;\n",
       "  padding-bottom: 6px;\n",
       "  margin-bottom: 4px;\n",
       "  border-bottom: solid 1px var(--xr-border-color);\n",
       "}\n",
       "\n",
       ".xr-header > div,\n",
       ".xr-header > ul {\n",
       "  display: inline;\n",
       "  margin-top: 0;\n",
       "  margin-bottom: 0;\n",
       "}\n",
       "\n",
       ".xr-obj-type,\n",
       ".xr-array-name {\n",
       "  margin-left: 2px;\n",
       "  margin-right: 10px;\n",
       "}\n",
       "\n",
       ".xr-obj-type {\n",
       "  color: var(--xr-font-color2);\n",
       "}\n",
       "\n",
       ".xr-sections {\n",
       "  padding-left: 0 !important;\n",
       "  display: grid;\n",
       "  grid-template-columns: 150px auto auto 1fr 20px 20px;\n",
       "}\n",
       "\n",
       ".xr-section-item {\n",
       "  display: contents;\n",
       "}\n",
       "\n",
       ".xr-section-item input {\n",
       "  display: none;\n",
       "}\n",
       "\n",
       ".xr-section-item input + label {\n",
       "  color: var(--xr-disabled-color);\n",
       "}\n",
       "\n",
       ".xr-section-item input:enabled + label {\n",
       "  cursor: pointer;\n",
       "  color: var(--xr-font-color2);\n",
       "}\n",
       "\n",
       ".xr-section-item input:enabled + label:hover {\n",
       "  color: var(--xr-font-color0);\n",
       "}\n",
       "\n",
       ".xr-section-summary {\n",
       "  grid-column: 1;\n",
       "  color: var(--xr-font-color2);\n",
       "  font-weight: 500;\n",
       "}\n",
       "\n",
       ".xr-section-summary > span {\n",
       "  display: inline-block;\n",
       "  padding-left: 0.5em;\n",
       "}\n",
       "\n",
       ".xr-section-summary-in:disabled + label {\n",
       "  color: var(--xr-font-color2);\n",
       "}\n",
       "\n",
       ".xr-section-summary-in + label:before {\n",
       "  display: inline-block;\n",
       "  content: '►';\n",
       "  font-size: 11px;\n",
       "  width: 15px;\n",
       "  text-align: center;\n",
       "}\n",
       "\n",
       ".xr-section-summary-in:disabled + label:before {\n",
       "  color: var(--xr-disabled-color);\n",
       "}\n",
       "\n",
       ".xr-section-summary-in:checked + label:before {\n",
       "  content: '▼';\n",
       "}\n",
       "\n",
       ".xr-section-summary-in:checked + label > span {\n",
       "  display: none;\n",
       "}\n",
       "\n",
       ".xr-section-summary,\n",
       ".xr-section-inline-details {\n",
       "  padding-top: 4px;\n",
       "  padding-bottom: 4px;\n",
       "}\n",
       "\n",
       ".xr-section-inline-details {\n",
       "  grid-column: 2 / -1;\n",
       "}\n",
       "\n",
       ".xr-section-details {\n",
       "  display: none;\n",
       "  grid-column: 1 / -1;\n",
       "  margin-bottom: 5px;\n",
       "}\n",
       "\n",
       ".xr-section-summary-in:checked ~ .xr-section-details {\n",
       "  display: contents;\n",
       "}\n",
       "\n",
       ".xr-array-wrap {\n",
       "  grid-column: 1 / -1;\n",
       "  display: grid;\n",
       "  grid-template-columns: 20px auto;\n",
       "}\n",
       "\n",
       ".xr-array-wrap > label {\n",
       "  grid-column: 1;\n",
       "  vertical-align: top;\n",
       "}\n",
       "\n",
       ".xr-preview {\n",
       "  color: var(--xr-font-color3);\n",
       "}\n",
       "\n",
       ".xr-array-preview,\n",
       ".xr-array-data {\n",
       "  padding: 0 5px !important;\n",
       "  grid-column: 2;\n",
       "}\n",
       "\n",
       ".xr-array-data,\n",
       ".xr-array-in:checked ~ .xr-array-preview {\n",
       "  display: none;\n",
       "}\n",
       "\n",
       ".xr-array-in:checked ~ .xr-array-data,\n",
       ".xr-array-preview {\n",
       "  display: inline-block;\n",
       "}\n",
       "\n",
       ".xr-dim-list {\n",
       "  display: inline-block !important;\n",
       "  list-style: none;\n",
       "  padding: 0 !important;\n",
       "  margin: 0;\n",
       "}\n",
       "\n",
       ".xr-dim-list li {\n",
       "  display: inline-block;\n",
       "  padding: 0;\n",
       "  margin: 0;\n",
       "}\n",
       "\n",
       ".xr-dim-list:before {\n",
       "  content: '(';\n",
       "}\n",
       "\n",
       ".xr-dim-list:after {\n",
       "  content: ')';\n",
       "}\n",
       "\n",
       ".xr-dim-list li:not(:last-child):after {\n",
       "  content: ',';\n",
       "  padding-right: 5px;\n",
       "}\n",
       "\n",
       ".xr-has-index {\n",
       "  font-weight: bold;\n",
       "}\n",
       "\n",
       ".xr-var-list,\n",
       ".xr-var-item {\n",
       "  display: contents;\n",
       "}\n",
       "\n",
       ".xr-var-item > div,\n",
       ".xr-var-item label,\n",
       ".xr-var-item > .xr-var-name span {\n",
       "  background-color: var(--xr-background-color-row-even);\n",
       "  margin-bottom: 0;\n",
       "}\n",
       "\n",
       ".xr-var-item > .xr-var-name:hover span {\n",
       "  padding-right: 5px;\n",
       "}\n",
       "\n",
       ".xr-var-list > li:nth-child(odd) > div,\n",
       ".xr-var-list > li:nth-child(odd) > label,\n",
       ".xr-var-list > li:nth-child(odd) > .xr-var-name span {\n",
       "  background-color: var(--xr-background-color-row-odd);\n",
       "}\n",
       "\n",
       ".xr-var-name {\n",
       "  grid-column: 1;\n",
       "}\n",
       "\n",
       ".xr-var-dims {\n",
       "  grid-column: 2;\n",
       "}\n",
       "\n",
       ".xr-var-dtype {\n",
       "  grid-column: 3;\n",
       "  text-align: right;\n",
       "  color: var(--xr-font-color2);\n",
       "}\n",
       "\n",
       ".xr-var-preview {\n",
       "  grid-column: 4;\n",
       "}\n",
       "\n",
       ".xr-index-preview {\n",
       "  grid-column: 2 / 5;\n",
       "  color: var(--xr-font-color2);\n",
       "}\n",
       "\n",
       ".xr-var-name,\n",
       ".xr-var-dims,\n",
       ".xr-var-dtype,\n",
       ".xr-preview,\n",
       ".xr-attrs dt {\n",
       "  white-space: nowrap;\n",
       "  overflow: hidden;\n",
       "  text-overflow: ellipsis;\n",
       "  padding-right: 10px;\n",
       "}\n",
       "\n",
       ".xr-var-name:hover,\n",
       ".xr-var-dims:hover,\n",
       ".xr-var-dtype:hover,\n",
       ".xr-attrs dt:hover {\n",
       "  overflow: visible;\n",
       "  width: auto;\n",
       "  z-index: 1;\n",
       "}\n",
       "\n",
       ".xr-var-attrs,\n",
       ".xr-var-data,\n",
       ".xr-index-data {\n",
       "  display: none;\n",
       "  background-color: var(--xr-background-color) !important;\n",
       "  padding-bottom: 5px !important;\n",
       "}\n",
       "\n",
       ".xr-var-attrs-in:checked ~ .xr-var-attrs,\n",
       ".xr-var-data-in:checked ~ .xr-var-data,\n",
       ".xr-index-data-in:checked ~ .xr-index-data {\n",
       "  display: block;\n",
       "}\n",
       "\n",
       ".xr-var-data > table {\n",
       "  float: right;\n",
       "}\n",
       "\n",
       ".xr-var-name span,\n",
       ".xr-var-data,\n",
       ".xr-index-name div,\n",
       ".xr-index-data,\n",
       ".xr-attrs {\n",
       "  padding-left: 25px !important;\n",
       "}\n",
       "\n",
       ".xr-attrs,\n",
       ".xr-var-attrs,\n",
       ".xr-var-data,\n",
       ".xr-index-data {\n",
       "  grid-column: 1 / -1;\n",
       "}\n",
       "\n",
       "dl.xr-attrs {\n",
       "  padding: 0;\n",
       "  margin: 0;\n",
       "  display: grid;\n",
       "  grid-template-columns: 125px auto;\n",
       "}\n",
       "\n",
       ".xr-attrs dt,\n",
       ".xr-attrs dd {\n",
       "  padding: 0;\n",
       "  margin: 0;\n",
       "  float: left;\n",
       "  padding-right: 10px;\n",
       "  width: auto;\n",
       "}\n",
       "\n",
       ".xr-attrs dt {\n",
       "  font-weight: normal;\n",
       "  grid-column: 1;\n",
       "}\n",
       "\n",
       ".xr-attrs dt:hover span {\n",
       "  display: inline-block;\n",
       "  background: var(--xr-background-color);\n",
       "  padding-right: 10px;\n",
       "}\n",
       "\n",
       ".xr-attrs dd {\n",
       "  grid-column: 2;\n",
       "  white-space: pre-wrap;\n",
       "  word-break: break-all;\n",
       "}\n",
       "\n",
       ".xr-icon-database,\n",
       ".xr-icon-file-text2,\n",
       ".xr-no-icon {\n",
       "  display: inline-block;\n",
       "  vertical-align: middle;\n",
       "  width: 1em;\n",
       "  height: 1.5em !important;\n",
       "  stroke-width: 0;\n",
       "  stroke: currentColor;\n",
       "  fill: currentColor;\n",
       "}\n",
       "</style><pre class='xr-text-repr-fallback'>&lt;xarray.Dataset&gt; Size: 2MB\n",
       "Dimensions:              (N_PROF: 117, N_LEVELS: 69, NPARAMETER: 42)\n",
       "Dimensions without coordinates: N_PROF, N_LEVELS, NPARAMETER\n",
       "Data variables: (12/60)\n",
       "    Cruise               |S11 11B ...\n",
       "    Station              (N_PROF) int32 468B ...\n",
       "    Lon                  (N_PROF) float64 936B ...\n",
       "    Lat                  (N_PROF) float64 936B ...\n",
       "    Lat_QF               (N_PROF) |S1 117B ...\n",
       "    Lat_QFA              (N_PROF) float64 936B ...\n",
       "    ...                   ...\n",
       "    Type                 |S1 1B ...\n",
       "    mon_day_yr           (N_PROF) |S10 1kB ...\n",
       "    hh_mm                (N_PROF) |S5 585B ...\n",
       "    Parameters           (NPARAMETER) |S19 798B ...\n",
       "    JULD                 (N_PROF) float64 936B ...\n",
       "    REFERENCE_DATE_TIME  object 8B ...\n",
       "Attributes:\n",
       "    Comments:  \\n//0\\n//&lt;Encoding&gt;UTF-8&lt;/Encoding&gt;\\n//File updated on 08/26/2...</pre><div class='xr-wrap' style='display:none'><div class='xr-header'><div class='xr-obj-type'>xarray.Dataset</div></div><ul class='xr-sections'><li class='xr-section-item'><input id='section-a299889d-dea7-45e3-abc5-4da5a6ca1271' class='xr-section-summary-in' type='checkbox' disabled ><label for='section-a299889d-dea7-45e3-abc5-4da5a6ca1271' class='xr-section-summary'  title='Expand/collapse section'>Dimensions:</label><div class='xr-section-inline-details'><ul class='xr-dim-list'><li><span>N_PROF</span>: 117</li><li><span>N_LEVELS</span>: 69</li><li><span>NPARAMETER</span>: 42</li></ul></div><div class='xr-section-details'></div></li><li class='xr-section-item'><input id='section-8a733577-2368-4f8f-a24c-ec4ba115f982' class='xr-section-summary-in' type='checkbox' disabled ><label for='section-8a733577-2368-4f8f-a24c-ec4ba115f982' class='xr-section-summary'  title='Expand/collapse section'>Coordinates: <span>(0)</span></label><div class='xr-section-inline-details'></div><div class='xr-section-details'><ul class='xr-var-list'></ul></div></li><li class='xr-section-item'><input id='section-c3ba583c-7e2d-4e39-8d03-e42126ef0da5' class='xr-section-summary-in' type='checkbox'  ><label for='section-c3ba583c-7e2d-4e39-8d03-e42126ef0da5' class='xr-section-summary' >Data variables: <span>(60)</span></label><div class='xr-section-inline-details'></div><div class='xr-section-details'><ul class='xr-var-list'><li class='xr-var-item'><div class='xr-var-name'><span>Cruise</span></div><div class='xr-var-dims'>()</div><div class='xr-var-dtype'>|S11</div><div class='xr-var-preview xr-preview'>...</div><input id='attrs-be51f16d-2ce4-4abc-aad6-6a60f72cd548' class='xr-var-attrs-in' type='checkbox' disabled><label for='attrs-be51f16d-2ce4-4abc-aad6-6a60f72cd548' title='Show/Hide attributes'><svg class='icon xr-icon-file-text2'><use xlink:href='#icon-file-text2'></use></svg></label><input id='data-aa878473-f289-4d15-bf53-6d4efbb6a510' class='xr-var-data-in' type='checkbox'><label for='data-aa878473-f289-4d15-bf53-6d4efbb6a510' title='Show/Hide data repr'><svg class='icon xr-icon-database'><use xlink:href='#icon-database'></use></svg></label><div class='xr-var-attrs'><dl class='xr-attrs'></dl></div><div class='xr-var-data'><pre>[1 values with dtype=|S11]</pre></div></li><li class='xr-var-item'><div class='xr-var-name'><span>Station</span></div><div class='xr-var-dims'>(N_PROF)</div><div class='xr-var-dtype'>int32</div><div class='xr-var-preview xr-preview'>...</div><input id='attrs-2de9071a-5cda-4cc5-86ec-04edadfd059e' class='xr-var-attrs-in' type='checkbox' disabled><label for='attrs-2de9071a-5cda-4cc5-86ec-04edadfd059e' title='Show/Hide attributes'><svg class='icon xr-icon-file-text2'><use xlink:href='#icon-file-text2'></use></svg></label><input id='data-988b7db6-6ab0-4192-bff4-c14cf8ecfa8d' class='xr-var-data-in' type='checkbox'><label for='data-988b7db6-6ab0-4192-bff4-c14cf8ecfa8d' title='Show/Hide data repr'><svg class='icon xr-icon-database'><use xlink:href='#icon-database'></use></svg></label><div class='xr-var-attrs'><dl class='xr-attrs'></dl></div><div class='xr-var-data'><pre>[117 values with dtype=int32]</pre></div></li><li class='xr-var-item'><div class='xr-var-name'><span>Lon</span></div><div class='xr-var-dims'>(N_PROF)</div><div class='xr-var-dtype'>float64</div><div class='xr-var-preview xr-preview'>...</div><input id='attrs-356da634-ddd6-4241-9edb-18c2695d0b34' class='xr-var-attrs-in' type='checkbox' disabled><label for='attrs-356da634-ddd6-4241-9edb-18c2695d0b34' title='Show/Hide attributes'><svg class='icon xr-icon-file-text2'><use xlink:href='#icon-file-text2'></use></svg></label><input id='data-4a7b7221-ece1-43e1-af4f-0defcff59432' class='xr-var-data-in' type='checkbox'><label for='data-4a7b7221-ece1-43e1-af4f-0defcff59432' title='Show/Hide data repr'><svg class='icon xr-icon-database'><use xlink:href='#icon-database'></use></svg></label><div class='xr-var-attrs'><dl class='xr-attrs'></dl></div><div class='xr-var-data'><pre>[117 values with dtype=float64]</pre></div></li><li class='xr-var-item'><div class='xr-var-name'><span>Lat</span></div><div class='xr-var-dims'>(N_PROF)</div><div class='xr-var-dtype'>float64</div><div class='xr-var-preview xr-preview'>...</div><input id='attrs-e3641b43-e9c3-4fed-8057-ee780003532a' class='xr-var-attrs-in' type='checkbox' disabled><label for='attrs-e3641b43-e9c3-4fed-8057-ee780003532a' title='Show/Hide attributes'><svg class='icon xr-icon-file-text2'><use xlink:href='#icon-file-text2'></use></svg></label><input id='data-35376847-c166-48da-9ec2-161aa34a37b5' class='xr-var-data-in' type='checkbox'><label for='data-35376847-c166-48da-9ec2-161aa34a37b5' title='Show/Hide data repr'><svg class='icon xr-icon-database'><use xlink:href='#icon-database'></use></svg></label><div class='xr-var-attrs'><dl class='xr-attrs'></dl></div><div class='xr-var-data'><pre>[117 values with dtype=float64]</pre></div></li><li class='xr-var-item'><div class='xr-var-name'><span>Lat_QF</span></div><div class='xr-var-dims'>(N_PROF)</div><div class='xr-var-dtype'>|S1</div><div class='xr-var-preview xr-preview'>...</div><input id='attrs-41a2a4f7-6c5b-4933-87cf-00d95eb40bc1' class='xr-var-attrs-in' type='checkbox' disabled><label for='attrs-41a2a4f7-6c5b-4933-87cf-00d95eb40bc1' title='Show/Hide attributes'><svg class='icon xr-icon-file-text2'><use xlink:href='#icon-file-text2'></use></svg></label><input id='data-0413dd0b-f430-4e0c-b0f7-9312aa826b34' class='xr-var-data-in' type='checkbox'><label for='data-0413dd0b-f430-4e0c-b0f7-9312aa826b34' title='Show/Hide data repr'><svg class='icon xr-icon-database'><use xlink:href='#icon-database'></use></svg></label><div class='xr-var-attrs'><dl class='xr-attrs'></dl></div><div class='xr-var-data'><pre>[117 values with dtype=|S1]</pre></div></li><li class='xr-var-item'><div class='xr-var-name'><span>Lat_QFA</span></div><div class='xr-var-dims'>(N_PROF)</div><div class='xr-var-dtype'>float64</div><div class='xr-var-preview xr-preview'>...</div><input id='attrs-6f271adf-76a2-4654-8272-eb95aaf25605' class='xr-var-attrs-in' type='checkbox' ><label for='attrs-6f271adf-76a2-4654-8272-eb95aaf25605' title='Show/Hide attributes'><svg class='icon xr-icon-file-text2'><use xlink:href='#icon-file-text2'></use></svg></label><input id='data-7cacf28f-ba39-48c0-88e4-042e5c1f5eb9' class='xr-var-data-in' type='checkbox'><label for='data-7cacf28f-ba39-48c0-88e4-042e5c1f5eb9' title='Show/Hide data repr'><svg class='icon xr-icon-database'><use xlink:href='#icon-database'></use></svg></label><div class='xr-var-attrs'><dl class='xr-attrs'><dt><span>NOTES :</span></dt><dd>Variables ending in _QFA are an alternate format (double matrix instead of character array)  for the variable ending in _QF</dd></dl></div><div class='xr-var-data'><pre>[117 values with dtype=float64]</pre></div></li><li class='xr-var-item'><div class='xr-var-name'><span>Pressure</span></div><div class='xr-var-dims'>(N_PROF, N_LEVELS)</div><div class='xr-var-dtype'>float64</div><div class='xr-var-preview xr-preview'>...</div><input id='attrs-a2804d32-c1c6-4303-9dff-2ba50bac2038' class='xr-var-attrs-in' type='checkbox' ><label for='attrs-a2804d32-c1c6-4303-9dff-2ba50bac2038' title='Show/Hide attributes'><svg class='icon xr-icon-file-text2'><use xlink:href='#icon-file-text2'></use></svg></label><input id='data-41576609-8ffb-4ac3-8603-995fe2e5f5d2' class='xr-var-data-in' type='checkbox'><label for='data-41576609-8ffb-4ac3-8603-995fe2e5f5d2' title='Show/Hide data repr'><svg class='icon xr-icon-database'><use xlink:href='#icon-database'></use></svg></label><div class='xr-var-attrs'><dl class='xr-attrs'><dt><span>units :</span></dt><dd>dbar</dd></dl></div><div class='xr-var-data'><pre>[8073 values with dtype=float64]</pre></div></li><li class='xr-var-item'><div class='xr-var-name'><span>Pressure_QF</span></div><div class='xr-var-dims'>(N_PROF, N_LEVELS)</div><div class='xr-var-dtype'>|S1</div><div class='xr-var-preview xr-preview'>...</div><input id='attrs-43013fed-a3de-42bd-8e50-eeba9fe13d28' class='xr-var-attrs-in' type='checkbox' disabled><label for='attrs-43013fed-a3de-42bd-8e50-eeba9fe13d28' title='Show/Hide attributes'><svg class='icon xr-icon-file-text2'><use xlink:href='#icon-file-text2'></use></svg></label><input id='data-da21705c-1703-479a-8baf-90824c500ba9' class='xr-var-data-in' type='checkbox'><label for='data-da21705c-1703-479a-8baf-90824c500ba9' title='Show/Hide data repr'><svg class='icon xr-icon-database'><use xlink:href='#icon-database'></use></svg></label><div class='xr-var-attrs'><dl class='xr-attrs'></dl></div><div class='xr-var-data'><pre>[8073 values with dtype=|S1]</pre></div></li><li class='xr-var-item'><div class='xr-var-name'><span>Pressure_QFA</span></div><div class='xr-var-dims'>(N_PROF, N_LEVELS)</div><div class='xr-var-dtype'>float64</div><div class='xr-var-preview xr-preview'>...</div><input id='attrs-a7902269-6036-4060-810f-c78181349247' class='xr-var-attrs-in' type='checkbox' ><label for='attrs-a7902269-6036-4060-810f-c78181349247' title='Show/Hide attributes'><svg class='icon xr-icon-file-text2'><use xlink:href='#icon-file-text2'></use></svg></label><input id='data-51c94c53-c955-420e-8453-3ff5c973b944' class='xr-var-data-in' type='checkbox'><label for='data-51c94c53-c955-420e-8453-3ff5c973b944' title='Show/Hide data repr'><svg class='icon xr-icon-database'><use xlink:href='#icon-database'></use></svg></label><div class='xr-var-attrs'><dl class='xr-attrs'><dt><span>NOTES :</span></dt><dd>Variables ending in _QFA are an alternate format (double matrix instead of character array)  for the variable ending in _QF</dd></dl></div><div class='xr-var-data'><pre>[8073 values with dtype=float64]</pre></div></li><li class='xr-var-item'><div class='xr-var-name'><span>Temperature</span></div><div class='xr-var-dims'>(N_PROF, N_LEVELS)</div><div class='xr-var-dtype'>float64</div><div class='xr-var-preview xr-preview'>...</div><input id='attrs-87069ac7-4970-406a-b659-6bd91187f28f' class='xr-var-attrs-in' type='checkbox' ><label for='attrs-87069ac7-4970-406a-b659-6bd91187f28f' title='Show/Hide attributes'><svg class='icon xr-icon-file-text2'><use xlink:href='#icon-file-text2'></use></svg></label><input id='data-14946b06-fc61-42f4-9e58-d8f20f6a96a5' class='xr-var-data-in' type='checkbox'><label for='data-14946b06-fc61-42f4-9e58-d8f20f6a96a5' title='Show/Hide data repr'><svg class='icon xr-icon-database'><use xlink:href='#icon-database'></use></svg></label><div class='xr-var-attrs'><dl class='xr-attrs'><dt><span>units :</span></dt><dd>degree_C</dd></dl></div><div class='xr-var-data'><pre>[8073 values with dtype=float64]</pre></div></li><li class='xr-var-item'><div class='xr-var-name'><span>Temperature_QF</span></div><div class='xr-var-dims'>(N_PROF, N_LEVELS)</div><div class='xr-var-dtype'>|S1</div><div class='xr-var-preview xr-preview'>...</div><input id='attrs-8306407d-5e40-42e0-abbe-01676915f95f' class='xr-var-attrs-in' type='checkbox' disabled><label for='attrs-8306407d-5e40-42e0-abbe-01676915f95f' title='Show/Hide attributes'><svg class='icon xr-icon-file-text2'><use xlink:href='#icon-file-text2'></use></svg></label><input id='data-7984d4e8-2c9d-4908-aefa-9ae72c387502' class='xr-var-data-in' type='checkbox'><label for='data-7984d4e8-2c9d-4908-aefa-9ae72c387502' title='Show/Hide data repr'><svg class='icon xr-icon-database'><use xlink:href='#icon-database'></use></svg></label><div class='xr-var-attrs'><dl class='xr-attrs'></dl></div><div class='xr-var-data'><pre>[8073 values with dtype=|S1]</pre></div></li><li class='xr-var-item'><div class='xr-var-name'><span>Temperature_QFA</span></div><div class='xr-var-dims'>(N_PROF, N_LEVELS)</div><div class='xr-var-dtype'>float64</div><div class='xr-var-preview xr-preview'>...</div><input id='attrs-b60ceb5e-889c-4614-a677-85971ab841ba' class='xr-var-attrs-in' type='checkbox' ><label for='attrs-b60ceb5e-889c-4614-a677-85971ab841ba' title='Show/Hide attributes'><svg class='icon xr-icon-file-text2'><use xlink:href='#icon-file-text2'></use></svg></label><input id='data-aa27ee51-2ba9-43be-b69e-51e245c7b86f' class='xr-var-data-in' type='checkbox'><label for='data-aa27ee51-2ba9-43be-b69e-51e245c7b86f' title='Show/Hide data repr'><svg class='icon xr-icon-database'><use xlink:href='#icon-database'></use></svg></label><div class='xr-var-attrs'><dl class='xr-attrs'><dt><span>NOTES :</span></dt><dd>Variables ending in _QFA are an alternate format (double matrix instead of character array)  for the variable ending in _QF</dd></dl></div><div class='xr-var-data'><pre>[8073 values with dtype=float64]</pre></div></li><li class='xr-var-item'><div class='xr-var-name'><span>Salinity</span></div><div class='xr-var-dims'>(N_PROF, N_LEVELS)</div><div class='xr-var-dtype'>float64</div><div class='xr-var-preview xr-preview'>...</div><input id='attrs-eced5b00-6bbf-4cfb-aefa-f697e3601fb3' class='xr-var-attrs-in' type='checkbox' ><label for='attrs-eced5b00-6bbf-4cfb-aefa-f697e3601fb3' title='Show/Hide attributes'><svg class='icon xr-icon-file-text2'><use xlink:href='#icon-file-text2'></use></svg></label><input id='data-272bd2a8-bbec-4863-a469-a0c58a0a8225' class='xr-var-data-in' type='checkbox'><label for='data-272bd2a8-bbec-4863-a469-a0c58a0a8225' title='Show/Hide data repr'><svg class='icon xr-icon-database'><use xlink:href='#icon-database'></use></svg></label><div class='xr-var-attrs'><dl class='xr-attrs'><dt><span>units :</span></dt><dd>pss</dd></dl></div><div class='xr-var-data'><pre>[8073 values with dtype=float64]</pre></div></li><li class='xr-var-item'><div class='xr-var-name'><span>Salinity_QF</span></div><div class='xr-var-dims'>(N_PROF, N_LEVELS)</div><div class='xr-var-dtype'>|S1</div><div class='xr-var-preview xr-preview'>...</div><input id='attrs-7b5afb16-a1ab-445d-b72b-1546ad438121' class='xr-var-attrs-in' type='checkbox' disabled><label for='attrs-7b5afb16-a1ab-445d-b72b-1546ad438121' title='Show/Hide attributes'><svg class='icon xr-icon-file-text2'><use xlink:href='#icon-file-text2'></use></svg></label><input id='data-58ffd63e-8108-46de-834c-0488fdcaa862' class='xr-var-data-in' type='checkbox'><label for='data-58ffd63e-8108-46de-834c-0488fdcaa862' title='Show/Hide data repr'><svg class='icon xr-icon-database'><use xlink:href='#icon-database'></use></svg></label><div class='xr-var-attrs'><dl class='xr-attrs'></dl></div><div class='xr-var-data'><pre>[8073 values with dtype=|S1]</pre></div></li><li class='xr-var-item'><div class='xr-var-name'><span>Salinity_QFA</span></div><div class='xr-var-dims'>(N_PROF, N_LEVELS)</div><div class='xr-var-dtype'>float64</div><div class='xr-var-preview xr-preview'>...</div><input id='attrs-e7b2c7b2-0f3f-4b71-90fa-7731677cdf7a' class='xr-var-attrs-in' type='checkbox' ><label for='attrs-e7b2c7b2-0f3f-4b71-90fa-7731677cdf7a' title='Show/Hide attributes'><svg class='icon xr-icon-file-text2'><use xlink:href='#icon-file-text2'></use></svg></label><input id='data-79ea7a60-2101-4e53-88d9-4d5de95def07' class='xr-var-data-in' type='checkbox'><label for='data-79ea7a60-2101-4e53-88d9-4d5de95def07' title='Show/Hide data repr'><svg class='icon xr-icon-database'><use xlink:href='#icon-database'></use></svg></label><div class='xr-var-attrs'><dl class='xr-attrs'><dt><span>NOTES :</span></dt><dd>Variables ending in _QFA are an alternate format (double matrix instead of character array)  for the variable ending in _QF</dd></dl></div><div class='xr-var-data'><pre>[8073 values with dtype=float64]</pre></div></li><li class='xr-var-item'><div class='xr-var-name'><span>Sigma_theta</span></div><div class='xr-var-dims'>(N_PROF, N_LEVELS)</div><div class='xr-var-dtype'>float64</div><div class='xr-var-preview xr-preview'>...</div><input id='attrs-ad8b077b-b331-4b5b-b646-d97050c8c332' class='xr-var-attrs-in' type='checkbox' ><label for='attrs-ad8b077b-b331-4b5b-b646-d97050c8c332' title='Show/Hide attributes'><svg class='icon xr-icon-file-text2'><use xlink:href='#icon-file-text2'></use></svg></label><input id='data-4b288b4f-ee51-4c9b-8e17-48c6900044b4' class='xr-var-data-in' type='checkbox'><label for='data-4b288b4f-ee51-4c9b-8e17-48c6900044b4' title='Show/Hide data repr'><svg class='icon xr-icon-database'><use xlink:href='#icon-database'></use></svg></label><div class='xr-var-attrs'><dl class='xr-attrs'><dt><span>units :</span></dt><dd>kg/m^3</dd></dl></div><div class='xr-var-data'><pre>[8073 values with dtype=float64]</pre></div></li><li class='xr-var-item'><div class='xr-var-name'><span>Sigma_theta_QF</span></div><div class='xr-var-dims'>(N_PROF, N_LEVELS)</div><div class='xr-var-dtype'>|S1</div><div class='xr-var-preview xr-preview'>...</div><input id='attrs-43d62d68-9d1e-41c5-aa14-6d536ef46710' class='xr-var-attrs-in' type='checkbox' disabled><label for='attrs-43d62d68-9d1e-41c5-aa14-6d536ef46710' title='Show/Hide attributes'><svg class='icon xr-icon-file-text2'><use xlink:href='#icon-file-text2'></use></svg></label><input id='data-385a0712-9659-4e78-b8c6-80df367a8e46' class='xr-var-data-in' type='checkbox'><label for='data-385a0712-9659-4e78-b8c6-80df367a8e46' title='Show/Hide data repr'><svg class='icon xr-icon-database'><use xlink:href='#icon-database'></use></svg></label><div class='xr-var-attrs'><dl class='xr-attrs'></dl></div><div class='xr-var-data'><pre>[8073 values with dtype=|S1]</pre></div></li><li class='xr-var-item'><div class='xr-var-name'><span>Sigma_theta_QFA</span></div><div class='xr-var-dims'>(N_PROF, N_LEVELS)</div><div class='xr-var-dtype'>float64</div><div class='xr-var-preview xr-preview'>...</div><input id='attrs-be9cb11e-f2fb-4def-b548-1b0ab0c3cb69' class='xr-var-attrs-in' type='checkbox' ><label for='attrs-be9cb11e-f2fb-4def-b548-1b0ab0c3cb69' title='Show/Hide attributes'><svg class='icon xr-icon-file-text2'><use xlink:href='#icon-file-text2'></use></svg></label><input id='data-64856d05-02c4-49ec-b2ab-c2946cb68f33' class='xr-var-data-in' type='checkbox'><label for='data-64856d05-02c4-49ec-b2ab-c2946cb68f33' title='Show/Hide data repr'><svg class='icon xr-icon-database'><use xlink:href='#icon-database'></use></svg></label><div class='xr-var-attrs'><dl class='xr-attrs'><dt><span>NOTES :</span></dt><dd>Variables ending in _QFA are an alternate format (double matrix instead of character array)  for the variable ending in _QF</dd></dl></div><div class='xr-var-data'><pre>[8073 values with dtype=float64]</pre></div></li><li class='xr-var-item'><div class='xr-var-name'><span>Depth</span></div><div class='xr-var-dims'>(N_PROF, N_LEVELS)</div><div class='xr-var-dtype'>float64</div><div class='xr-var-preview xr-preview'>...</div><input id='attrs-ee5683e4-9744-4fc2-bb3c-cb385f32afa1' class='xr-var-attrs-in' type='checkbox' ><label for='attrs-ee5683e4-9744-4fc2-bb3c-cb385f32afa1' title='Show/Hide attributes'><svg class='icon xr-icon-file-text2'><use xlink:href='#icon-file-text2'></use></svg></label><input id='data-f5cb46b1-f14a-414a-85bc-6aa854f0f7ed' class='xr-var-data-in' type='checkbox'><label for='data-f5cb46b1-f14a-414a-85bc-6aa854f0f7ed' title='Show/Hide data repr'><svg class='icon xr-icon-database'><use xlink:href='#icon-database'></use></svg></label><div class='xr-var-attrs'><dl class='xr-attrs'><dt><span>units :</span></dt><dd>m</dd></dl></div><div class='xr-var-data'><pre>[8073 values with dtype=float64]</pre></div></li><li class='xr-var-item'><div class='xr-var-name'><span>Depth_QF</span></div><div class='xr-var-dims'>(N_PROF, N_LEVELS)</div><div class='xr-var-dtype'>|S1</div><div class='xr-var-preview xr-preview'>...</div><input id='attrs-baa2ca06-02b2-4493-833d-b56a574e21e1' class='xr-var-attrs-in' type='checkbox' disabled><label for='attrs-baa2ca06-02b2-4493-833d-b56a574e21e1' title='Show/Hide attributes'><svg class='icon xr-icon-file-text2'><use xlink:href='#icon-file-text2'></use></svg></label><input id='data-b20509eb-93a6-4874-9e2a-ceeceb36f1be' class='xr-var-data-in' type='checkbox'><label for='data-b20509eb-93a6-4874-9e2a-ceeceb36f1be' title='Show/Hide data repr'><svg class='icon xr-icon-database'><use xlink:href='#icon-database'></use></svg></label><div class='xr-var-attrs'><dl class='xr-attrs'></dl></div><div class='xr-var-data'><pre>[8073 values with dtype=|S1]</pre></div></li><li class='xr-var-item'><div class='xr-var-name'><span>Depth_QFA</span></div><div class='xr-var-dims'>(N_PROF, N_LEVELS)</div><div class='xr-var-dtype'>float64</div><div class='xr-var-preview xr-preview'>...</div><input id='attrs-fd08bc18-9124-4457-82d5-8a5f1833f799' class='xr-var-attrs-in' type='checkbox' ><label for='attrs-fd08bc18-9124-4457-82d5-8a5f1833f799' title='Show/Hide attributes'><svg class='icon xr-icon-file-text2'><use xlink:href='#icon-file-text2'></use></svg></label><input id='data-81b8a8c7-0976-4614-aff6-2f1bdd2e6f6a' class='xr-var-data-in' type='checkbox'><label for='data-81b8a8c7-0976-4614-aff6-2f1bdd2e6f6a' title='Show/Hide data repr'><svg class='icon xr-icon-database'><use xlink:href='#icon-database'></use></svg></label><div class='xr-var-attrs'><dl class='xr-attrs'><dt><span>NOTES :</span></dt><dd>Variables ending in _QFA are an alternate format (double matrix instead of character array)  for the variable ending in _QF</dd></dl></div><div class='xr-var-data'><pre>[8073 values with dtype=float64]</pre></div></li><li class='xr-var-item'><div class='xr-var-name'><span>Oxygen</span></div><div class='xr-var-dims'>(N_PROF, N_LEVELS)</div><div class='xr-var-dtype'>float64</div><div class='xr-var-preview xr-preview'>...</div><input id='attrs-324d78f0-09e7-4f1f-a7bb-64aee4e4b482' class='xr-var-attrs-in' type='checkbox' ><label for='attrs-324d78f0-09e7-4f1f-a7bb-64aee4e4b482' title='Show/Hide attributes'><svg class='icon xr-icon-file-text2'><use xlink:href='#icon-file-text2'></use></svg></label><input id='data-a98765ae-c42d-49a8-924d-fee8b4118d0e' class='xr-var-data-in' type='checkbox'><label for='data-a98765ae-c42d-49a8-924d-fee8b4118d0e' title='Show/Hide data repr'><svg class='icon xr-icon-database'><use xlink:href='#icon-database'></use></svg></label><div class='xr-var-attrs'><dl class='xr-attrs'><dt><span>units :</span></dt><dd>umol/kg</dd></dl></div><div class='xr-var-data'><pre>[8073 values with dtype=float64]</pre></div></li><li class='xr-var-item'><div class='xr-var-name'><span>Oxygen_QF</span></div><div class='xr-var-dims'>(N_PROF, N_LEVELS)</div><div class='xr-var-dtype'>|S1</div><div class='xr-var-preview xr-preview'>...</div><input id='attrs-2934749e-af4e-473e-a2de-d082830d5623' class='xr-var-attrs-in' type='checkbox' disabled><label for='attrs-2934749e-af4e-473e-a2de-d082830d5623' title='Show/Hide attributes'><svg class='icon xr-icon-file-text2'><use xlink:href='#icon-file-text2'></use></svg></label><input id='data-a7ca10a9-8a1e-4a1b-8190-9d86e9ba4243' class='xr-var-data-in' type='checkbox'><label for='data-a7ca10a9-8a1e-4a1b-8190-9d86e9ba4243' title='Show/Hide data repr'><svg class='icon xr-icon-database'><use xlink:href='#icon-database'></use></svg></label><div class='xr-var-attrs'><dl class='xr-attrs'></dl></div><div class='xr-var-data'><pre>[8073 values with dtype=|S1]</pre></div></li><li class='xr-var-item'><div class='xr-var-name'><span>Oxygen_QFA</span></div><div class='xr-var-dims'>(N_PROF, N_LEVELS)</div><div class='xr-var-dtype'>float64</div><div class='xr-var-preview xr-preview'>...</div><input id='attrs-e9c975c9-2e66-4c56-b6d1-89923706654e' class='xr-var-attrs-in' type='checkbox' ><label for='attrs-e9c975c9-2e66-4c56-b6d1-89923706654e' title='Show/Hide attributes'><svg class='icon xr-icon-file-text2'><use xlink:href='#icon-file-text2'></use></svg></label><input id='data-47560181-9c50-4e16-aa82-8267ad51f9ac' class='xr-var-data-in' type='checkbox'><label for='data-47560181-9c50-4e16-aa82-8267ad51f9ac' title='Show/Hide data repr'><svg class='icon xr-icon-database'><use xlink:href='#icon-database'></use></svg></label><div class='xr-var-attrs'><dl class='xr-attrs'><dt><span>NOTES :</span></dt><dd>Variables ending in _QFA are an alternate format (double matrix instead of character array)  for the variable ending in _QF</dd></dl></div><div class='xr-var-data'><pre>[8073 values with dtype=float64]</pre></div></li><li class='xr-var-item'><div class='xr-var-name'><span>OxygenSat</span></div><div class='xr-var-dims'>(N_PROF, N_LEVELS)</div><div class='xr-var-dtype'>float64</div><div class='xr-var-preview xr-preview'>...</div><input id='attrs-2d43e9b8-e273-4bc4-bb23-4add84252bc2' class='xr-var-attrs-in' type='checkbox' ><label for='attrs-2d43e9b8-e273-4bc4-bb23-4add84252bc2' title='Show/Hide attributes'><svg class='icon xr-icon-file-text2'><use xlink:href='#icon-file-text2'></use></svg></label><input id='data-25f6c0e2-1a6f-4167-86b7-fc8a11e9a104' class='xr-var-data-in' type='checkbox'><label for='data-25f6c0e2-1a6f-4167-86b7-fc8a11e9a104' title='Show/Hide data repr'><svg class='icon xr-icon-database'><use xlink:href='#icon-database'></use></svg></label><div class='xr-var-attrs'><dl class='xr-attrs'><dt><span>units :</span></dt><dd>%</dd></dl></div><div class='xr-var-data'><pre>[8073 values with dtype=float64]</pre></div></li><li class='xr-var-item'><div class='xr-var-name'><span>OxygenSat_QF</span></div><div class='xr-var-dims'>(N_PROF, N_LEVELS)</div><div class='xr-var-dtype'>|S1</div><div class='xr-var-preview xr-preview'>...</div><input id='attrs-1771e6ba-50b2-41e2-93f1-8328c1ac3d79' class='xr-var-attrs-in' type='checkbox' disabled><label for='attrs-1771e6ba-50b2-41e2-93f1-8328c1ac3d79' title='Show/Hide attributes'><svg class='icon xr-icon-file-text2'><use xlink:href='#icon-file-text2'></use></svg></label><input id='data-ac1f8fc6-f12e-4048-97cc-33e532f8963e' class='xr-var-data-in' type='checkbox'><label for='data-ac1f8fc6-f12e-4048-97cc-33e532f8963e' title='Show/Hide data repr'><svg class='icon xr-icon-database'><use xlink:href='#icon-database'></use></svg></label><div class='xr-var-attrs'><dl class='xr-attrs'></dl></div><div class='xr-var-data'><pre>[8073 values with dtype=|S1]</pre></div></li><li class='xr-var-item'><div class='xr-var-name'><span>OxygenSat_QFA</span></div><div class='xr-var-dims'>(N_PROF, N_LEVELS)</div><div class='xr-var-dtype'>float64</div><div class='xr-var-preview xr-preview'>...</div><input id='attrs-acb2660d-cb8d-47b6-80bc-17fde5682f57' class='xr-var-attrs-in' type='checkbox' ><label for='attrs-acb2660d-cb8d-47b6-80bc-17fde5682f57' title='Show/Hide attributes'><svg class='icon xr-icon-file-text2'><use xlink:href='#icon-file-text2'></use></svg></label><input id='data-c1dffa84-d905-4254-b215-2f97699bcbfa' class='xr-var-data-in' type='checkbox'><label for='data-c1dffa84-d905-4254-b215-2f97699bcbfa' title='Show/Hide data repr'><svg class='icon xr-icon-database'><use xlink:href='#icon-database'></use></svg></label><div class='xr-var-attrs'><dl class='xr-attrs'><dt><span>NOTES :</span></dt><dd>Variables ending in _QFA are an alternate format (double matrix instead of character array)  for the variable ending in _QF</dd></dl></div><div class='xr-var-data'><pre>[8073 values with dtype=float64]</pre></div></li><li class='xr-var-item'><div class='xr-var-name'><span>Nitrate</span></div><div class='xr-var-dims'>(N_PROF, N_LEVELS)</div><div class='xr-var-dtype'>float64</div><div class='xr-var-preview xr-preview'>...</div><input id='attrs-62cbb6b4-6b41-4e0d-9f61-005a8216fa28' class='xr-var-attrs-in' type='checkbox' ><label for='attrs-62cbb6b4-6b41-4e0d-9f61-005a8216fa28' title='Show/Hide attributes'><svg class='icon xr-icon-file-text2'><use xlink:href='#icon-file-text2'></use></svg></label><input id='data-a0b7dd1a-8c94-46ad-bd98-4e756232ff3e' class='xr-var-data-in' type='checkbox'><label for='data-a0b7dd1a-8c94-46ad-bd98-4e756232ff3e' title='Show/Hide data repr'><svg class='icon xr-icon-database'><use xlink:href='#icon-database'></use></svg></label><div class='xr-var-attrs'><dl class='xr-attrs'><dt><span>units :</span></dt><dd>umol/kg</dd></dl></div><div class='xr-var-data'><pre>[8073 values with dtype=float64]</pre></div></li><li class='xr-var-item'><div class='xr-var-name'><span>Nitrate_QF</span></div><div class='xr-var-dims'>(N_PROF, N_LEVELS)</div><div class='xr-var-dtype'>|S1</div><div class='xr-var-preview xr-preview'>...</div><input id='attrs-c1c91b2e-2833-4b07-a56f-0c9b048f6cc2' class='xr-var-attrs-in' type='checkbox' disabled><label for='attrs-c1c91b2e-2833-4b07-a56f-0c9b048f6cc2' title='Show/Hide attributes'><svg class='icon xr-icon-file-text2'><use xlink:href='#icon-file-text2'></use></svg></label><input id='data-091d1c60-cf31-47af-a480-327c9852a8d2' class='xr-var-data-in' type='checkbox'><label for='data-091d1c60-cf31-47af-a480-327c9852a8d2' title='Show/Hide data repr'><svg class='icon xr-icon-database'><use xlink:href='#icon-database'></use></svg></label><div class='xr-var-attrs'><dl class='xr-attrs'></dl></div><div class='xr-var-data'><pre>[8073 values with dtype=|S1]</pre></div></li><li class='xr-var-item'><div class='xr-var-name'><span>Nitrate_QFA</span></div><div class='xr-var-dims'>(N_PROF, N_LEVELS)</div><div class='xr-var-dtype'>float64</div><div class='xr-var-preview xr-preview'>...</div><input id='attrs-895773af-442c-4c9f-9ca5-3ac5e7d7890a' class='xr-var-attrs-in' type='checkbox' ><label for='attrs-895773af-442c-4c9f-9ca5-3ac5e7d7890a' title='Show/Hide attributes'><svg class='icon xr-icon-file-text2'><use xlink:href='#icon-file-text2'></use></svg></label><input id='data-1c329f49-1adc-48f8-a68a-2c8baa481da5' class='xr-var-data-in' type='checkbox'><label for='data-1c329f49-1adc-48f8-a68a-2c8baa481da5' title='Show/Hide data repr'><svg class='icon xr-icon-database'><use xlink:href='#icon-database'></use></svg></label><div class='xr-var-attrs'><dl class='xr-attrs'><dt><span>NOTES :</span></dt><dd>Variables ending in _QFA are an alternate format (double matrix instead of character array)  for the variable ending in _QF</dd></dl></div><div class='xr-var-data'><pre>[8073 values with dtype=float64]</pre></div></li><li class='xr-var-item'><div class='xr-var-name'><span>Chl_a</span></div><div class='xr-var-dims'>(N_PROF, N_LEVELS)</div><div class='xr-var-dtype'>float64</div><div class='xr-var-preview xr-preview'>...</div><input id='attrs-1982d7d3-15e6-4e37-b07c-03bafb809aa4' class='xr-var-attrs-in' type='checkbox' ><label for='attrs-1982d7d3-15e6-4e37-b07c-03bafb809aa4' title='Show/Hide attributes'><svg class='icon xr-icon-file-text2'><use xlink:href='#icon-file-text2'></use></svg></label><input id='data-a3a76df4-802e-43a8-beae-d3a2e808c695' class='xr-var-data-in' type='checkbox'><label for='data-a3a76df4-802e-43a8-beae-d3a2e808c695' title='Show/Hide data repr'><svg class='icon xr-icon-database'><use xlink:href='#icon-database'></use></svg></label><div class='xr-var-attrs'><dl class='xr-attrs'><dt><span>units :</span></dt><dd>mg/m^3</dd></dl></div><div class='xr-var-data'><pre>[8073 values with dtype=float64]</pre></div></li><li class='xr-var-item'><div class='xr-var-name'><span>Chl_a_QF</span></div><div class='xr-var-dims'>(N_PROF, N_LEVELS)</div><div class='xr-var-dtype'>|S1</div><div class='xr-var-preview xr-preview'>...</div><input id='attrs-dde706ce-b1b9-4212-a115-50add22ee2cb' class='xr-var-attrs-in' type='checkbox' disabled><label for='attrs-dde706ce-b1b9-4212-a115-50add22ee2cb' title='Show/Hide attributes'><svg class='icon xr-icon-file-text2'><use xlink:href='#icon-file-text2'></use></svg></label><input id='data-2f77cb8c-f886-46d5-966b-cba496e20abd' class='xr-var-data-in' type='checkbox'><label for='data-2f77cb8c-f886-46d5-966b-cba496e20abd' title='Show/Hide data repr'><svg class='icon xr-icon-database'><use xlink:href='#icon-database'></use></svg></label><div class='xr-var-attrs'><dl class='xr-attrs'></dl></div><div class='xr-var-data'><pre>[8073 values with dtype=|S1]</pre></div></li><li class='xr-var-item'><div class='xr-var-name'><span>Chl_a_QFA</span></div><div class='xr-var-dims'>(N_PROF, N_LEVELS)</div><div class='xr-var-dtype'>float64</div><div class='xr-var-preview xr-preview'>...</div><input id='attrs-3aa49197-3688-4c1a-9a9c-279ecf98497f' class='xr-var-attrs-in' type='checkbox' ><label for='attrs-3aa49197-3688-4c1a-9a9c-279ecf98497f' title='Show/Hide attributes'><svg class='icon xr-icon-file-text2'><use xlink:href='#icon-file-text2'></use></svg></label><input id='data-d2301f51-c65f-4db3-9523-848f0f6724fd' class='xr-var-data-in' type='checkbox'><label for='data-d2301f51-c65f-4db3-9523-848f0f6724fd' title='Show/Hide data repr'><svg class='icon xr-icon-database'><use xlink:href='#icon-database'></use></svg></label><div class='xr-var-attrs'><dl class='xr-attrs'><dt><span>NOTES :</span></dt><dd>Variables ending in _QFA are an alternate format (double matrix instead of character array)  for the variable ending in _QF</dd></dl></div><div class='xr-var-data'><pre>[8073 values with dtype=float64]</pre></div></li><li class='xr-var-item'><div class='xr-var-name'><span>b_bp700</span></div><div class='xr-var-dims'>(N_PROF, N_LEVELS)</div><div class='xr-var-dtype'>float64</div><div class='xr-var-preview xr-preview'>...</div><input id='attrs-049bc5d2-d757-45eb-97ff-a0abeea4cf19' class='xr-var-attrs-in' type='checkbox' ><label for='attrs-049bc5d2-d757-45eb-97ff-a0abeea4cf19' title='Show/Hide attributes'><svg class='icon xr-icon-file-text2'><use xlink:href='#icon-file-text2'></use></svg></label><input id='data-e50cd3cb-868f-45d4-ba83-c6547535218a' class='xr-var-data-in' type='checkbox'><label for='data-e50cd3cb-868f-45d4-ba83-c6547535218a' title='Show/Hide data repr'><svg class='icon xr-icon-database'><use xlink:href='#icon-database'></use></svg></label><div class='xr-var-attrs'><dl class='xr-attrs'><dt><span>units :</span></dt><dd>1/m</dd></dl></div><div class='xr-var-data'><pre>[8073 values with dtype=float64]</pre></div></li><li class='xr-var-item'><div class='xr-var-name'><span>b_bp700_QF</span></div><div class='xr-var-dims'>(N_PROF, N_LEVELS)</div><div class='xr-var-dtype'>|S1</div><div class='xr-var-preview xr-preview'>...</div><input id='attrs-30328f39-7f8a-4a8c-a7c9-7d17c8598f09' class='xr-var-attrs-in' type='checkbox' disabled><label for='attrs-30328f39-7f8a-4a8c-a7c9-7d17c8598f09' title='Show/Hide attributes'><svg class='icon xr-icon-file-text2'><use xlink:href='#icon-file-text2'></use></svg></label><input id='data-fbdc5cec-b72e-4110-acc8-94735936e412' class='xr-var-data-in' type='checkbox'><label for='data-fbdc5cec-b72e-4110-acc8-94735936e412' title='Show/Hide data repr'><svg class='icon xr-icon-database'><use xlink:href='#icon-database'></use></svg></label><div class='xr-var-attrs'><dl class='xr-attrs'></dl></div><div class='xr-var-data'><pre>[8073 values with dtype=|S1]</pre></div></li><li class='xr-var-item'><div class='xr-var-name'><span>b_bp700_QFA</span></div><div class='xr-var-dims'>(N_PROF, N_LEVELS)</div><div class='xr-var-dtype'>float64</div><div class='xr-var-preview xr-preview'>...</div><input id='attrs-f8adc119-7f27-49fd-85c1-b8233da208e9' class='xr-var-attrs-in' type='checkbox' ><label for='attrs-f8adc119-7f27-49fd-85c1-b8233da208e9' title='Show/Hide attributes'><svg class='icon xr-icon-file-text2'><use xlink:href='#icon-file-text2'></use></svg></label><input id='data-13bbf749-4130-46e1-8272-b686a7dc69b6' class='xr-var-data-in' type='checkbox'><label for='data-13bbf749-4130-46e1-8272-b686a7dc69b6' title='Show/Hide data repr'><svg class='icon xr-icon-database'><use xlink:href='#icon-database'></use></svg></label><div class='xr-var-attrs'><dl class='xr-attrs'><dt><span>NOTES :</span></dt><dd>Variables ending in _QFA are an alternate format (double matrix instead of character array)  for the variable ending in _QF</dd></dl></div><div class='xr-var-data'><pre>[8073 values with dtype=float64]</pre></div></li><li class='xr-var-item'><div class='xr-var-name'><span>POC</span></div><div class='xr-var-dims'>(N_PROF, N_LEVELS)</div><div class='xr-var-dtype'>float64</div><div class='xr-var-preview xr-preview'>...</div><input id='attrs-8dc1362c-ca5c-406b-80ae-48c039bce754' class='xr-var-attrs-in' type='checkbox' ><label for='attrs-8dc1362c-ca5c-406b-80ae-48c039bce754' title='Show/Hide attributes'><svg class='icon xr-icon-file-text2'><use xlink:href='#icon-file-text2'></use></svg></label><input id='data-1a6f32d9-e07f-408e-88b4-1ccf96eddb41' class='xr-var-data-in' type='checkbox'><label for='data-1a6f32d9-e07f-408e-88b4-1ccf96eddb41' title='Show/Hide data repr'><svg class='icon xr-icon-database'><use xlink:href='#icon-database'></use></svg></label><div class='xr-var-attrs'><dl class='xr-attrs'><dt><span>units :</span></dt><dd>mmol/m^3</dd></dl></div><div class='xr-var-data'><pre>[8073 values with dtype=float64]</pre></div></li><li class='xr-var-item'><div class='xr-var-name'><span>POC_QF</span></div><div class='xr-var-dims'>(N_PROF, N_LEVELS)</div><div class='xr-var-dtype'>|S1</div><div class='xr-var-preview xr-preview'>...</div><input id='attrs-95affc95-da6b-4ab1-bdfe-091c170ab4a5' class='xr-var-attrs-in' type='checkbox' disabled><label for='attrs-95affc95-da6b-4ab1-bdfe-091c170ab4a5' title='Show/Hide attributes'><svg class='icon xr-icon-file-text2'><use xlink:href='#icon-file-text2'></use></svg></label><input id='data-2eb63837-e4ad-488d-8018-4fe975554fc9' class='xr-var-data-in' type='checkbox'><label for='data-2eb63837-e4ad-488d-8018-4fe975554fc9' title='Show/Hide data repr'><svg class='icon xr-icon-database'><use xlink:href='#icon-database'></use></svg></label><div class='xr-var-attrs'><dl class='xr-attrs'></dl></div><div class='xr-var-data'><pre>[8073 values with dtype=|S1]</pre></div></li><li class='xr-var-item'><div class='xr-var-name'><span>POC_QFA</span></div><div class='xr-var-dims'>(N_PROF, N_LEVELS)</div><div class='xr-var-dtype'>float64</div><div class='xr-var-preview xr-preview'>...</div><input id='attrs-c69ee73c-ad74-44f9-b830-61245f050e2c' class='xr-var-attrs-in' type='checkbox' ><label for='attrs-c69ee73c-ad74-44f9-b830-61245f050e2c' title='Show/Hide attributes'><svg class='icon xr-icon-file-text2'><use xlink:href='#icon-file-text2'></use></svg></label><input id='data-2ccbaaab-3b75-4d46-85dd-d3bf742f1e8c' class='xr-var-data-in' type='checkbox'><label for='data-2ccbaaab-3b75-4d46-85dd-d3bf742f1e8c' title='Show/Hide data repr'><svg class='icon xr-icon-database'><use xlink:href='#icon-database'></use></svg></label><div class='xr-var-attrs'><dl class='xr-attrs'><dt><span>NOTES :</span></dt><dd>Variables ending in _QFA are an alternate format (double matrix instead of character array)  for the variable ending in _QF</dd></dl></div><div class='xr-var-data'><pre>[8073 values with dtype=float64]</pre></div></li><li class='xr-var-item'><div class='xr-var-name'><span>pHinsitu</span></div><div class='xr-var-dims'>(N_PROF, N_LEVELS)</div><div class='xr-var-dtype'>float64</div><div class='xr-var-preview xr-preview'>...</div><input id='attrs-173247a3-cc59-4ddc-9e1d-a4a51cabcb04' class='xr-var-attrs-in' type='checkbox' ><label for='attrs-173247a3-cc59-4ddc-9e1d-a4a51cabcb04' title='Show/Hide attributes'><svg class='icon xr-icon-file-text2'><use xlink:href='#icon-file-text2'></use></svg></label><input id='data-f92f40ef-d45e-4665-a78f-f4972066d385' class='xr-var-data-in' type='checkbox'><label for='data-f92f40ef-d45e-4665-a78f-f4972066d385' title='Show/Hide data repr'><svg class='icon xr-icon-database'><use xlink:href='#icon-database'></use></svg></label><div class='xr-var-attrs'><dl class='xr-attrs'><dt><span>units :</span></dt><dd>Total</dd></dl></div><div class='xr-var-data'><pre>[8073 values with dtype=float64]</pre></div></li><li class='xr-var-item'><div class='xr-var-name'><span>pHinsitu_QF</span></div><div class='xr-var-dims'>(N_PROF, N_LEVELS)</div><div class='xr-var-dtype'>|S1</div><div class='xr-var-preview xr-preview'>...</div><input id='attrs-a349c436-095c-45f1-97db-70c31c3555dc' class='xr-var-attrs-in' type='checkbox' disabled><label for='attrs-a349c436-095c-45f1-97db-70c31c3555dc' title='Show/Hide attributes'><svg class='icon xr-icon-file-text2'><use xlink:href='#icon-file-text2'></use></svg></label><input id='data-327f39be-710d-4915-bb38-173c4ab89f78' class='xr-var-data-in' type='checkbox'><label for='data-327f39be-710d-4915-bb38-173c4ab89f78' title='Show/Hide data repr'><svg class='icon xr-icon-database'><use xlink:href='#icon-database'></use></svg></label><div class='xr-var-attrs'><dl class='xr-attrs'></dl></div><div class='xr-var-data'><pre>[8073 values with dtype=|S1]</pre></div></li><li class='xr-var-item'><div class='xr-var-name'><span>pHinsitu_QFA</span></div><div class='xr-var-dims'>(N_PROF, N_LEVELS)</div><div class='xr-var-dtype'>float64</div><div class='xr-var-preview xr-preview'>...</div><input id='attrs-07419ad4-8483-4cfc-81c8-dd743fa95c9e' class='xr-var-attrs-in' type='checkbox' ><label for='attrs-07419ad4-8483-4cfc-81c8-dd743fa95c9e' title='Show/Hide attributes'><svg class='icon xr-icon-file-text2'><use xlink:href='#icon-file-text2'></use></svg></label><input id='data-4b5e4bde-c5eb-4dd5-b24b-7b9cac62cb06' class='xr-var-data-in' type='checkbox'><label for='data-4b5e4bde-c5eb-4dd5-b24b-7b9cac62cb06' title='Show/Hide data repr'><svg class='icon xr-icon-database'><use xlink:href='#icon-database'></use></svg></label><div class='xr-var-attrs'><dl class='xr-attrs'><dt><span>NOTES :</span></dt><dd>Variables ending in _QFA are an alternate format (double matrix instead of character array)  for the variable ending in _QF</dd></dl></div><div class='xr-var-data'><pre>[8073 values with dtype=float64]</pre></div></li><li class='xr-var-item'><div class='xr-var-name'><span>pH25C</span></div><div class='xr-var-dims'>(N_PROF, N_LEVELS)</div><div class='xr-var-dtype'>float64</div><div class='xr-var-preview xr-preview'>...</div><input id='attrs-6fdd9fde-c302-4148-9c1b-66025b4acc65' class='xr-var-attrs-in' type='checkbox' ><label for='attrs-6fdd9fde-c302-4148-9c1b-66025b4acc65' title='Show/Hide attributes'><svg class='icon xr-icon-file-text2'><use xlink:href='#icon-file-text2'></use></svg></label><input id='data-ce737cdb-eb2a-4b82-9191-21cb91a1adad' class='xr-var-data-in' type='checkbox'><label for='data-ce737cdb-eb2a-4b82-9191-21cb91a1adad' title='Show/Hide data repr'><svg class='icon xr-icon-database'><use xlink:href='#icon-database'></use></svg></label><div class='xr-var-attrs'><dl class='xr-attrs'><dt><span>units :</span></dt><dd>Total</dd></dl></div><div class='xr-var-data'><pre>[8073 values with dtype=float64]</pre></div></li><li class='xr-var-item'><div class='xr-var-name'><span>pH25C_QF</span></div><div class='xr-var-dims'>(N_PROF, N_LEVELS)</div><div class='xr-var-dtype'>|S1</div><div class='xr-var-preview xr-preview'>...</div><input id='attrs-4680e578-32ed-4483-9f20-e2c73dddd334' class='xr-var-attrs-in' type='checkbox' disabled><label for='attrs-4680e578-32ed-4483-9f20-e2c73dddd334' title='Show/Hide attributes'><svg class='icon xr-icon-file-text2'><use xlink:href='#icon-file-text2'></use></svg></label><input id='data-68ae916c-0888-46a3-aecc-9f592e255928' class='xr-var-data-in' type='checkbox'><label for='data-68ae916c-0888-46a3-aecc-9f592e255928' title='Show/Hide data repr'><svg class='icon xr-icon-database'><use xlink:href='#icon-database'></use></svg></label><div class='xr-var-attrs'><dl class='xr-attrs'></dl></div><div class='xr-var-data'><pre>[8073 values with dtype=|S1]</pre></div></li><li class='xr-var-item'><div class='xr-var-name'><span>pH25C_QFA</span></div><div class='xr-var-dims'>(N_PROF, N_LEVELS)</div><div class='xr-var-dtype'>float64</div><div class='xr-var-preview xr-preview'>...</div><input id='attrs-c0dbe472-d949-4e85-ad50-f4ac03dc29be' class='xr-var-attrs-in' type='checkbox' ><label for='attrs-c0dbe472-d949-4e85-ad50-f4ac03dc29be' title='Show/Hide attributes'><svg class='icon xr-icon-file-text2'><use xlink:href='#icon-file-text2'></use></svg></label><input id='data-410ca81a-b847-45e8-93b7-f3ba85bb1c76' class='xr-var-data-in' type='checkbox'><label for='data-410ca81a-b847-45e8-93b7-f3ba85bb1c76' title='Show/Hide data repr'><svg class='icon xr-icon-database'><use xlink:href='#icon-database'></use></svg></label><div class='xr-var-attrs'><dl class='xr-attrs'><dt><span>NOTES :</span></dt><dd>Variables ending in _QFA are an alternate format (double matrix instead of character array)  for the variable ending in _QF</dd></dl></div><div class='xr-var-data'><pre>[8073 values with dtype=float64]</pre></div></li><li class='xr-var-item'><div class='xr-var-name'><span>TALK_LIAR</span></div><div class='xr-var-dims'>(N_PROF, N_LEVELS)</div><div class='xr-var-dtype'>float64</div><div class='xr-var-preview xr-preview'>...</div><input id='attrs-f6e2868a-888f-499d-95be-033b765bbce0' class='xr-var-attrs-in' type='checkbox' ><label for='attrs-f6e2868a-888f-499d-95be-033b765bbce0' title='Show/Hide attributes'><svg class='icon xr-icon-file-text2'><use xlink:href='#icon-file-text2'></use></svg></label><input id='data-5183035d-6ea4-446e-91df-1365fd9b5172' class='xr-var-data-in' type='checkbox'><label for='data-5183035d-6ea4-446e-91df-1365fd9b5172' title='Show/Hide data repr'><svg class='icon xr-icon-database'><use xlink:href='#icon-database'></use></svg></label><div class='xr-var-attrs'><dl class='xr-attrs'><dt><span>units :</span></dt><dd>umol/kg</dd></dl></div><div class='xr-var-data'><pre>[8073 values with dtype=float64]</pre></div></li><li class='xr-var-item'><div class='xr-var-name'><span>TALK_LIAR_QF</span></div><div class='xr-var-dims'>(N_PROF, N_LEVELS)</div><div class='xr-var-dtype'>|S1</div><div class='xr-var-preview xr-preview'>...</div><input id='attrs-3b82b917-9259-4365-a5f8-cef0819d55c6' class='xr-var-attrs-in' type='checkbox' disabled><label for='attrs-3b82b917-9259-4365-a5f8-cef0819d55c6' title='Show/Hide attributes'><svg class='icon xr-icon-file-text2'><use xlink:href='#icon-file-text2'></use></svg></label><input id='data-26d8f564-af30-4210-8fc7-19de98f672b1' class='xr-var-data-in' type='checkbox'><label for='data-26d8f564-af30-4210-8fc7-19de98f672b1' title='Show/Hide data repr'><svg class='icon xr-icon-database'><use xlink:href='#icon-database'></use></svg></label><div class='xr-var-attrs'><dl class='xr-attrs'></dl></div><div class='xr-var-data'><pre>[8073 values with dtype=|S1]</pre></div></li><li class='xr-var-item'><div class='xr-var-name'><span>TALK_LIAR_QFA</span></div><div class='xr-var-dims'>(N_PROF, N_LEVELS)</div><div class='xr-var-dtype'>float64</div><div class='xr-var-preview xr-preview'>...</div><input id='attrs-01c613f5-19b9-41e8-b759-0126c41e0730' class='xr-var-attrs-in' type='checkbox' ><label for='attrs-01c613f5-19b9-41e8-b759-0126c41e0730' title='Show/Hide attributes'><svg class='icon xr-icon-file-text2'><use xlink:href='#icon-file-text2'></use></svg></label><input id='data-86efb08d-c124-4920-a77a-f9854809a275' class='xr-var-data-in' type='checkbox'><label for='data-86efb08d-c124-4920-a77a-f9854809a275' title='Show/Hide data repr'><svg class='icon xr-icon-database'><use xlink:href='#icon-database'></use></svg></label><div class='xr-var-attrs'><dl class='xr-attrs'><dt><span>NOTES :</span></dt><dd>Variables ending in _QFA are an alternate format (double matrix instead of character array)  for the variable ending in _QF</dd></dl></div><div class='xr-var-data'><pre>[8073 values with dtype=float64]</pre></div></li><li class='xr-var-item'><div class='xr-var-name'><span>DIC_LIAR</span></div><div class='xr-var-dims'>(N_PROF, N_LEVELS)</div><div class='xr-var-dtype'>float64</div><div class='xr-var-preview xr-preview'>...</div><input id='attrs-bae4fc95-de99-45ba-8704-307e6b943ee1' class='xr-var-attrs-in' type='checkbox' ><label for='attrs-bae4fc95-de99-45ba-8704-307e6b943ee1' title='Show/Hide attributes'><svg class='icon xr-icon-file-text2'><use xlink:href='#icon-file-text2'></use></svg></label><input id='data-b4889b15-e7c5-4f57-86d2-b1e6f647cf7c' class='xr-var-data-in' type='checkbox'><label for='data-b4889b15-e7c5-4f57-86d2-b1e6f647cf7c' title='Show/Hide data repr'><svg class='icon xr-icon-database'><use xlink:href='#icon-database'></use></svg></label><div class='xr-var-attrs'><dl class='xr-attrs'><dt><span>units :</span></dt><dd>umol/kg</dd></dl></div><div class='xr-var-data'><pre>[8073 values with dtype=float64]</pre></div></li><li class='xr-var-item'><div class='xr-var-name'><span>DIC_LIAR_QF</span></div><div class='xr-var-dims'>(N_PROF, N_LEVELS)</div><div class='xr-var-dtype'>|S1</div><div class='xr-var-preview xr-preview'>...</div><input id='attrs-3762eeb9-ef8d-4477-99ad-cb81d248fc70' class='xr-var-attrs-in' type='checkbox' disabled><label for='attrs-3762eeb9-ef8d-4477-99ad-cb81d248fc70' title='Show/Hide attributes'><svg class='icon xr-icon-file-text2'><use xlink:href='#icon-file-text2'></use></svg></label><input id='data-65e2d12c-2d6c-4019-9b53-afcaf403a70d' class='xr-var-data-in' type='checkbox'><label for='data-65e2d12c-2d6c-4019-9b53-afcaf403a70d' title='Show/Hide data repr'><svg class='icon xr-icon-database'><use xlink:href='#icon-database'></use></svg></label><div class='xr-var-attrs'><dl class='xr-attrs'></dl></div><div class='xr-var-data'><pre>[8073 values with dtype=|S1]</pre></div></li><li class='xr-var-item'><div class='xr-var-name'><span>DIC_LIAR_QFA</span></div><div class='xr-var-dims'>(N_PROF, N_LEVELS)</div><div class='xr-var-dtype'>float64</div><div class='xr-var-preview xr-preview'>...</div><input id='attrs-a745a088-d87e-4b36-9a45-c0a47b2ba95c' class='xr-var-attrs-in' type='checkbox' ><label for='attrs-a745a088-d87e-4b36-9a45-c0a47b2ba95c' title='Show/Hide attributes'><svg class='icon xr-icon-file-text2'><use xlink:href='#icon-file-text2'></use></svg></label><input id='data-046624b0-6949-48c2-82bf-a3b5ae552fe0' class='xr-var-data-in' type='checkbox'><label for='data-046624b0-6949-48c2-82bf-a3b5ae552fe0' title='Show/Hide data repr'><svg class='icon xr-icon-database'><use xlink:href='#icon-database'></use></svg></label><div class='xr-var-attrs'><dl class='xr-attrs'><dt><span>NOTES :</span></dt><dd>Variables ending in _QFA are an alternate format (double matrix instead of character array)  for the variable ending in _QF</dd></dl></div><div class='xr-var-data'><pre>[8073 values with dtype=float64]</pre></div></li><li class='xr-var-item'><div class='xr-var-name'><span>pCO2_LIAR</span></div><div class='xr-var-dims'>(N_PROF, N_LEVELS)</div><div class='xr-var-dtype'>float64</div><div class='xr-var-preview xr-preview'>...</div><input id='attrs-40d63333-adac-4d95-9241-a3f490c42cbf' class='xr-var-attrs-in' type='checkbox' ><label for='attrs-40d63333-adac-4d95-9241-a3f490c42cbf' title='Show/Hide attributes'><svg class='icon xr-icon-file-text2'><use xlink:href='#icon-file-text2'></use></svg></label><input id='data-cd49804c-648f-470f-b7c8-3422b58b1cfc' class='xr-var-data-in' type='checkbox'><label for='data-cd49804c-648f-470f-b7c8-3422b58b1cfc' title='Show/Hide data repr'><svg class='icon xr-icon-database'><use xlink:href='#icon-database'></use></svg></label><div class='xr-var-attrs'><dl class='xr-attrs'><dt><span>units :</span></dt><dd>uatm</dd></dl></div><div class='xr-var-data'><pre>[8073 values with dtype=float64]</pre></div></li><li class='xr-var-item'><div class='xr-var-name'><span>pCO2_LIAR_QF</span></div><div class='xr-var-dims'>(N_PROF, N_LEVELS)</div><div class='xr-var-dtype'>|S1</div><div class='xr-var-preview xr-preview'>...</div><input id='attrs-c9d4e8f2-bb4f-4ec6-9a4d-d752485663a9' class='xr-var-attrs-in' type='checkbox' disabled><label for='attrs-c9d4e8f2-bb4f-4ec6-9a4d-d752485663a9' title='Show/Hide attributes'><svg class='icon xr-icon-file-text2'><use xlink:href='#icon-file-text2'></use></svg></label><input id='data-5b2ce99f-c7ab-4552-9844-b0730124fe33' class='xr-var-data-in' type='checkbox'><label for='data-5b2ce99f-c7ab-4552-9844-b0730124fe33' title='Show/Hide data repr'><svg class='icon xr-icon-database'><use xlink:href='#icon-database'></use></svg></label><div class='xr-var-attrs'><dl class='xr-attrs'></dl></div><div class='xr-var-data'><pre>[8073 values with dtype=|S1]</pre></div></li><li class='xr-var-item'><div class='xr-var-name'><span>pCO2_LIAR_QFA</span></div><div class='xr-var-dims'>(N_PROF, N_LEVELS)</div><div class='xr-var-dtype'>float64</div><div class='xr-var-preview xr-preview'>...</div><input id='attrs-4055a242-106a-4c6d-8a93-41db03145fa0' class='xr-var-attrs-in' type='checkbox' ><label for='attrs-4055a242-106a-4c6d-8a93-41db03145fa0' title='Show/Hide attributes'><svg class='icon xr-icon-file-text2'><use xlink:href='#icon-file-text2'></use></svg></label><input id='data-e20f33b5-1c09-4c4b-bbb0-5d2882fd4557' class='xr-var-data-in' type='checkbox'><label for='data-e20f33b5-1c09-4c4b-bbb0-5d2882fd4557' title='Show/Hide data repr'><svg class='icon xr-icon-database'><use xlink:href='#icon-database'></use></svg></label><div class='xr-var-attrs'><dl class='xr-attrs'><dt><span>NOTES :</span></dt><dd>Variables ending in _QFA are an alternate format (double matrix instead of character array)  for the variable ending in _QF</dd></dl></div><div class='xr-var-data'><pre>[8073 values with dtype=float64]</pre></div></li><li class='xr-var-item'><div class='xr-var-name'><span>Type</span></div><div class='xr-var-dims'>()</div><div class='xr-var-dtype'>|S1</div><div class='xr-var-preview xr-preview'>...</div><input id='attrs-3ab5d468-0f3f-4968-b87f-45f23a895166' class='xr-var-attrs-in' type='checkbox' disabled><label for='attrs-3ab5d468-0f3f-4968-b87f-45f23a895166' title='Show/Hide attributes'><svg class='icon xr-icon-file-text2'><use xlink:href='#icon-file-text2'></use></svg></label><input id='data-f1a58c40-2902-4ac9-a8a9-d962718571ae' class='xr-var-data-in' type='checkbox'><label for='data-f1a58c40-2902-4ac9-a8a9-d962718571ae' title='Show/Hide data repr'><svg class='icon xr-icon-database'><use xlink:href='#icon-database'></use></svg></label><div class='xr-var-attrs'><dl class='xr-attrs'></dl></div><div class='xr-var-data'><pre>[1 values with dtype=|S1]</pre></div></li><li class='xr-var-item'><div class='xr-var-name'><span>mon_day_yr</span></div><div class='xr-var-dims'>(N_PROF)</div><div class='xr-var-dtype'>|S10</div><div class='xr-var-preview xr-preview'>...</div><input id='attrs-101652f7-70d5-436e-8b34-fcfd776d6bf0' class='xr-var-attrs-in' type='checkbox' disabled><label for='attrs-101652f7-70d5-436e-8b34-fcfd776d6bf0' title='Show/Hide attributes'><svg class='icon xr-icon-file-text2'><use xlink:href='#icon-file-text2'></use></svg></label><input id='data-12ce6373-9781-44b0-8b08-fe8917b5f348' class='xr-var-data-in' type='checkbox'><label for='data-12ce6373-9781-44b0-8b08-fe8917b5f348' title='Show/Hide data repr'><svg class='icon xr-icon-database'><use xlink:href='#icon-database'></use></svg></label><div class='xr-var-attrs'><dl class='xr-attrs'></dl></div><div class='xr-var-data'><pre>[117 values with dtype=|S10]</pre></div></li><li class='xr-var-item'><div class='xr-var-name'><span>hh_mm</span></div><div class='xr-var-dims'>(N_PROF)</div><div class='xr-var-dtype'>|S5</div><div class='xr-var-preview xr-preview'>...</div><input id='attrs-9263eb7a-ef19-4be0-82c3-8a29e0baf9ab' class='xr-var-attrs-in' type='checkbox' disabled><label for='attrs-9263eb7a-ef19-4be0-82c3-8a29e0baf9ab' title='Show/Hide attributes'><svg class='icon xr-icon-file-text2'><use xlink:href='#icon-file-text2'></use></svg></label><input id='data-60fc2465-b583-49b3-89e0-8396b44e79f4' class='xr-var-data-in' type='checkbox'><label for='data-60fc2465-b583-49b3-89e0-8396b44e79f4' title='Show/Hide data repr'><svg class='icon xr-icon-database'><use xlink:href='#icon-database'></use></svg></label><div class='xr-var-attrs'><dl class='xr-attrs'></dl></div><div class='xr-var-data'><pre>[117 values with dtype=|S5]</pre></div></li><li class='xr-var-item'><div class='xr-var-name'><span>Parameters</span></div><div class='xr-var-dims'>(NPARAMETER)</div><div class='xr-var-dtype'>|S19</div><div class='xr-var-preview xr-preview'>...</div><input id='attrs-ea57df51-931a-49e1-b6f4-150329f0df8a' class='xr-var-attrs-in' type='checkbox' ><label for='attrs-ea57df51-931a-49e1-b6f4-150329f0df8a' title='Show/Hide attributes'><svg class='icon xr-icon-file-text2'><use xlink:href='#icon-file-text2'></use></svg></label><input id='data-d3a3a98d-31ad-43eb-ab1d-360a04132e33' class='xr-var-data-in' type='checkbox'><label for='data-d3a3a98d-31ad-43eb-ab1d-360a04132e33' title='Show/Hide data repr'><svg class='icon xr-icon-database'><use xlink:href='#icon-database'></use></svg></label><div class='xr-var-attrs'><dl class='xr-attrs'><dt><span>NOTES :</span></dt><dd>Parameters is not a FloatViz variable. Parameters lists parameters in the original FloatViz file, in the same column order. JULD is not a variable in the original FloatViz file.</dd></dl></div><div class='xr-var-data'><pre>[42 values with dtype=|S19]</pre></div></li><li class='xr-var-item'><div class='xr-var-name'><span>JULD</span></div><div class='xr-var-dims'>(N_PROF)</div><div class='xr-var-dtype'>float64</div><div class='xr-var-preview xr-preview'>...</div><input id='attrs-48757896-3c0e-4f27-9f6b-9cca64aa6bed' class='xr-var-attrs-in' type='checkbox' ><label for='attrs-48757896-3c0e-4f27-9f6b-9cca64aa6bed' title='Show/Hide attributes'><svg class='icon xr-icon-file-text2'><use xlink:href='#icon-file-text2'></use></svg></label><input id='data-04789396-012a-42f5-8a2d-9b15ee84c194' class='xr-var-data-in' type='checkbox'><label for='data-04789396-012a-42f5-8a2d-9b15ee84c194' title='Show/Hide data repr'><svg class='icon xr-icon-database'><use xlink:href='#icon-database'></use></svg></label><div class='xr-var-attrs'><dl class='xr-attrs'><dt><span>long_name :</span></dt><dd>Julian day (UTC) of the station relative to REFERENCE_DATE_TIME</dd><dt><span>standard_name :</span></dt><dd>time</dd><dt><span>units :</span></dt><dd>days since 1950-01-01 00:00:00 UTC</dd><dt><span>conventions :</span></dt><dd>Relative julian days with decimal part (as parts of day)</dd><dt><span>NOTES :</span></dt><dd>JULD not a FloatViz variable,  but added for convenience and for similarity to ARGO-type files.</dd></dl></div><div class='xr-var-data'><pre>[117 values with dtype=float64]</pre></div></li><li class='xr-var-item'><div class='xr-var-name'><span>REFERENCE_DATE_TIME</span></div><div class='xr-var-dims'>()</div><div class='xr-var-dtype'>object</div><div class='xr-var-preview xr-preview'>...</div><input id='attrs-d8431db8-11c3-4d69-b1e2-c8404a034dfc' class='xr-var-attrs-in' type='checkbox' ><label for='attrs-d8431db8-11c3-4d69-b1e2-c8404a034dfc' title='Show/Hide attributes'><svg class='icon xr-icon-file-text2'><use xlink:href='#icon-file-text2'></use></svg></label><input id='data-f61b1c61-8553-4827-af8e-b3eefcab123e' class='xr-var-data-in' type='checkbox'><label for='data-f61b1c61-8553-4827-af8e-b3eefcab123e' title='Show/Hide data repr'><svg class='icon xr-icon-database'><use xlink:href='#icon-database'></use></svg></label><div class='xr-var-attrs'><dl class='xr-attrs'><dt><span>long_name :</span></dt><dd>Date of reference for Julian days</dd><dt><span>conventions :</span></dt><dd>YYYYMMDDHHMISS</dd><dt><span>NOTES :</span></dt><dd>REFERENCE_DATE_TIME not a FloatViz variable,  but added for convenience and for similarity to ARGO-type files.</dd></dl></div><div class='xr-var-data'><pre>[1 values with dtype=object]</pre></div></li></ul></div></li><li class='xr-section-item'><input id='section-cb21aa4f-c3ec-44c2-8bfe-ae961ef4abf6' class='xr-section-summary-in' type='checkbox' disabled ><label for='section-cb21aa4f-c3ec-44c2-8bfe-ae961ef4abf6' class='xr-section-summary'  title='Expand/collapse section'>Indexes: <span>(0)</span></label><div class='xr-section-inline-details'></div><div class='xr-section-details'><ul class='xr-var-list'></ul></div></li><li class='xr-section-item'><input id='section-c7056e79-619f-4cf7-8147-52522b8fc16d' class='xr-section-summary-in' type='checkbox'  checked><label for='section-c7056e79-619f-4cf7-8147-52522b8fc16d' class='xr-section-summary' >Attributes: <span>(1)</span></label><div class='xr-section-inline-details'></div><div class='xr-section-details'><dl class='xr-attrs'><dt><span>Comments :</span></dt><dd>\n",
       "//0\n",
       "//&lt;Encoding&gt;UTF-8&lt;/Encoding&gt;\n",
       "//File updated on 08/26/2023 15:30\n",
       "//!! ADJUSTED DATA FILE !!\n",
       "//WMO ID: 5906007\n",
       "//Institution ID: 12880\n",
       "//MBARI ID: ua12880\n",
       "//Project Name: SOCCOM\n",
       "//Region: SO\n",
       "//No missing float profiles\n",
       "//Missing Float position interpolated for station(s): 93 94 95 \n",
       "//Latitude quality flag = 4 for interpolated float positions\n",
       "//Missing Float data detected for adjusted station(s): 1 \n",
       "//\n",
       "//FLOAT VARIABLES:\n",
       "//Variable Sensor Serial number Comment\n",
       "//Pressure[dbar] Sbe41cp 10444 \n",
       "//Temperature[Â°C] Sbe41cp 10444 \n",
       "//Salinity[pss] Sbe41cp 10444 \n",
       "//Sigma_theta[kg/m^3]   Potential density at the sea surface\n",
       "//Depth[m]   Depth calculated from pressure and latitude\n",
       "//Oxygen[Âµmol/kg] Aanderaa 4330 2857 \n",
       "//OxygenSat[%]   Calculation assumes atmospheric pressure= 1013.25 mbar\n",
       "//Nitrate[Âµmol/kg] ISUS Lamp#L6.A01.0148  Spec#108002 Equitech Ti probe #1703.23  MBARI ARGO float#813  DF#225  CTD#10444 \n",
       "//Chl_a[mg/m^3] FLBBAP2 4681 See: Boss, E.B. and N. HaÃ«ntjens, 2016. http://soccom.princeton.edu/sites/default/files/files/SOCCOM_2016-1_Bio-optics-primer.pdf\n",
       "//b_bp700[1/m] FLBBAP2 4681 See: Boss, E.B. and N. HaÃ«ntjens, 2016. http://soccom.princeton.edu/sites/default/files/files/SOCCOM_2016-1_Bio-optics-primer.pdf\n",
       "//POC[mmol/m^3] FLBBAP2 4681 See: Boss, E.B. and N. HaÃ«ntjens, 2016. http://soccom.princeton.edu/sites/default/files/files/SOCCOM_2016-1_Bio-optics-primer.pdf\n",
       "//pHinsitu[Total] Durafet 225 \n",
       "//pH25C[Total] Durafet 225 estimated with CO2SYS(TALK_LIAR,pHinsitu) for Matlab  see note below\n",
       "//TALK_LIAR[Âµmol/kg]   TALK_LIAR = Alkalinity estimated with the LIAR V2.2 algorithim Eqn7, MeasIDVec = [1 6 7] (PSAL, DOXY_ADJ, TEMP), (Carter et al., 2016,doi:10.1002/lom3.10087; Carter et al., 2017, https://doi.org/10.1002/lom3.10232).LIAR code used was downloaded on 10/31/2018 from https://github.com/BRCScienceProducts/LIRs.\n",
       "//DIC_LIAR[Âµmol/kg]   estimated with CO2SYS(TALK_LIAR,pHinsitu) for Matlab (see note below)\n",
       "//pCO2_LIAR[Âµatm]   estimated with CO2SYS(TALK_LIAR,biased pHinsitu) for Matlab (see note below)\n",
       "//\n",
       "//NOTE ON CO2SYS CARBONATE SYSTEM CALCULATIONS:\n",
       "//All carbonate system variables calculated with CO2SYS for Matlab\n",
       "//(Sharp et al., 2020; see also Lewis and Wallace 1998)\n",
       "//used the following conditions: pH was reported on the total scale.\n",
       "//K1 and K2 dissociation constants were from Lueker et al., 2000, doi:\n",
       "//10.1016/S0304-4203(00)00022-0. The KSO4 dissociation constant was\n",
       "//from Dickson, 1990, doi: 10.1016/0021-9614(90)90074-Z. The KF dissociation\n",
       "//constant was from Perez and Fraga 1987, doi: 10.1016/0304-4203(87)90036-3.\n",
       "//The borate to salinity ratio was from Lee et al., 2010,\n",
       "//doi:10.1016/j.gca.2009.12.027. Silicate and Phosphate were not\n",
       "//measured by the float, but estimates based on Redfieldian ratios improved\n",
       "//the carbonate system estimates. If a nitrate value was considered to\n",
       "//be of good quality silicate = nitrate*2.5 and phosphate = nitrate/16,\n",
       "//otherwise the best estimate for both was considered to be 0. When pCO2\n",
       "//was estimated from TALK_LIAR and pHinsitu, a bias was first added to pHinsitu\n",
       "//following Williams et al., 2017, doi: https://doi.org/10.1002/2016GB005541 , section 3.4, equation 3.\n",
       "//This correction is not necessary for DIC and DIC is computed with the reported pH and the TALK_LIAR value.\n",
       "//\n",
       "//NOTE ON Chl_a [mg/m^3] CONCENTRATION:\n",
       "//There is community-established calibration bias of 2 for the WET Labs 413 ECO-series fluorometers\n",
       "//(Roesler et al, 2017, doi: 10.1002/lom3.10185).\n",
       "//Chl_a has been recalculated using in situ measured dark counts. Chl_a is then divided by the Roesler factor of 2.\n",
       "//Lastly, profiles with sun elevaltion &gt; 0 are corrected for NPQ (Xing et al, 2012, doi: 10.4319/lom.2012.10.483)\n",
       "//with uncorrected spikes (raw-filtered data) added back to the corrected profile.\n",
       "//\n",
       "//QUALITY CONTROLLED DATA CORRECTIONS:\n",
       "//Measurement Station Gain Offset Drift\n",
       "//Oxygen 1 1.0862 0.0000 0.0000\n",
       "//Nitrate 1 1.0000 -0.4086 -42.7354\n",
       "//Nitrate 3 1.0000 -1.6984 0.3811\n",
       "//Nitrate 117 1.0000 -0.6807 0.0000\n",
       "//pH 1 1.0000 -0.0166 0.9534\n",
       "//pH 3 1.0000 0.0156 -0.0425\n",
       "//pH 21 1.0000 -0.0256 1.0127\n",
       "//pH 23 1.0000 -0.0310 0.0272\n",
       "//pH 36 1.0000 0.0032 -0.2867\n",
       "//pH 40 1.0000 -0.0014 0.0000\n",
       "//pH 54 1.0000 -0.0151 0.0000\n",
       "//pH 69 1.0000 -0.0044 -0.0139\n",
       "//pH 107 1.0000 0.0003 0.0410\n",
       "//pH 116 1.0000 -0.0122 0.0000\n",
       "//pH 117 1.0000 -0.0055 0.0000\n",
       "//\n",
       "//Missing data value = -1e10\n",
       "//Data quality flags: 0=Good, 4=Questionable, 8=Bad, 1=Missing or not inspected \n",
       "//Note: all timestamps are in GMT. </dd></dl></div></li></ul></div></div>"
      ],
      "text/plain": [
       "<xarray.Dataset> Size: 2MB\n",
       "Dimensions:              (N_PROF: 117, N_LEVELS: 69, NPARAMETER: 42)\n",
       "Dimensions without coordinates: N_PROF, N_LEVELS, NPARAMETER\n",
       "Data variables: (12/60)\n",
       "    Cruise               |S11 11B ...\n",
       "    Station              (N_PROF) int32 468B ...\n",
       "    Lon                  (N_PROF) float64 936B ...\n",
       "    Lat                  (N_PROF) float64 936B ...\n",
       "    Lat_QF               (N_PROF) |S1 117B ...\n",
       "    Lat_QFA              (N_PROF) float64 936B ...\n",
       "    ...                   ...\n",
       "    Type                 |S1 1B ...\n",
       "    mon_day_yr           (N_PROF) |S10 1kB ...\n",
       "    hh_mm                (N_PROF) |S5 585B ...\n",
       "    Parameters           (NPARAMETER) |S19 798B ...\n",
       "    JULD                 (N_PROF) float64 936B ...\n",
       "    REFERENCE_DATE_TIME  object 8B ...\n",
       "Attributes:\n",
       "    Comments:  \\n//0\\n//<Encoding>UTF-8</Encoding>\\n//File updated on 08/26/2..."
      ]
     },
     "execution_count": 4,
     "metadata": {},
     "output_type": "execute_result"
    }
   ],
   "source": [
    "DSdict['5906007']\n"
   ]
  },
  {
   "cell_type": "code",
   "execution_count": 11,
   "metadata": {},
   "outputs": [
    {
     "data": {
      "text/plain": [
       "'/Users/sangminsong/Library/CloudStorage/OneDrive-UW/Code/2024_Pythia/SOCCOM_GO-BGC_LoResQC_LIAR_28Aug2023_netcdf/'"
      ]
     },
     "execution_count": 11,
     "metadata": {},
     "output_type": "execute_result"
    }
   ],
   "source": [
    "profile_dir"
   ]
  },
  {
   "cell_type": "code",
   "execution_count": 14,
   "metadata": {},
   "outputs": [
    {
     "ename": "ValueError",
     "evalue": "unrecognized chunk manager dask - must be one of: []",
     "output_type": "error",
     "traceback": [
      "\u001b[0;31m---------------------------------------------------------------------------\u001b[0m",
      "\u001b[0;31mValueError\u001b[0m                                Traceback (most recent call last)",
      "Cell \u001b[0;32mIn[14], line 1\u001b[0m\n\u001b[0;32m----> 1\u001b[0m \u001b[43mxr\u001b[49m\u001b[38;5;241;43m.\u001b[39;49m\u001b[43mopen_mfdataset\u001b[49m\u001b[43m(\u001b[49m\u001b[38;5;124;43m\"\u001b[39;49m\u001b[38;5;124;43m/Users/sangminsong/Library/CloudStorage/OneDrive-UW/Code/2024_Pythia/SOCCOM_GO-BGC_LoResQC_LIAR_28Aug2023_netcdf/*.nc\u001b[39;49m\u001b[38;5;124;43m\"\u001b[39;49m\u001b[43m)\u001b[49m\n",
      "File \u001b[0;32m/opt/homebrew/Caskroom/mambaforge/base/envs/sklearn-argo-dev/lib/python3.9/site-packages/xarray/backends/api.py:1054\u001b[0m, in \u001b[0;36mopen_mfdataset\u001b[0;34m(paths, chunks, concat_dim, compat, preprocess, engine, data_vars, coords, combine, parallel, join, attrs_file, combine_attrs, **kwargs)\u001b[0m\n\u001b[1;32m   1051\u001b[0m     open_ \u001b[38;5;241m=\u001b[39m open_dataset\n\u001b[1;32m   1052\u001b[0m     getattr_ \u001b[38;5;241m=\u001b[39m \u001b[38;5;28mgetattr\u001b[39m\n\u001b[0;32m-> 1054\u001b[0m datasets \u001b[38;5;241m=\u001b[39m [open_(p, \u001b[38;5;241m*\u001b[39m\u001b[38;5;241m*\u001b[39mopen_kwargs) \u001b[38;5;28;01mfor\u001b[39;00m p \u001b[38;5;129;01min\u001b[39;00m paths]\n\u001b[1;32m   1055\u001b[0m closers \u001b[38;5;241m=\u001b[39m [getattr_(ds, \u001b[38;5;124m\"\u001b[39m\u001b[38;5;124m_close\u001b[39m\u001b[38;5;124m\"\u001b[39m) \u001b[38;5;28;01mfor\u001b[39;00m ds \u001b[38;5;129;01min\u001b[39;00m datasets]\n\u001b[1;32m   1056\u001b[0m \u001b[38;5;28;01mif\u001b[39;00m preprocess \u001b[38;5;129;01mis\u001b[39;00m \u001b[38;5;129;01mnot\u001b[39;00m \u001b[38;5;28;01mNone\u001b[39;00m:\n",
      "File \u001b[0;32m/opt/homebrew/Caskroom/mambaforge/base/envs/sklearn-argo-dev/lib/python3.9/site-packages/xarray/backends/api.py:1054\u001b[0m, in \u001b[0;36m<listcomp>\u001b[0;34m(.0)\u001b[0m\n\u001b[1;32m   1051\u001b[0m     open_ \u001b[38;5;241m=\u001b[39m open_dataset\n\u001b[1;32m   1052\u001b[0m     getattr_ \u001b[38;5;241m=\u001b[39m \u001b[38;5;28mgetattr\u001b[39m\n\u001b[0;32m-> 1054\u001b[0m datasets \u001b[38;5;241m=\u001b[39m [\u001b[43mopen_\u001b[49m\u001b[43m(\u001b[49m\u001b[43mp\u001b[49m\u001b[43m,\u001b[49m\u001b[43m \u001b[49m\u001b[38;5;241;43m*\u001b[39;49m\u001b[38;5;241;43m*\u001b[39;49m\u001b[43mopen_kwargs\u001b[49m\u001b[43m)\u001b[49m \u001b[38;5;28;01mfor\u001b[39;00m p \u001b[38;5;129;01min\u001b[39;00m paths]\n\u001b[1;32m   1055\u001b[0m closers \u001b[38;5;241m=\u001b[39m [getattr_(ds, \u001b[38;5;124m\"\u001b[39m\u001b[38;5;124m_close\u001b[39m\u001b[38;5;124m\"\u001b[39m) \u001b[38;5;28;01mfor\u001b[39;00m ds \u001b[38;5;129;01min\u001b[39;00m datasets]\n\u001b[1;32m   1056\u001b[0m \u001b[38;5;28;01mif\u001b[39;00m preprocess \u001b[38;5;129;01mis\u001b[39;00m \u001b[38;5;129;01mnot\u001b[39;00m \u001b[38;5;28;01mNone\u001b[39;00m:\n",
      "File \u001b[0;32m/opt/homebrew/Caskroom/mambaforge/base/envs/sklearn-argo-dev/lib/python3.9/site-packages/xarray/backends/api.py:577\u001b[0m, in \u001b[0;36mopen_dataset\u001b[0;34m(filename_or_obj, engine, chunks, cache, decode_cf, mask_and_scale, decode_times, decode_timedelta, use_cftime, concat_characters, decode_coords, drop_variables, inline_array, chunked_array_type, from_array_kwargs, backend_kwargs, **kwargs)\u001b[0m\n\u001b[1;32m    570\u001b[0m overwrite_encoded_chunks \u001b[38;5;241m=\u001b[39m kwargs\u001b[38;5;241m.\u001b[39mpop(\u001b[38;5;124m\"\u001b[39m\u001b[38;5;124moverwrite_encoded_chunks\u001b[39m\u001b[38;5;124m\"\u001b[39m, \u001b[38;5;28;01mNone\u001b[39;00m)\n\u001b[1;32m    571\u001b[0m backend_ds \u001b[38;5;241m=\u001b[39m backend\u001b[38;5;241m.\u001b[39mopen_dataset(\n\u001b[1;32m    572\u001b[0m     filename_or_obj,\n\u001b[1;32m    573\u001b[0m     drop_variables\u001b[38;5;241m=\u001b[39mdrop_variables,\n\u001b[1;32m    574\u001b[0m     \u001b[38;5;241m*\u001b[39m\u001b[38;5;241m*\u001b[39mdecoders,\n\u001b[1;32m    575\u001b[0m     \u001b[38;5;241m*\u001b[39m\u001b[38;5;241m*\u001b[39mkwargs,\n\u001b[1;32m    576\u001b[0m )\n\u001b[0;32m--> 577\u001b[0m ds \u001b[38;5;241m=\u001b[39m \u001b[43m_dataset_from_backend_dataset\u001b[49m\u001b[43m(\u001b[49m\n\u001b[1;32m    578\u001b[0m \u001b[43m    \u001b[49m\u001b[43mbackend_ds\u001b[49m\u001b[43m,\u001b[49m\n\u001b[1;32m    579\u001b[0m \u001b[43m    \u001b[49m\u001b[43mfilename_or_obj\u001b[49m\u001b[43m,\u001b[49m\n\u001b[1;32m    580\u001b[0m \u001b[43m    \u001b[49m\u001b[43mengine\u001b[49m\u001b[43m,\u001b[49m\n\u001b[1;32m    581\u001b[0m \u001b[43m    \u001b[49m\u001b[43mchunks\u001b[49m\u001b[43m,\u001b[49m\n\u001b[1;32m    582\u001b[0m \u001b[43m    \u001b[49m\u001b[43mcache\u001b[49m\u001b[43m,\u001b[49m\n\u001b[1;32m    583\u001b[0m \u001b[43m    \u001b[49m\u001b[43moverwrite_encoded_chunks\u001b[49m\u001b[43m,\u001b[49m\n\u001b[1;32m    584\u001b[0m \u001b[43m    \u001b[49m\u001b[43minline_array\u001b[49m\u001b[43m,\u001b[49m\n\u001b[1;32m    585\u001b[0m \u001b[43m    \u001b[49m\u001b[43mchunked_array_type\u001b[49m\u001b[43m,\u001b[49m\n\u001b[1;32m    586\u001b[0m \u001b[43m    \u001b[49m\u001b[43mfrom_array_kwargs\u001b[49m\u001b[43m,\u001b[49m\n\u001b[1;32m    587\u001b[0m \u001b[43m    \u001b[49m\u001b[43mdrop_variables\u001b[49m\u001b[38;5;241;43m=\u001b[39;49m\u001b[43mdrop_variables\u001b[49m\u001b[43m,\u001b[49m\n\u001b[1;32m    588\u001b[0m \u001b[43m    \u001b[49m\u001b[38;5;241;43m*\u001b[39;49m\u001b[38;5;241;43m*\u001b[39;49m\u001b[43mdecoders\u001b[49m\u001b[43m,\u001b[49m\n\u001b[1;32m    589\u001b[0m \u001b[43m    \u001b[49m\u001b[38;5;241;43m*\u001b[39;49m\u001b[38;5;241;43m*\u001b[39;49m\u001b[43mkwargs\u001b[49m\u001b[43m,\u001b[49m\n\u001b[1;32m    590\u001b[0m \u001b[43m\u001b[49m\u001b[43m)\u001b[49m\n\u001b[1;32m    591\u001b[0m \u001b[38;5;28;01mreturn\u001b[39;00m ds\n",
      "File \u001b[0;32m/opt/homebrew/Caskroom/mambaforge/base/envs/sklearn-argo-dev/lib/python3.9/site-packages/xarray/backends/api.py:370\u001b[0m, in \u001b[0;36m_dataset_from_backend_dataset\u001b[0;34m(backend_ds, filename_or_obj, engine, chunks, cache, overwrite_encoded_chunks, inline_array, chunked_array_type, from_array_kwargs, **extra_tokens)\u001b[0m\n\u001b[1;32m    368\u001b[0m     ds \u001b[38;5;241m=\u001b[39m backend_ds\n\u001b[1;32m    369\u001b[0m \u001b[38;5;28;01melse\u001b[39;00m:\n\u001b[0;32m--> 370\u001b[0m     ds \u001b[38;5;241m=\u001b[39m \u001b[43m_chunk_ds\u001b[49m\u001b[43m(\u001b[49m\n\u001b[1;32m    371\u001b[0m \u001b[43m        \u001b[49m\u001b[43mbackend_ds\u001b[49m\u001b[43m,\u001b[49m\n\u001b[1;32m    372\u001b[0m \u001b[43m        \u001b[49m\u001b[43mfilename_or_obj\u001b[49m\u001b[43m,\u001b[49m\n\u001b[1;32m    373\u001b[0m \u001b[43m        \u001b[49m\u001b[43mengine\u001b[49m\u001b[43m,\u001b[49m\n\u001b[1;32m    374\u001b[0m \u001b[43m        \u001b[49m\u001b[43mchunks\u001b[49m\u001b[43m,\u001b[49m\n\u001b[1;32m    375\u001b[0m \u001b[43m        \u001b[49m\u001b[43moverwrite_encoded_chunks\u001b[49m\u001b[43m,\u001b[49m\n\u001b[1;32m    376\u001b[0m \u001b[43m        \u001b[49m\u001b[43minline_array\u001b[49m\u001b[43m,\u001b[49m\n\u001b[1;32m    377\u001b[0m \u001b[43m        \u001b[49m\u001b[43mchunked_array_type\u001b[49m\u001b[43m,\u001b[49m\n\u001b[1;32m    378\u001b[0m \u001b[43m        \u001b[49m\u001b[43mfrom_array_kwargs\u001b[49m\u001b[43m,\u001b[49m\n\u001b[1;32m    379\u001b[0m \u001b[43m        \u001b[49m\u001b[38;5;241;43m*\u001b[39;49m\u001b[38;5;241;43m*\u001b[39;49m\u001b[43mextra_tokens\u001b[49m\u001b[43m,\u001b[49m\n\u001b[1;32m    380\u001b[0m \u001b[43m    \u001b[49m\u001b[43m)\u001b[49m\n\u001b[1;32m    382\u001b[0m ds\u001b[38;5;241m.\u001b[39mset_close(backend_ds\u001b[38;5;241m.\u001b[39m_close)\n\u001b[1;32m    384\u001b[0m \u001b[38;5;66;03m# Ensure source filename always stored in dataset object\u001b[39;00m\n",
      "File \u001b[0;32m/opt/homebrew/Caskroom/mambaforge/base/envs/sklearn-argo-dev/lib/python3.9/site-packages/xarray/backends/api.py:318\u001b[0m, in \u001b[0;36m_chunk_ds\u001b[0;34m(backend_ds, filename_or_obj, engine, chunks, overwrite_encoded_chunks, inline_array, chunked_array_type, from_array_kwargs, **extra_tokens)\u001b[0m\n\u001b[1;32m    307\u001b[0m \u001b[38;5;28;01mdef\u001b[39;00m \u001b[38;5;21m_chunk_ds\u001b[39m(\n\u001b[1;32m    308\u001b[0m     backend_ds,\n\u001b[1;32m    309\u001b[0m     filename_or_obj,\n\u001b[0;32m   (...)\u001b[0m\n\u001b[1;32m    316\u001b[0m     \u001b[38;5;241m*\u001b[39m\u001b[38;5;241m*\u001b[39mextra_tokens,\n\u001b[1;32m    317\u001b[0m ):\n\u001b[0;32m--> 318\u001b[0m     chunkmanager \u001b[38;5;241m=\u001b[39m \u001b[43mguess_chunkmanager\u001b[49m\u001b[43m(\u001b[49m\u001b[43mchunked_array_type\u001b[49m\u001b[43m)\u001b[49m\n\u001b[1;32m    320\u001b[0m     \u001b[38;5;66;03m# TODO refactor to move this dask-specific logic inside the DaskManager class\u001b[39;00m\n\u001b[1;32m    321\u001b[0m     \u001b[38;5;28;01mif\u001b[39;00m \u001b[38;5;28misinstance\u001b[39m(chunkmanager, DaskManager):\n",
      "File \u001b[0;32m/opt/homebrew/Caskroom/mambaforge/base/envs/sklearn-argo-dev/lib/python3.9/site-packages/xarray/namedarray/parallelcompat.py:117\u001b[0m, in \u001b[0;36mguess_chunkmanager\u001b[0;34m(manager)\u001b[0m\n\u001b[1;32m    115\u001b[0m \u001b[38;5;28;01mif\u001b[39;00m \u001b[38;5;28misinstance\u001b[39m(manager, \u001b[38;5;28mstr\u001b[39m):\n\u001b[1;32m    116\u001b[0m     \u001b[38;5;28;01mif\u001b[39;00m manager \u001b[38;5;129;01mnot\u001b[39;00m \u001b[38;5;129;01min\u001b[39;00m chunkmanagers:\n\u001b[0;32m--> 117\u001b[0m         \u001b[38;5;28;01mraise\u001b[39;00m \u001b[38;5;167;01mValueError\u001b[39;00m(\n\u001b[1;32m    118\u001b[0m             \u001b[38;5;124mf\u001b[39m\u001b[38;5;124m\"\u001b[39m\u001b[38;5;124munrecognized chunk manager \u001b[39m\u001b[38;5;132;01m{\u001b[39;00mmanager\u001b[38;5;132;01m}\u001b[39;00m\u001b[38;5;124m - must be one of: \u001b[39m\u001b[38;5;132;01m{\u001b[39;00m\u001b[38;5;28mlist\u001b[39m(chunkmanagers)\u001b[38;5;132;01m}\u001b[39;00m\u001b[38;5;124m\"\u001b[39m\n\u001b[1;32m    119\u001b[0m         )\n\u001b[1;32m    121\u001b[0m     \u001b[38;5;28;01mreturn\u001b[39;00m chunkmanagers[manager]\n\u001b[1;32m    122\u001b[0m \u001b[38;5;28;01melif\u001b[39;00m \u001b[38;5;28misinstance\u001b[39m(manager, ChunkManagerEntrypoint):\n\u001b[1;32m    123\u001b[0m     \u001b[38;5;66;03m# already a valid ChunkManager so just pass through\u001b[39;00m\n",
      "\u001b[0;31mValueError\u001b[0m: unrecognized chunk manager dask - must be one of: []"
     ]
    }
   ],
   "source": [
    "# xr.open_mfdataset(\"/Users/sangminsong/Library/CloudStorage/OneDrive-UW/Code/2024_Pythia/SOCCOM_GO-BGC_LoResQC_LIAR_28Aug2023_netcdf/*.nc\")"
   ]
  },
  {
   "cell_type": "markdown",
   "metadata": {},
   "source": [
    "## Argovis"
   ]
  },
  {
   "cell_type": "markdown",
   "metadata": {},
   "source": [
    "Argovis provides an API that allows us to interact with Argo data while only downloading the exact subsets of data needed for analysis. "
   ]
  },
  {
   "cell_type": "markdown",
   "metadata": {},
   "source": [
    "### Getting started with `argovisHelpers`"
   ]
  },
  {
   "cell_type": "markdown",
   "metadata": {},
   "source": [
    "We will be using the Argovis capabilities\n",
    "\n",
    "From the Argovis tutorial: \n",
    "> In order to allocate Argovis's limited computing resources fairly, users are encouraged to register and request a free API key. This works like a password that identifies your requests to Argovis. To do so:\n",
    ">\n",
    "> - Visit [https://argovis-keygen.colorado.edu/](https://argovis-keygen.colorado.edu/)\n",
    "> - Fill out the form under _New Account Registration_\n",
    "> - An API key will be emailed to you shortly.\n",
    ">\n",
    "> Treat this API key like a password - don't share it or leave it anywhere public. If you ever forget it or accidentally reveal it to a third party, see the same website above to change or deactivate your token.\n",
    ">\n",
    "> Put your API key in the quotes in the variable below before moving on:"
   ]
  },
  {
   "cell_type": "code",
   "execution_count": 5,
   "metadata": {},
   "outputs": [],
   "source": [
    "API_ROOT='https://argovis-api.colorado.edu/'\n",
    "API_KEY='de6ee72a54bc5ca29dee5c801cab13fa4a354985'"
   ]
  },
  {
   "cell_type": "markdown",
   "metadata": {},
   "source": [
    "We set up our query parameters using a Dictionary before requesting data: "
   ]
  },
  {
   "cell_type": "code",
   "execution_count": 9,
   "metadata": {},
   "outputs": [
    {
     "data": {
      "text/plain": [
       "{'_id': '1901820_256',\n",
       " 'geolocation': {'type': 'Point', 'coordinates': [-22.75594, -0.2218]},\n",
       " 'basin': 1,\n",
       " 'timestamp': '2023-04-09T18:34:30.001Z',\n",
       " 'date_updated_argovis': '2023-07-14T10:44:14.125Z',\n",
       " 'source': [{'source': ['argo_core'],\n",
       "   'url': 'ftp://ftp.ifremer.fr/ifremer/argo/dac/aoml/1901820/profiles/R1901820_256.nc',\n",
       "   'date_updated': '2023-07-13T22:33:14.000Z'}],\n",
       " 'cycle_number': 256,\n",
       " 'geolocation_argoqc': 1,\n",
       " 'profile_direction': 'A',\n",
       " 'timestamp_argoqc': 1,\n",
       " 'vertical_sampling_scheme': 'Primary sampling: averaged [nominal 2 dbar binned data sampled at 0.5 Hz from a SBE41CP]',\n",
       " 'data_info': [['pressure',\n",
       "   'pressure_argoqc',\n",
       "   'salinity',\n",
       "   'salinity_argoqc',\n",
       "   'temperature',\n",
       "   'temperature_argoqc'],\n",
       "  ['units', 'data_keys_mode'],\n",
       "  [['decibar', 'A'],\n",
       "   [None, None],\n",
       "   ['psu', 'A'],\n",
       "   [None, None],\n",
       "   ['degree_Celsius', 'A'],\n",
       "   [None, None]]],\n",
       " 'metadata': ['1901820_m0']}"
      ]
     },
     "execution_count": 9,
     "metadata": {},
     "output_type": "execute_result"
    }
   ],
   "source": [
    "argoSearch = {\n",
    "    'startDate': '2013-05-01T00:00:00Z',\n",
    "    'endDate': '2023-05-01T00:00:00Z',\n",
    "    'center': '-22.5,0',\n",
    "    'radius': 100\n",
    "}\n",
    "\n",
    "argoProfiles = avh.query('argo', options=argoSearch, apikey=API_KEY, apiroot=API_ROOT)\n",
    "argoProfiles[0]"
   ]
  },
  {
   "cell_type": "markdown",
   "metadata": {},
   "source": [
    "Note that the first object in argoProfiles is a single vertical Argo \"profile\". \n",
    "The first 7 digits of `argoProfiles[0]['_id']` refer to a float's WMO unique identification number. \n",
    "The last three digits are the profile number. \n",
    "\n",
    "In the above example, we are looking at data from the 256th profile from float WMO #1901820."
   ]
  },
  {
   "cell_type": "code",
   "execution_count": 13,
   "metadata": {},
   "outputs": [
    {
     "data": {
      "text/plain": [
       "'1901820_256'"
      ]
     },
     "execution_count": 13,
     "metadata": {},
     "output_type": "execute_result"
    }
   ],
   "source": [
    "argoProfiles[0]['_id']"
   ]
  },
  {
   "cell_type": "markdown",
   "metadata": {},
   "source": [
    "We can also request metadata using the argo/meta "
   ]
  },
  {
   "cell_type": "code",
   "execution_count": 15,
   "metadata": {},
   "outputs": [
    {
     "data": {
      "text/plain": [
       "[{'_id': '1901820_m0',\n",
       "  'data_type': 'oceanicProfile',\n",
       "  'data_center': 'AO',\n",
       "  'instrument': 'profiling_float',\n",
       "  'pi_name': ['BRECK OWENS', ' STEVEN JAYNE', ' P.E. ROBBINS'],\n",
       "  'platform': '1901820',\n",
       "  'platform_type': 'S2A',\n",
       "  'fleetmonitoring': 'https://fleetmonitoring.euro-argo.eu/float/1901820',\n",
       "  'oceanops': 'https://www.ocean-ops.org/board/wa/Platform?ref=1901820',\n",
       "  'positioning_system': 'GPS',\n",
       "  'wmo_inst_type': '854'}]"
      ]
     },
     "execution_count": 15,
     "metadata": {},
     "output_type": "execute_result"
    }
   ],
   "source": [
    "metaOptions = {\n",
    "    'id': argoProfiles[0]['metadata'][0]\n",
    "}\n",
    "\n",
    "argoMeta = avh.query('argo/meta', options=metaOptions, apikey=API_KEY, apiroot=API_ROOT)\n",
    "argoMeta"
   ]
  },
  {
   "cell_type": "code",
   "execution_count": 16,
   "metadata": {},
   "outputs": [
    {
     "name": "stdout",
     "output_type": "stream",
     "text": [
      "301\n"
     ]
    }
   ],
   "source": [
    "platformSearch = {\n",
    "    'platform': argoMeta[0]['platform']\n",
    "}\n",
    "\n",
    "platformProfiles = avh.query('argo', options=platformSearch, apikey=API_KEY, apiroot=API_ROOT)\n",
    "print(len(platformProfiles))"
   ]
  },
  {
   "cell_type": "markdown",
   "metadata": {},
   "source": [
    "### Making `data` queries"
   ]
  },
  {
   "cell_type": "markdown",
   "metadata": {},
   "source": [
    "We can query float profiles within these bounds: "
   ]
  },
  {
   "cell_type": "code",
   "execution_count": 21,
   "metadata": {},
   "outputs": [],
   "source": [
    "dataQuery = {\n",
    "    'startDate': '2017-08-01T00:00:00Z',\n",
    "    'endDate': '2017-09-01T00:00:00Z',\n",
    "    'polygon': [[-150,-30],[-155,-30],[-155,-35],[-150,-35],[-150,-30]],\n",
    "    'data': 'doxy'\n",
    "}\n",
    "\n",
    "profiles = avh.query('argo', options=dataQuery, apikey=API_KEY, apiroot=API_ROOT)"
   ]
  },
  {
   "cell_type": "code",
   "execution_count": 22,
   "metadata": {},
   "outputs": [
    {
     "data": {
      "text/plain": [
       "[{'doxy': 235.335724, 'pressure': 7.6},\n",
       " {'doxy': 235.327026, 'pressure': 13.07},\n",
       " {'doxy': 235.418045, 'pressure': 17.720001},\n",
       " {'doxy': 235.212158, 'pressure': 22.02},\n",
       " {'doxy': 235.242828, 'pressure': 26.68},\n",
       " {'doxy': 235.235306, 'pressure': 31.320002},\n",
       " {'doxy': 235.273743, 'pressure': 36.709999},\n",
       " {'doxy': 235.165115, 'pressure': 41.73},\n",
       " {'doxy': 235.16153, 'pressure': 48.260002},\n",
       " {'doxy': 235.032471, 'pressure': 54.619999}]"
      ]
     },
     "execution_count": 22,
     "metadata": {},
     "output_type": "execute_result"
    }
   ],
   "source": [
    "inflated_data = avh.data_inflate(profiles[0])\n",
    "inflated_data[0:10]"
   ]
  },
  {
   "cell_type": "markdown",
   "metadata": {},
   "source": [
    "### Subsection to the second section\n",
    "\n",
    "#### a quick demonstration\n",
    "\n",
    "##### of further and further\n",
    "\n",
    "###### header levels"
   ]
  },
  {
   "cell_type": "markdown",
   "metadata": {},
   "source": [
    "as well $m = a * t / h$ text! Similarly, you have access to other $\\LaTeX$ equation [**functionality**](https://jupyter-notebook.readthedocs.io/en/stable/examples/Notebook/Typesetting%20Equations.html) via MathJax (demo below from link),\n",
    "\n",
    "\\begin{align}\n",
    "\\dot{x} & = \\sigma(y-x) \\\\\n",
    "\\dot{y} & = \\rho x - y - xz \\\\\n",
    "\\dot{z} & = -\\beta z + xy\n",
    "\\end{align}"
   ]
  },
  {
   "cell_type": "markdown",
   "metadata": {},
   "source": [
    "Check out [**any number of helpful Markdown resources**](https://www.markdownguide.org/basic-syntax/) for further customizing your notebooks and the [**Jupyter docs**](https://jupyter-notebook.readthedocs.io/en/stable/examples/Notebook/Working%20With%20Markdown%20Cells.html) for Jupyter-specific formatting information. Don't hesitate to ask questions if you have problems getting it to look *just right*."
   ]
  },
  {
   "cell_type": "markdown",
   "metadata": {},
   "source": [
    "## Last Section\n",
    "\n",
    "If you're comfortable, and as we briefly used for our embedded logo up top, you can embed raw html into Jupyter Markdown cells (edit to see):"
   ]
  },
  {
   "cell_type": "markdown",
   "metadata": {},
   "source": [
    "<div class=\"admonition alert alert-info\">\n",
    "    <p class=\"admonition-title\" style=\"font-weight:bold\">Info</p>\n",
    "    Your relevant information here!\n",
    "</div>"
   ]
  },
  {
   "cell_type": "markdown",
   "metadata": {},
   "source": [
    "Feel free to copy this around and edit or play around with yourself. Some other `admonitions` you can put in:"
   ]
  },
  {
   "cell_type": "markdown",
   "metadata": {},
   "source": [
    "<div class=\"admonition alert alert-success\">\n",
    "    <p class=\"admonition-title\" style=\"font-weight:bold\">Success</p>\n",
    "    We got this done after all!\n",
    "</div>"
   ]
  },
  {
   "cell_type": "markdown",
   "metadata": {},
   "source": [
    "<div class=\"admonition alert alert-warning\">\n",
    "    <p class=\"admonition-title\" style=\"font-weight:bold\">Warning</p>\n",
    "    Be careful!\n",
    "</div>"
   ]
  },
  {
   "cell_type": "markdown",
   "metadata": {},
   "source": [
    "<div class=\"admonition alert alert-danger\">\n",
    "    <p class=\"admonition-title\" style=\"font-weight:bold\">Danger</p>\n",
    "    Scary stuff be here.\n",
    "</div>"
   ]
  },
  {
   "cell_type": "markdown",
   "metadata": {},
   "source": [
    "We also suggest checking out Jupyter Book's [brief demonstration](https://jupyterbook.org/content/metadata.html#jupyter-cell-tags) on adding cell tags to your cells in Jupyter Notebook, Lab, or manually. Using these cell tags can allow you to [customize](https://jupyterbook.org/interactive/hiding.html) how your code content is displayed and even [demonstrate errors](https://jupyterbook.org/content/execute.html#dealing-with-code-that-raises-errors) without altogether crashing our loyal army of machines!"
   ]
  },
  {
   "cell_type": "markdown",
   "metadata": {},
   "source": [
    "---"
   ]
  },
  {
   "cell_type": "markdown",
   "metadata": {},
   "source": [
    "## Summary\n",
    "Add one final `---` marking the end of your body of content, and then conclude with a brief single paragraph summarizing at a high level the key pieces that were learned and how they tied to your objectives. Look to reiterate what the most important takeaways were.\n",
    "\n",
    "### What's next?\n",
    "Let Jupyter book tie this to the next (sequential) piece of content that people could move on to down below and in the sidebar. However, if this page uniquely enables your reader to tackle other nonsequential concepts throughout this book, or even external content, link to it here!"
   ]
  },
  {
   "cell_type": "markdown",
   "metadata": {},
   "source": [
    "## Resources and references\n",
    "Finally, be rigorous in your citations and references as necessary. Give credit where credit is due. Also, feel free to link to relevant external material, further reading, documentation, etc. Then you're done! Give yourself a quick review, a high five, and send us a pull request. A few final notes:\n",
    " - `Kernel > Restart Kernel and Run All Cells...` to confirm that your notebook will cleanly run from start to finish\n",
    " - `Kernel > Restart Kernel and Clear All Outputs...` before committing your notebook, our machines will do the heavy lifting\n",
    " - Take credit! Provide author contact information if you'd like; if so, consider adding information here at the bottom of your notebook\n",
    " - Give credit! Attribute appropriate authorship for referenced code, information, images, etc.\n",
    " - Only include what you're legally allowed: **no copyright infringement or plagiarism**\n",
    " \n",
    "Thank you for your contribution!"
   ]
  }
 ],
 "metadata": {
  "kernelspec": {
   "display_name": "Python 3 (ipykernel)",
   "language": "python",
   "name": "python3"
  },
  "language_info": {
   "codemirror_mode": {
    "name": "ipython",
    "version": 3
   },
   "file_extension": ".py",
   "mimetype": "text/x-python",
   "name": "python",
   "nbconvert_exporter": "python",
   "pygments_lexer": "ipython3",
   "version": "3.9.19"
  },
  "nbdime-conflicts": {
   "local_diff": [
    {
     "diff": [
      {
       "diff": [
        {
         "key": 0,
         "op": "addrange",
         "valuelist": [
          "Python 3"
         ]
        },
        {
         "key": 0,
         "length": 1,
         "op": "removerange"
        }
       ],
       "key": "display_name",
       "op": "patch"
      }
     ],
     "key": "kernelspec",
     "op": "patch"
    }
   ],
   "remote_diff": [
    {
     "diff": [
      {
       "diff": [
        {
         "key": 0,
         "op": "addrange",
         "valuelist": [
          "Python3"
         ]
        },
        {
         "key": 0,
         "length": 1,
         "op": "removerange"
        }
       ],
       "key": "display_name",
       "op": "patch"
      }
     ],
     "key": "kernelspec",
     "op": "patch"
    }
   ]
  },
  "toc-autonumbering": false
 },
 "nbformat": 4,
 "nbformat_minor": 4
}
